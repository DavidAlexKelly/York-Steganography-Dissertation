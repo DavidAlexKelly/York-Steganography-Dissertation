{
 "cells": [
  {
   "cell_type": "code",
   "execution_count": 1,
   "id": "b87465fe",
   "metadata": {},
   "outputs": [
    {
     "name": "stdout",
     "output_type": "stream",
     "text": [
      "importing Jupyter notebook from partitioning.ipynb\n",
      "importing Jupyter notebook from spectral_decomposition.ipynb\n",
      "importing Jupyter notebook from embedding.ipynb\n",
      "importing Jupyter notebook from retrieval.ipynb\n",
      "importing Jupyter notebook from distortion.ipynb\n",
      "importing Jupyter notebook from attacks.ipynb\n"
     ]
    }
   ],
   "source": [
    "import random\n",
    "import os\n",
    "import sys\n",
    "import time\n",
    "import meshplot as mp\n",
    "import import_ipynb\n",
    "import igl\n",
    "import matplotlib.pyplot as plt\n",
    "\n",
    "\n",
    "import partitioning\n",
    "import spectral_decomposition\n",
    "import distortion\n",
    "import attacks"
   ]
  },
  {
   "cell_type": "code",
   "execution_count": 2,
   "id": "7c862ef1",
   "metadata": {},
   "outputs": [],
   "source": [
    "def embed_and_extract(patches = 60,strength = 100,data = [0, 1]*32):\n",
    "    embed(patches,strength)\n",
    "    errors = extract(patches,strength)\n",
    "    return errors\n",
    "  "
   ]
  },
  {
   "cell_type": "code",
   "execution_count": 3,
   "id": "575f9024",
   "metadata": {},
   "outputs": [],
   "source": [
    "def embed(patches = 60,strength = 100,data = [0, 1]*32):\n",
    "\n",
    "    original_filename = \"source_models/venus.obj\"\n",
    "    watermarked_filename = \"watermarked_models/venus_strength\"+str(strength)+ \"_patches\" + str(patches) + \".obj\"\n",
    "\n",
    "    # Insertion of the watermark\n",
    "    embed_start = time.time()\n",
    "    capacity = spectral_decomposition.insert(original_filename, watermarked_filename, data, 123456, strength, patches)\n",
    "    embed_end = time.time()\n",
    "    \n",
    "    print(capacity,\" bits inserted\")\n",
    "    print(\" \")\n",
    "    print(\"Time to embed watermark: \", embed_end - embed_start)\n",
    "    print(\" \")\n",
    "    print(\" \")\n",
    "    "
   ]
  },
  {
   "cell_type": "code",
   "execution_count": 4,
   "id": "e3437578",
   "metadata": {},
   "outputs": [],
   "source": [
    "def extract(patches = 60,strength = 100,data = [0, 1]*32):\n",
    "    \n",
    "    original_filename = \"source_models/venus.obj\"\n",
    "    watermarked_filename = \"watermarked_models/venus_strength\"+str(strength)+ \"_patches\" + str(patches) + \".obj\"\n",
    "    \n",
    "     # Extraction of the watermark\n",
    "    extract_start = time.time()\n",
    "    retrieved = spectral_decomposition.extract(watermarked_filename, 123456, 64, strength, patches,original_filename)\n",
    "    extract_end = time.time()\n",
    "    \n",
    "    print(\"Time taken to embed watermark: \", extract_end - extract_start)\n",
    "    print(\" \")\n",
    "    \n",
    "    # Compute the number of errors\n",
    "    errors = 0\n",
    "    for i in range(len(data)):\n",
    "        if data[i] != retrieved[i]:\n",
    "            errors +=1\n",
    "            \n",
    "    original_mesh = igl.read_triangle_mesh(original_filename)\n",
    "    watermarked_mesh = igl.read_triangle_mesh(watermarked_filename)\n",
    "\n",
    "    rms = distortion.rms_error(original_mesh, watermarked_mesh)\n",
    "    print(\"RMS Error Computed: \",rms)\n",
    "    print(\" \")\n",
    "    \n",
    "    hausdorff = distortion.hausdorff_distance(original_mesh, watermarked_mesh)\n",
    "    print(\"Hausdorff Distance Computed: \", hausdorff)\n",
    "    print(\" \")\n",
    "    \n",
    "    smoothness = distortion.local_smoothness(original_mesh, watermarked_mesh)\n",
    "    print(\"Local Smoothness Computed \", smoothness)\n",
    "    print(\" \")\n",
    "    \n",
    "    print(\"number of errors: \", errors)\n",
    "    print(\" \")\n",
    "    \n",
    "    print(\"Original Mesh\")\n",
    "    mp.plot(original_mesh[0],original_mesh[1])\n",
    "    print(\" \")\n",
    "    \n",
    "    print(\"Watermarked Mesh\")\n",
    "    mp.plot(watermarked_mesh[0],watermarked_mesh[1])\n",
    "    \n",
    "    return errors"
   ]
  },
  {
   "cell_type": "code",
   "execution_count": 5,
   "id": "5267d4e5",
   "metadata": {},
   "outputs": [],
   "source": [
    "def noise_attack():\n",
    "    \n",
    "    data = [0, 1]*32\n",
    "    \n",
    "    patches = 20\n",
    "    strength = 5\n",
    "    amplitude = 0.001\n",
    "    \n",
    "    in_name = \"source_models/bunny.ply\"\n",
    "    filename = \"watermarked_models/bunny_strength\"+str(strength)+ \"_patches\" + str(patches) + \".ply\"\n",
    "    original_mesh = igl.read_triangle_mesh(in_name)\n",
    "\n",
    "    watermarked_mesh = igl.read_triangle_mesh(filename)\n",
    "    watermarkedVertices = watermarked_mesh[0]\n",
    "    watermarkedFaces = watermarked_mesh[1]\n",
    "    \n",
    "    file_noisy = \"watermarked_models/bunny_strength\"+str(strength)+ \"_patches\" + str(patches) + \"_amplitude\" + str(amplitude) + \".ply\"\n",
    "    # Add random noise to the model then save it\n",
    "    noise_mesh = attacks.noise(watermarked_mesh, amplitude)\n",
    "    mp.plot(noise_mesh[0],noise_mesh[1])\n",
    "    igl.write_triangle_mesh(file_noisy,noise_mesh[0],noise_mesh[1])\n",
    "    # Extraction of the watermark\n",
    "    retrieved = spectral_decomposition.extract(file_noisy, 123456, 64, strength, patches,in_name)\n",
    "    # Compute the number of errors\n",
    "    n_errors = len([x for x, y in zip(data, retrieved) if x != y])\n",
    "    # Write the results to a file\n",
    "    print(\"Number of errors: \",n_errors)\n",
    "        "
   ]
  },
  {
   "cell_type": "code",
   "execution_count": 6,
   "id": "2657fa66",
   "metadata": {},
   "outputs": [],
   "source": [
    "def smooth_attack():\n",
    "    \n",
    "    data = [0, 1]*32\n",
    "    \n",
    "    patches = 60\n",
    "    strength = 100\n",
    "    iterations = 1\n",
    "\n",
    "    in_name = \"source_models/bunny.ply\"\n",
    "    filename = \"watermarked_models/bunny_strength\"+str(strength)+ \"_patches\" + str(patches) + \".ply\"\n",
    "    original_mesh = igl.read_triangle_mesh(in_name)\n",
    "\n",
    "    watermarked_mesh = igl.read_triangle_mesh(filename)\n",
    "    watermarkedVertices = watermarked_mesh[0]\n",
    "    watermarkedFaces = watermarked_mesh[1]\n",
    "       \n",
    "    file_smoothed = \"watermarked_models/bunny_strength\"+str(strength)+ \"_patches\" + str(patches) + \"_iterations\" + str(iterations) + \".ply\"\n",
    "    # Smooth the model then save it\n",
    "\n",
    "    new_mesh = attacks.smoothing(watermarked_mesh, iterations)\n",
    "    mp.plot(new_mesh[0],new_mesh[1])\n",
    "    igl.write_triangle_mesh(file_smoothed, new_mesh[0], new_mesh[1])\n",
    "    # Extraction of the watermark\n",
    "    retrieved = spectral_decomposition.extract(file_smoothed, 123456, 64, strength, patches,in_name)\n",
    "    # Compute the number of errors\n",
    "    n_errors = len([x for x, y in zip(data, retrieved) if x != y])\n",
    "    # Write the results to a file\n",
    "    print(\"Number of errors: \",n_errors)\n",
    "    "
   ]
  },
  {
   "cell_type": "code",
   "execution_count": 7,
   "id": "3219b0f8",
   "metadata": {
    "scrolled": false
   },
   "outputs": [
    {
     "name": "stdout",
     "output_type": "stream",
     "text": [
      "[0.0, 0.004, 0.008, 0.012, 0.016, 0.02, 0.024, 0.028, 0.032, 0.036000000000000004, 0.04]\n",
      "Partitioning mesh...\n",
      "19847\n",
      "43357\n"
     ]
    },
    {
     "data": {
      "application/vnd.jupyter.widget-view+json": {
       "model_id": "5d6454bed071443c948f6c675cbeb069",
       "version_major": 2,
       "version_minor": 0
      },
      "text/plain": [
       "Renderer(camera=PerspectiveCamera(children=(DirectionalLight(color='white', intensity=0.6, position=(0.0062913…"
      ]
     },
     "metadata": {},
     "output_type": "display_data"
    },
    {
     "name": "stdout",
     "output_type": "stream",
     "text": [
      "Step 1: Mesh patched\n",
      "Inserting data in  40  submeshes\n",
      "Data inserted\n",
      "Only %s bits inserted, the bit error rate when retriving data might be significant 0\n",
      "########## Embedding finished ##########\n",
      "0  bits inserted\n",
      " \n",
      "Time to embed watermark:  126.4379210472107\n",
      " \n",
      " \n",
      "########## Retrieval started ##########\n",
      "19847\n",
      "43357\n"
     ]
    },
    {
     "data": {
      "application/vnd.jupyter.widget-view+json": {
       "model_id": "3bb8214b8fbd43009a920054c7d989f4",
       "version_major": 2,
       "version_minor": 0
      },
      "text/plain": [
       "Renderer(camera=PerspectiveCamera(children=(DirectionalLight(color='white', intensity=0.6, position=(0.0062913…"
      ]
     },
     "metadata": {},
     "output_type": "display_data"
    },
    {
     "name": "stdout",
     "output_type": "stream",
     "text": [
      "Step 1: Mesh patched\n",
      "Step 2: Data retrieved\n",
      "########## Retrieval finished ##########\n",
      "Time taken to embed watermark:  72.02703428268433\n",
      " \n",
      "RMS Error Computed:  2.314090284499571e-11\n",
      " \n",
      "Hausdorff Distance Computed:  1.002252561459429e-12\n",
      " \n",
      "Local Smoothness Computed  2.0666022297983057e-13\n",
      " \n",
      "number of errors:  32\n",
      " \n",
      "Original Mesh\n"
     ]
    },
    {
     "data": {
      "application/vnd.jupyter.widget-view+json": {
       "model_id": "9835207747424691aca0dd94f1e34c07",
       "version_major": 2,
       "version_minor": 0
      },
      "text/plain": [
       "Renderer(camera=PerspectiveCamera(children=(DirectionalLight(color='white', intensity=0.6, position=(0.0062913…"
      ]
     },
     "metadata": {},
     "output_type": "display_data"
    },
    {
     "name": "stdout",
     "output_type": "stream",
     "text": [
      " \n",
      "Watermarked Mesh\n"
     ]
    },
    {
     "data": {
      "application/vnd.jupyter.widget-view+json": {
       "model_id": "699b7b7dad3240519e4b4b26ea8b4b82",
       "version_major": 2,
       "version_minor": 0
      },
      "text/plain": [
       "Renderer(camera=PerspectiveCamera(children=(DirectionalLight(color='white', intensity=0.6, position=(0.0062913…"
      ]
     },
     "metadata": {},
     "output_type": "display_data"
    },
    {
     "name": "stdout",
     "output_type": "stream",
     "text": [
      "Partitioning mesh...\n",
      "19847\n",
      "43357\n"
     ]
    },
    {
     "data": {
      "application/vnd.jupyter.widget-view+json": {
       "model_id": "d085a27af60c419f91f0426f171651b0",
       "version_major": 2,
       "version_minor": 0
      },
      "text/plain": [
       "Renderer(camera=PerspectiveCamera(children=(DirectionalLight(color='white', intensity=0.6, position=(0.0062913…"
      ]
     },
     "metadata": {},
     "output_type": "display_data"
    },
    {
     "name": "stdout",
     "output_type": "stream",
     "text": [
      "Step 1: Mesh patched\n",
      "Inserting data in  40  submeshes\n",
      "Data inserted\n",
      "########## Embedding finished ##########\n",
      "105  bits inserted\n",
      " \n",
      "Time to embed watermark:  141.30942583084106\n",
      " \n",
      " \n",
      "########## Retrieval started ##########\n",
      "19847\n",
      "43357\n"
     ]
    },
    {
     "data": {
      "application/vnd.jupyter.widget-view+json": {
       "model_id": "7c1ee12efae849b693bad27491aedbf7",
       "version_major": 2,
       "version_minor": 0
      },
      "text/plain": [
       "Renderer(camera=PerspectiveCamera(children=(DirectionalLight(color='white', intensity=0.6, position=(0.0042605…"
      ]
     },
     "metadata": {},
     "output_type": "display_data"
    },
    {
     "name": "stdout",
     "output_type": "stream",
     "text": [
      "Step 1: Mesh patched\n",
      "Step 2: Data retrieved\n",
      "########## Retrieval finished ##########\n",
      "Time taken to embed watermark:  79.73451733589172\n",
      " \n",
      "RMS Error Computed:  0.4434572654922287\n",
      " \n",
      "Hausdorff Distance Computed:  0.04399027899436003\n",
      " \n",
      "Local Smoothness Computed  0.004313536220408611\n",
      " \n",
      "number of errors:  8\n",
      " \n",
      "Original Mesh\n"
     ]
    },
    {
     "data": {
      "application/vnd.jupyter.widget-view+json": {
       "model_id": "b2f08aacee9c4aa99a2630d82d96fa79",
       "version_major": 2,
       "version_minor": 0
      },
      "text/plain": [
       "Renderer(camera=PerspectiveCamera(children=(DirectionalLight(color='white', intensity=0.6, position=(0.0062913…"
      ]
     },
     "metadata": {},
     "output_type": "display_data"
    },
    {
     "name": "stdout",
     "output_type": "stream",
     "text": [
      " \n",
      "Watermarked Mesh\n"
     ]
    },
    {
     "data": {
      "application/vnd.jupyter.widget-view+json": {
       "model_id": "f9f8e87a274645f39bfefd10f6182a50",
       "version_major": 2,
       "version_minor": 0
      },
      "text/plain": [
       "Renderer(camera=PerspectiveCamera(children=(DirectionalLight(color='white', intensity=0.6, position=(0.0042605…"
      ]
     },
     "metadata": {},
     "output_type": "display_data"
    },
    {
     "name": "stdout",
     "output_type": "stream",
     "text": [
      "Partitioning mesh...\n",
      "19847\n",
      "43357\n"
     ]
    },
    {
     "data": {
      "application/vnd.jupyter.widget-view+json": {
       "model_id": "fd37478c981e4484992737e4c80aea4f",
       "version_major": 2,
       "version_minor": 0
      },
      "text/plain": [
       "Renderer(camera=PerspectiveCamera(children=(DirectionalLight(color='white', intensity=0.6, position=(0.0062913…"
      ]
     },
     "metadata": {},
     "output_type": "display_data"
    },
    {
     "name": "stdout",
     "output_type": "stream",
     "text": [
      "Step 1: Mesh patched\n",
      "Inserting data in  40  submeshes\n",
      "Data inserted\n",
      "########## Embedding finished ##########\n",
      "192  bits inserted\n",
      " \n",
      "Time to embed watermark:  144.2216191291809\n",
      " \n",
      " \n",
      "########## Retrieval started ##########\n",
      "19847\n",
      "43357\n"
     ]
    },
    {
     "data": {
      "application/vnd.jupyter.widget-view+json": {
       "model_id": "aadfc745cb9a45a88e13824514c0dca2",
       "version_major": 2,
       "version_minor": 0
      },
      "text/plain": [
       "Renderer(camera=PerspectiveCamera(children=(DirectionalLight(color='white', intensity=0.6, position=(0.0042605…"
      ]
     },
     "metadata": {},
     "output_type": "display_data"
    },
    {
     "name": "stdout",
     "output_type": "stream",
     "text": [
      "Step 1: Mesh patched\n",
      "Step 2: Data retrieved\n",
      "########## Retrieval finished ##########\n",
      "Time taken to embed watermark:  85.61912631988525\n",
      " \n",
      "RMS Error Computed:  0.7201792883770197\n",
      " \n",
      "Hausdorff Distance Computed:  0.05572846491701\n",
      " \n",
      "Local Smoothness Computed  0.005302580273782099\n",
      " \n",
      "number of errors:  5\n",
      " \n",
      "Original Mesh\n"
     ]
    },
    {
     "data": {
      "application/vnd.jupyter.widget-view+json": {
       "model_id": "3104e5f53f094af1ab32fc5226651777",
       "version_major": 2,
       "version_minor": 0
      },
      "text/plain": [
       "Renderer(camera=PerspectiveCamera(children=(DirectionalLight(color='white', intensity=0.6, position=(0.0062913…"
      ]
     },
     "metadata": {},
     "output_type": "display_data"
    },
    {
     "name": "stdout",
     "output_type": "stream",
     "text": [
      " \n",
      "Watermarked Mesh\n"
     ]
    },
    {
     "data": {
      "application/vnd.jupyter.widget-view+json": {
       "model_id": "4c15ddbffc574dd4a53041f4eede8d48",
       "version_major": 2,
       "version_minor": 0
      },
      "text/plain": [
       "Renderer(camera=PerspectiveCamera(children=(DirectionalLight(color='white', intensity=0.6, position=(0.0042605…"
      ]
     },
     "metadata": {},
     "output_type": "display_data"
    },
    {
     "name": "stdout",
     "output_type": "stream",
     "text": [
      "Partitioning mesh...\n",
      "19847\n",
      "43357\n"
     ]
    },
    {
     "data": {
      "application/vnd.jupyter.widget-view+json": {
       "model_id": "ab6400c0ced2464b9e2f994c8748ce39",
       "version_major": 2,
       "version_minor": 0
      },
      "text/plain": [
       "Renderer(camera=PerspectiveCamera(children=(DirectionalLight(color='white', intensity=0.6, position=(0.0062913…"
      ]
     },
     "metadata": {},
     "output_type": "display_data"
    },
    {
     "name": "stdout",
     "output_type": "stream",
     "text": [
      "Step 1: Mesh patched\n",
      "Inserting data in  40  submeshes\n",
      "Data inserted\n",
      "########## Embedding finished ##########\n",
      "278  bits inserted\n",
      " \n",
      "Time to embed watermark:  141.72656178474426\n",
      " \n",
      " \n",
      "########## Retrieval started ##########\n",
      "19847\n",
      "43357\n"
     ]
    },
    {
     "data": {
      "application/vnd.jupyter.widget-view+json": {
       "model_id": "f8c27363adf74760a78e38baa50cd539",
       "version_major": 2,
       "version_minor": 0
      },
      "text/plain": [
       "Renderer(camera=PerspectiveCamera(children=(DirectionalLight(color='white', intensity=0.6, position=(0.0042605…"
      ]
     },
     "metadata": {},
     "output_type": "display_data"
    },
    {
     "name": "stdout",
     "output_type": "stream",
     "text": [
      "Step 1: Mesh patched\n",
      "Step 2: Data retrieved\n",
      "########## Retrieval finished ##########\n",
      "Time taken to embed watermark:  79.26537799835205\n",
      " \n",
      "RMS Error Computed:  0.9423614832537238\n",
      " \n",
      "Hausdorff Distance Computed:  0.09781634179829002\n",
      " \n",
      "Local Smoothness Computed  0.0071918545105768995\n",
      " \n",
      "number of errors:  1\n",
      " \n",
      "Original Mesh\n"
     ]
    },
    {
     "data": {
      "application/vnd.jupyter.widget-view+json": {
       "model_id": "27c9a5780d794e71845418be3c6e0e14",
       "version_major": 2,
       "version_minor": 0
      },
      "text/plain": [
       "Renderer(camera=PerspectiveCamera(children=(DirectionalLight(color='white', intensity=0.6, position=(0.0062913…"
      ]
     },
     "metadata": {},
     "output_type": "display_data"
    },
    {
     "name": "stdout",
     "output_type": "stream",
     "text": [
      " \n",
      "Watermarked Mesh\n"
     ]
    },
    {
     "data": {
      "application/vnd.jupyter.widget-view+json": {
       "model_id": "8b7e5e7f918f4bed9d1d9d192c978fea",
       "version_major": 2,
       "version_minor": 0
      },
      "text/plain": [
       "Renderer(camera=PerspectiveCamera(children=(DirectionalLight(color='white', intensity=0.6, position=(0.0042605…"
      ]
     },
     "metadata": {},
     "output_type": "display_data"
    },
    {
     "name": "stdout",
     "output_type": "stream",
     "text": [
      "Partitioning mesh...\n",
      "19847\n",
      "43357\n"
     ]
    },
    {
     "data": {
      "application/vnd.jupyter.widget-view+json": {
       "model_id": "7a1e2318ae4540d1ad035be6983c43cb",
       "version_major": 2,
       "version_minor": 0
      },
      "text/plain": [
       "Renderer(camera=PerspectiveCamera(children=(DirectionalLight(color='white', intensity=0.6, position=(0.0062913…"
      ]
     },
     "metadata": {},
     "output_type": "display_data"
    },
    {
     "name": "stdout",
     "output_type": "stream",
     "text": [
      "Step 1: Mesh patched\n",
      "Inserting data in  40  submeshes\n",
      "Data inserted\n",
      "########## Embedding finished ##########\n",
      "363  bits inserted\n",
      " \n",
      "Time to embed watermark:  125.72405624389648\n",
      " \n",
      " \n",
      "########## Retrieval started ##########\n",
      "19847\n",
      "43357\n"
     ]
    },
    {
     "data": {
      "application/vnd.jupyter.widget-view+json": {
       "model_id": "86cde25be25346868a8e4226e227c3de",
       "version_major": 2,
       "version_minor": 0
      },
      "text/plain": [
       "Renderer(camera=PerspectiveCamera(children=(DirectionalLight(color='white', intensity=0.6, position=(0.0042605…"
      ]
     },
     "metadata": {},
     "output_type": "display_data"
    },
    {
     "name": "stdout",
     "output_type": "stream",
     "text": [
      "Step 1: Mesh patched\n",
      "Step 2: Data retrieved\n",
      "########## Retrieval finished ##########\n",
      "Time taken to embed watermark:  77.87081003189087\n",
      " \n",
      "RMS Error Computed:  1.10270487793864\n",
      " \n",
      "Hausdorff Distance Computed:  0.09781634179829002\n",
      " \n",
      "Local Smoothness Computed  0.012543818781754387\n",
      " \n",
      "number of errors:  0\n",
      " \n",
      "Original Mesh\n"
     ]
    },
    {
     "data": {
      "application/vnd.jupyter.widget-view+json": {
       "model_id": "1a81a5b1c93a47529d1dfd7cf0049547",
       "version_major": 2,
       "version_minor": 0
      },
      "text/plain": [
       "Renderer(camera=PerspectiveCamera(children=(DirectionalLight(color='white', intensity=0.6, position=(0.0062913…"
      ]
     },
     "metadata": {},
     "output_type": "display_data"
    },
    {
     "name": "stdout",
     "output_type": "stream",
     "text": [
      " \n",
      "Watermarked Mesh\n"
     ]
    },
    {
     "data": {
      "application/vnd.jupyter.widget-view+json": {
       "model_id": "d83a7e3c388d4f95ae8afd7e5a799464",
       "version_major": 2,
       "version_minor": 0
      },
      "text/plain": [
       "Renderer(camera=PerspectiveCamera(children=(DirectionalLight(color='white', intensity=0.6, position=(0.0042605…"
      ]
     },
     "metadata": {},
     "output_type": "display_data"
    },
    {
     "name": "stdout",
     "output_type": "stream",
     "text": [
      "Partitioning mesh...\n",
      "19847\n",
      "43357\n"
     ]
    },
    {
     "data": {
      "application/vnd.jupyter.widget-view+json": {
       "model_id": "67e5df4191884fc39eb70ff556c613c1",
       "version_major": 2,
       "version_minor": 0
      },
      "text/plain": [
       "Renderer(camera=PerspectiveCamera(children=(DirectionalLight(color='white', intensity=0.6, position=(0.0062913…"
      ]
     },
     "metadata": {},
     "output_type": "display_data"
    },
    {
     "name": "stdout",
     "output_type": "stream",
     "text": [
      "Step 1: Mesh patched\n",
      "Inserting data in  40  submeshes\n",
      "Data inserted\n",
      "########## Embedding finished ##########\n",
      "450  bits inserted\n",
      " \n",
      "Time to embed watermark:  146.29020857810974\n",
      " \n",
      " \n",
      "########## Retrieval started ##########\n",
      "19847\n",
      "43357\n"
     ]
    },
    {
     "data": {
      "application/vnd.jupyter.widget-view+json": {
       "model_id": "de3eb0892d0145dc8f7054108237ed02",
       "version_major": 2,
       "version_minor": 0
      },
      "text/plain": [
       "Renderer(camera=PerspectiveCamera(children=(DirectionalLight(color='white', intensity=0.6, position=(0.0042605…"
      ]
     },
     "metadata": {},
     "output_type": "display_data"
    },
    {
     "name": "stdout",
     "output_type": "stream",
     "text": [
      "Step 1: Mesh patched\n",
      "Step 2: Data retrieved\n",
      "########## Retrieval finished ##########\n",
      "Time taken to embed watermark:  85.30913209915161\n",
      " \n",
      "RMS Error Computed:  1.2727115016030934\n",
      " \n",
      "Hausdorff Distance Computed:  0.09781634179829002\n",
      " \n",
      "Local Smoothness Computed  0.014761924189360565\n",
      " \n",
      "number of errors:  0\n",
      " \n",
      "Original Mesh\n"
     ]
    },
    {
     "data": {
      "application/vnd.jupyter.widget-view+json": {
       "model_id": "ab787691f2224d399e67fe87efc29622",
       "version_major": 2,
       "version_minor": 0
      },
      "text/plain": [
       "Renderer(camera=PerspectiveCamera(children=(DirectionalLight(color='white', intensity=0.6, position=(0.0062913…"
      ]
     },
     "metadata": {},
     "output_type": "display_data"
    },
    {
     "name": "stdout",
     "output_type": "stream",
     "text": [
      " \n",
      "Watermarked Mesh\n"
     ]
    },
    {
     "data": {
      "application/vnd.jupyter.widget-view+json": {
       "model_id": "4568c26543b54ad6a7522a2da2a7cc44",
       "version_major": 2,
       "version_minor": 0
      },
      "text/plain": [
       "Renderer(camera=PerspectiveCamera(children=(DirectionalLight(color='white', intensity=0.6, position=(0.0042605…"
      ]
     },
     "metadata": {},
     "output_type": "display_data"
    },
    {
     "name": "stdout",
     "output_type": "stream",
     "text": [
      "Partitioning mesh...\n",
      "19847\n",
      "43357\n"
     ]
    },
    {
     "data": {
      "application/vnd.jupyter.widget-view+json": {
       "model_id": "2742d3b0f34d4c018eecfd8811b5fa63",
       "version_major": 2,
       "version_minor": 0
      },
      "text/plain": [
       "Renderer(camera=PerspectiveCamera(children=(DirectionalLight(color='white', intensity=0.6, position=(0.0062913…"
      ]
     },
     "metadata": {},
     "output_type": "display_data"
    },
    {
     "name": "stdout",
     "output_type": "stream",
     "text": [
      "Step 1: Mesh patched\n",
      "Inserting data in  40  submeshes\n",
      "Data inserted\n",
      "########## Embedding finished ##########\n",
      "538  bits inserted\n",
      " \n",
      "Time to embed watermark:  143.74581789970398\n",
      " \n",
      " \n",
      "########## Retrieval started ##########\n",
      "19847\n",
      "43357\n"
     ]
    },
    {
     "data": {
      "application/vnd.jupyter.widget-view+json": {
       "model_id": "2f8bae4b93964eda86022c29f4cddc0b",
       "version_major": 2,
       "version_minor": 0
      },
      "text/plain": [
       "Renderer(camera=PerspectiveCamera(children=(DirectionalLight(color='white', intensity=0.6, position=(0.0042605…"
      ]
     },
     "metadata": {},
     "output_type": "display_data"
    },
    {
     "name": "stdout",
     "output_type": "stream",
     "text": [
      "Step 1: Mesh patched\n",
      "Step 2: Data retrieved\n",
      "########## Retrieval finished ##########\n",
      "Time taken to embed watermark:  86.60131168365479\n",
      " \n",
      "RMS Error Computed:  1.3991024355880781\n",
      " \n",
      "Hausdorff Distance Computed:  0.09781634179829002\n",
      " \n",
      "Local Smoothness Computed  0.02134022364394519\n",
      " \n",
      "number of errors:  1\n",
      " \n",
      "Original Mesh\n"
     ]
    },
    {
     "data": {
      "application/vnd.jupyter.widget-view+json": {
       "model_id": "b289edc02d4c47cebc04537f5fbc175e",
       "version_major": 2,
       "version_minor": 0
      },
      "text/plain": [
       "Renderer(camera=PerspectiveCamera(children=(DirectionalLight(color='white', intensity=0.6, position=(0.0062913…"
      ]
     },
     "metadata": {},
     "output_type": "display_data"
    },
    {
     "name": "stdout",
     "output_type": "stream",
     "text": [
      " \n",
      "Watermarked Mesh\n"
     ]
    },
    {
     "data": {
      "application/vnd.jupyter.widget-view+json": {
       "model_id": "27475ffd59d045608a8f44251b76e1ed",
       "version_major": 2,
       "version_minor": 0
      },
      "text/plain": [
       "Renderer(camera=PerspectiveCamera(children=(DirectionalLight(color='white', intensity=0.6, position=(0.0042605…"
      ]
     },
     "metadata": {},
     "output_type": "display_data"
    },
    {
     "name": "stdout",
     "output_type": "stream",
     "text": [
      "Partitioning mesh...\n",
      "19847\n",
      "43357\n"
     ]
    },
    {
     "data": {
      "application/vnd.jupyter.widget-view+json": {
       "model_id": "ac127abc7696430baad09ef15f346f17",
       "version_major": 2,
       "version_minor": 0
      },
      "text/plain": [
       "Renderer(camera=PerspectiveCamera(children=(DirectionalLight(color='white', intensity=0.6, position=(0.0062913…"
      ]
     },
     "metadata": {},
     "output_type": "display_data"
    },
    {
     "name": "stdout",
     "output_type": "stream",
     "text": [
      "Step 1: Mesh patched\n",
      "Inserting data in  40  submeshes\n",
      "Data inserted\n",
      "########## Embedding finished ##########\n",
      "622  bits inserted\n",
      " \n",
      "Time to embed watermark:  147.71374654769897\n",
      " \n",
      " \n",
      "########## Retrieval started ##########\n",
      "19847\n",
      "43357\n"
     ]
    },
    {
     "data": {
      "application/vnd.jupyter.widget-view+json": {
       "model_id": "4b113b420d4548c29f348f83feb0a1e7",
       "version_major": 2,
       "version_minor": 0
      },
      "text/plain": [
       "Renderer(camera=PerspectiveCamera(children=(DirectionalLight(color='white', intensity=0.6, position=(0.0042605…"
      ]
     },
     "metadata": {},
     "output_type": "display_data"
    },
    {
     "name": "stdout",
     "output_type": "stream",
     "text": [
      "Step 1: Mesh patched\n",
      "Step 2: Data retrieved\n",
      "########## Retrieval finished ##########\n",
      "Time taken to embed watermark:  85.89334845542908\n",
      " \n",
      "RMS Error Computed:  1.6412644049009282\n",
      " \n",
      "Hausdorff Distance Computed:  0.10688434320816262\n",
      " \n",
      "Local Smoothness Computed  0.02637344800383511\n",
      " \n",
      "number of errors:  0\n",
      " \n",
      "Original Mesh\n"
     ]
    },
    {
     "data": {
      "application/vnd.jupyter.widget-view+json": {
       "model_id": "b90881be702c4a0a93a03e7fd7d8ad5f",
       "version_major": 2,
       "version_minor": 0
      },
      "text/plain": [
       "Renderer(camera=PerspectiveCamera(children=(DirectionalLight(color='white', intensity=0.6, position=(0.0062913…"
      ]
     },
     "metadata": {},
     "output_type": "display_data"
    },
    {
     "name": "stdout",
     "output_type": "stream",
     "text": [
      " \n",
      "Watermarked Mesh\n"
     ]
    },
    {
     "data": {
      "application/vnd.jupyter.widget-view+json": {
       "model_id": "09febfa1fe0b4b9ab20008c06fd00bcb",
       "version_major": 2,
       "version_minor": 0
      },
      "text/plain": [
       "Renderer(camera=PerspectiveCamera(children=(DirectionalLight(color='white', intensity=0.6, position=(0.0042605…"
      ]
     },
     "metadata": {},
     "output_type": "display_data"
    },
    {
     "name": "stdout",
     "output_type": "stream",
     "text": [
      "Partitioning mesh...\n",
      "19847\n",
      "43357\n"
     ]
    },
    {
     "data": {
      "application/vnd.jupyter.widget-view+json": {
       "model_id": "ee6aca5620d346d89ca49d6dfdddcb1e",
       "version_major": 2,
       "version_minor": 0
      },
      "text/plain": [
       "Renderer(camera=PerspectiveCamera(children=(DirectionalLight(color='white', intensity=0.6, position=(0.0062913…"
      ]
     },
     "metadata": {},
     "output_type": "display_data"
    },
    {
     "name": "stdout",
     "output_type": "stream",
     "text": [
      "Step 1: Mesh patched\n",
      "Inserting data in  40  submeshes\n",
      "Data inserted\n",
      "########## Embedding finished ##########\n",
      "710  bits inserted\n",
      " \n",
      "Time to embed watermark:  131.66473937034607\n",
      " \n",
      " \n",
      "########## Retrieval started ##########\n",
      "19847\n",
      "43357\n"
     ]
    },
    {
     "data": {
      "application/vnd.jupyter.widget-view+json": {
       "model_id": "e1609b9953d04f3e8e113d271c05b9ee",
       "version_major": 2,
       "version_minor": 0
      },
      "text/plain": [
       "Renderer(camera=PerspectiveCamera(children=(DirectionalLight(color='white', intensity=0.6, position=(0.0066258…"
      ]
     },
     "metadata": {},
     "output_type": "display_data"
    },
    {
     "name": "stdout",
     "output_type": "stream",
     "text": [
      "Step 1: Mesh patched\n",
      "Step 2: Data retrieved\n",
      "########## Retrieval finished ##########\n",
      "Time taken to embed watermark:  73.19930028915405\n",
      " \n",
      "RMS Error Computed:  1.9731923719772284\n",
      " \n",
      "Hausdorff Distance Computed:  0.13363750840812005\n",
      " \n",
      "Local Smoothness Computed  0.028357022160490464\n",
      " \n",
      "number of errors:  0\n",
      " \n",
      "Original Mesh\n"
     ]
    },
    {
     "data": {
      "application/vnd.jupyter.widget-view+json": {
       "model_id": "a7c578c44d7d452680f3c06fd71c7f58",
       "version_major": 2,
       "version_minor": 0
      },
      "text/plain": [
       "Renderer(camera=PerspectiveCamera(children=(DirectionalLight(color='white', intensity=0.6, position=(0.0062913…"
      ]
     },
     "metadata": {},
     "output_type": "display_data"
    },
    {
     "name": "stdout",
     "output_type": "stream",
     "text": [
      " \n",
      "Watermarked Mesh\n"
     ]
    },
    {
     "data": {
      "application/vnd.jupyter.widget-view+json": {
       "model_id": "f62754467f914459bfd41999f7e5c9b5",
       "version_major": 2,
       "version_minor": 0
      },
      "text/plain": [
       "Renderer(camera=PerspectiveCamera(children=(DirectionalLight(color='white', intensity=0.6, position=(0.0066258…"
      ]
     },
     "metadata": {},
     "output_type": "display_data"
    },
    {
     "name": "stdout",
     "output_type": "stream",
     "text": [
      "Partitioning mesh...\n",
      "19847\n",
      "43357\n"
     ]
    },
    {
     "data": {
      "application/vnd.jupyter.widget-view+json": {
       "model_id": "50a1ecdb6fc447288b265498f19f10b4",
       "version_major": 2,
       "version_minor": 0
      },
      "text/plain": [
       "Renderer(camera=PerspectiveCamera(children=(DirectionalLight(color='white', intensity=0.6, position=(0.0062913…"
      ]
     },
     "metadata": {},
     "output_type": "display_data"
    },
    {
     "name": "stdout",
     "output_type": "stream",
     "text": [
      "Step 1: Mesh patched\n",
      "Inserting data in  40  submeshes\n",
      "Data inserted\n",
      "########## Embedding finished ##########\n",
      "800  bits inserted\n",
      " \n",
      "Time to embed watermark:  130.12835144996643\n",
      " \n",
      " \n",
      "########## Retrieval started ##########\n",
      "19847\n",
      "43357\n"
     ]
    },
    {
     "data": {
      "application/vnd.jupyter.widget-view+json": {
       "model_id": "338fe73cb7754a33b66e54c0d7158818",
       "version_major": 2,
       "version_minor": 0
      },
      "text/plain": [
       "Renderer(camera=PerspectiveCamera(children=(DirectionalLight(color='white', intensity=0.6, position=(0.0066258…"
      ]
     },
     "metadata": {},
     "output_type": "display_data"
    },
    {
     "name": "stdout",
     "output_type": "stream",
     "text": [
      "Step 1: Mesh patched\n",
      "Step 2: Data retrieved\n",
      "########## Retrieval finished ##########\n",
      "Time taken to embed watermark:  73.51073670387268\n",
      " \n",
      "RMS Error Computed:  2.284942106872984\n",
      " \n",
      "Hausdorff Distance Computed:  0.13363750840812005\n",
      " \n",
      "Local Smoothness Computed  0.03740113524295133\n",
      " \n",
      "number of errors:  0\n",
      " \n",
      "Original Mesh\n"
     ]
    },
    {
     "data": {
      "application/vnd.jupyter.widget-view+json": {
       "model_id": "69fff7670f0649c79eb422bd517723f7",
       "version_major": 2,
       "version_minor": 0
      },
      "text/plain": [
       "Renderer(camera=PerspectiveCamera(children=(DirectionalLight(color='white', intensity=0.6, position=(0.0062913…"
      ]
     },
     "metadata": {},
     "output_type": "display_data"
    },
    {
     "name": "stdout",
     "output_type": "stream",
     "text": [
      " \n",
      "Watermarked Mesh\n"
     ]
    },
    {
     "data": {
      "application/vnd.jupyter.widget-view+json": {
       "model_id": "eb9c10c4df4f4a55ab316a350490a934",
       "version_major": 2,
       "version_minor": 0
      },
      "text/plain": [
       "Renderer(camera=PerspectiveCamera(children=(DirectionalLight(color='white', intensity=0.6, position=(0.0066258…"
      ]
     },
     "metadata": {},
     "output_type": "display_data"
    },
    {
     "name": "stdout",
     "output_type": "stream",
     "text": [
      "Partitioning mesh...\n",
      "19847\n",
      "43357\n"
     ]
    },
    {
     "data": {
      "application/vnd.jupyter.widget-view+json": {
       "model_id": "6fb6bb00655946eaaa45d4b00c1d2131",
       "version_major": 2,
       "version_minor": 0
      },
      "text/plain": [
       "Renderer(camera=PerspectiveCamera(children=(DirectionalLight(color='white', intensity=0.6, position=(0.0062913…"
      ]
     },
     "metadata": {},
     "output_type": "display_data"
    },
    {
     "name": "stdout",
     "output_type": "stream",
     "text": [
      "Step 1: Mesh patched\n",
      "Inserting data in  40  submeshes\n",
      "Data inserted\n",
      "########## Embedding finished ##########\n",
      "881  bits inserted\n",
      " \n",
      "Time to embed watermark:  128.69650077819824\n",
      " \n",
      " \n",
      "########## Retrieval started ##########\n",
      "19847\n",
      "43357\n"
     ]
    },
    {
     "data": {
      "application/vnd.jupyter.widget-view+json": {
       "model_id": "84dab9940b6f494db2aa2dddd13a179f",
       "version_major": 2,
       "version_minor": 0
      },
      "text/plain": [
       "Renderer(camera=PerspectiveCamera(children=(DirectionalLight(color='white', intensity=0.6, position=(0.0066258…"
      ]
     },
     "metadata": {},
     "output_type": "display_data"
    },
    {
     "name": "stdout",
     "output_type": "stream",
     "text": [
      "Step 1: Mesh patched\n",
      "Step 2: Data retrieved\n",
      "########## Retrieval finished ##########\n",
      "Time taken to embed watermark:  75.77538800239563\n",
      " \n",
      "RMS Error Computed:  2.4992311422390467\n",
      " \n",
      "Hausdorff Distance Computed:  0.13363750840812005\n",
      " \n",
      "Local Smoothness Computed  0.038280945288855624\n",
      " \n",
      "number of errors:  0\n",
      " \n",
      "Original Mesh\n"
     ]
    },
    {
     "data": {
      "application/vnd.jupyter.widget-view+json": {
       "model_id": "494a7e58bb76471c9e14b4c5267ed6f0",
       "version_major": 2,
       "version_minor": 0
      },
      "text/plain": [
       "Renderer(camera=PerspectiveCamera(children=(DirectionalLight(color='white', intensity=0.6, position=(0.0062913…"
      ]
     },
     "metadata": {},
     "output_type": "display_data"
    },
    {
     "name": "stdout",
     "output_type": "stream",
     "text": [
      " \n",
      "Watermarked Mesh\n"
     ]
    },
    {
     "data": {
      "application/vnd.jupyter.widget-view+json": {
       "model_id": "2273fe8f62ef4421a55d1fa06943ec4c",
       "version_major": 2,
       "version_minor": 0
      },
      "text/plain": [
       "Renderer(camera=PerspectiveCamera(children=(DirectionalLight(color='white', intensity=0.6, position=(0.0066258…"
      ]
     },
     "metadata": {},
     "output_type": "display_data"
    },
    {
     "name": "stdout",
     "output_type": "stream",
     "text": [
      "[32, 8, 5, 1, 0, 0, 1, 0, 0, 0, 0]\n"
     ]
    },
    {
     "data": {
      "image/png": "[encoded data removed]",
      "text/plain": [
       "<Figure size 432x288 with 1 Axes>"
      ]
     },
     "metadata": {
      "needs_background": "light"
     },
     "output_type": "display_data"
    }
   ],
   "source": [
    "if __name__ == '__main__':\n",
    "    errors = []\n",
    "    mesh = igl.read_triangle_mesh(\"source_models/venus.obj\")\n",
    "    num_submeshes = round(len(mesh[0])/500)\n",
    "    strengths = [x * 0.004 for x in range(0, 11)]\n",
    "    print(strengths)\n",
    "\n",
    "    for i in strengths:\n",
    "        errors.append(embed_and_extract(num_submeshes,i))\n",
    "\n",
    "    print(errors)\n",
    "    x = strengths        \n",
    "    y = errors\n",
    "    plt.title(\"Number of errors by strength\") \n",
    "    plt.xlabel(\"Strength\") \n",
    "    plt.ylabel(\"Errors\") \n",
    "    plt.plot(x,y)\n",
    "    plt.show()\n"
   ]
  },
  {
   "cell_type": "code",
   "execution_count": null,
   "id": "f3ffdc3c",
   "metadata": {},
   "outputs": [],
   "source": []
  },
  {
   "cell_type": "code",
   "execution_count": null,
   "id": "63b23130",
   "metadata": {},
   "outputs": [],
   "source": []
  }
 ],
 "metadata": {
  "kernelspec": {
   "display_name": "Python 3",
   "language": "python",
   "name": "python3"
  },
  "language_info": {
   "codemirror_mode": {
    "name": "ipython",
    "version": 3
   },
   "file_extension": ".py",
   "mimetype": "text/x-python",
   "name": "python",
   "nbconvert_exporter": "python",
   "pygments_lexer": "ipython3",
   "version": "3.6.13"
  }
 },
 "nbformat": 4,
 "nbformat_minor": 5
}
