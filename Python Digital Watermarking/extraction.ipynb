{
 "cells": [
  {
   "cell_type": "code",
   "execution_count": null,
   "id": "9e97b497",
   "metadata": {},
   "outputs": [],
   "source": [
    "import numpy as np"
   ]
  },
  {
   "cell_type": "code",
   "execution_count": null,
   "id": "5ffefa33",
   "metadata": {},
   "outputs": [],
   "source": [
    "def extract(S, T, U, strength):\n",
    "    ST = np.add(S**2,T**2)\n",
    "    V = np.add(ST,U**2)    \n",
    "    threshold = np.percentile(V, strength*100)\n",
    "    data = []\n",
    "   \n",
    "\n",
    "    for i in range(0, len(S)):\n",
    "\n",
    "        if V[i] >= threshold: \n",
    "            data.append(0.5)\n",
    "        else :\n",
    "\n",
    "            C_min, C_inter, C_max = sorted([S[i], T[i], U[i]])\n",
    "            Mean = (C_min + C_max)/2\n",
    "\n",
    "\n",
    "            if C_inter < Mean :\n",
    "                Min = C_min\n",
    "                Max = Mean\n",
    "            else:\n",
    "                Min = Mean\n",
    "                Max = C_max\n",
    "\n",
    "                \n",
    "            Mean = (Min + Max)/2\n",
    "\n",
    "            if C_inter >= Mean:\n",
    "                data.append(1)\n",
    "            else:\n",
    "                data.append(0)\n",
    "\n",
    "    return data"
   ]
  }
 ],
 "metadata": {
  "kernelspec": {
   "display_name": "Python 3",
   "language": "python",
   "name": "python3"
  },
  "language_info": {
   "codemirror_mode": {
    "name": "ipython",
    "version": 3
   },
   "file_extension": ".py",
   "mimetype": "text/x-python",
   "name": "python",
   "nbconvert_exporter": "python",
   "pygments_lexer": "ipython3",
   "version": "3.6.13"
  }
 },
 "nbformat": 4,
 "nbformat_minor": 5
}
