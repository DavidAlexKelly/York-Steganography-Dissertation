{
 "cells": [
  {
   "cell_type": "code",
   "execution_count": null,
   "id": "77fe153f",
   "metadata": {},
   "outputs": [],
   "source": [
    "import numpy as np\n",
    "from scipy import spatial\n",
    "import import_ipynb\n",
    "import igl"
   ]
  },
  {
   "cell_type": "code",
   "execution_count": null,
   "id": "2d7ddf58",
   "metadata": {},
   "outputs": [],
   "source": [
    "'''\n",
    "    Computes the RMS Error between two meshes\n",
    "'''\n",
    "def rms_error(original_mesh, watermarked_mesh):\n",
    "\n",
    "    squared_dist = 0\n",
    "    for i in range(len(original_mesh[0])) :\n",
    "        squared_dist += spatial.distance.euclidean(original_mesh[0][i], watermarked_mesh[0][i])**2\n",
    "    mean_squared_dist = squared_dist/len(original_mesh)\n",
    "    dist = np.sqrt(squared_dist)\n",
    "\n",
    "    return dist"
   ]
  },
  {
   "cell_type": "code",
   "execution_count": null,
   "id": "48ce1dea",
   "metadata": {},
   "outputs": [],
   "source": [
    "'''\n",
    "    Computes a Local Smoothness metric between two meshes\n",
    "'''\n",
    "def local_smoothness(original_mesh, watermarked_mesh):\n",
    "    if len(original_mesh[0]) != len(watermarked_mesh[0]):\n",
    "        return -1 \n",
    "\n",
    "    epsilon = 1e-15\n",
    "    neighbors = igl.adjacency_list(original_mesh[1])\n",
    "    \n",
    "    original_numerator_sum = 0\n",
    "    watermarked_numerator_sum = 0\n",
    "    original_denominator_sum = 0\n",
    "    watermarked_denominator_sum = 0\n",
    "\n",
    "    distance_GL_sum = 0\n",
    "    distance_sum = 0\n",
    "\n",
    "    for i in range(len(original_mesh[0])):\n",
    "        original_coordinates = original_mesh[0][i]\n",
    "        watermarked_coordinates = watermarked_mesh[0][i]\n",
    "\n",
    "        for n in neighbors[i]:\n",
    "            original_neighbor = original_mesh[0][n]\n",
    "            watermarked_neighbor = watermarked_mesh[0][n]\n",
    "\n",
    "            original_distance = max(spatial.distance.euclidean(original_coordinates, original_neighbor), epsilon)\n",
    "            watermarked_distance = max(spatial.distance.euclidean(watermarked_coordinates, watermarked_neighbor), epsilon)\n",
    "\n",
    "            original_numerator_sum += original_neighbor/original_distance\n",
    "            original_denominator_sum += 1.0/original_distance\n",
    "\n",
    "            watermarked_numerator_sum += watermarked_neighbor/watermarked_distance\n",
    "            watermarked_denominator_sum += 1.0/watermarked_distance\n",
    "\n",
    "        GL_original = original_coordinates - (original_numerator_sum/original_denominator_sum)\n",
    "        GL_watermarked = watermarked_coordinates - (watermarked_numerator_sum/watermarked_denominator_sum)\n",
    "\n",
    "        distance_GL_sum += spatial.distance.euclidean(GL_original, GL_watermarked)\n",
    "        distance_sum += spatial.distance.euclidean(original_coordinates, watermarked_coordinates)\n",
    "    \n",
    "    return (distance_GL_sum + distance_sum)/(2*len(original_mesh[0]))"
   ]
  },
  {
   "cell_type": "code",
   "execution_count": null,
   "id": "b016a988",
   "metadata": {},
   "outputs": [],
   "source": [
    "'''\n",
    "    Computes the Symmetrical Hausdorff Distancce between two meshes\n",
    "'''\n",
    "def hausdorff_distance(original_mesh, watermarked_mesh):\n",
    "    if len(original_mesh[0]) != len(watermarked_mesh[0]):\n",
    "        return -1 \n",
    "\n",
    "    d1 = 0\n",
    "    d2 = 0\n",
    "\n",
    "    original_tree = spatial.KDTree(original_mesh[0])\n",
    "    watermarked_tree = spatial.KDTree(watermarked_mesh[0])\n",
    "\n",
    "    for vertice in original_mesh[0]:\n",
    "        closest_point = watermarked_mesh[0][watermarked_tree.query(vertice)[1]]\n",
    "        dist = spatial.distance.euclidean(vertice, closest_point)\n",
    "        d1 = max(d1, dist)\n",
    "\n",
    "    for vertice in watermarked_mesh[0]:\n",
    "        closest_point = original_mesh[0][original_tree.query(vertice)[1]]\n",
    "        dist = spatial.distance.euclidean(vertice, closest_point)\n",
    "        d2 = max(d2, dist)\n",
    "\n",
    "    return max(d1, d2)"
   ]
  },
  {
   "cell_type": "code",
   "execution_count": null,
   "id": "052f3d15",
   "metadata": {},
   "outputs": [],
   "source": []
  },
  {
   "cell_type": "code",
   "execution_count": null,
   "id": "274364ca",
   "metadata": {},
   "outputs": [],
   "source": []
  },
  {
   "cell_type": "code",
   "execution_count": null,
   "id": "d3937a54",
   "metadata": {},
   "outputs": [],
   "source": []
  }
 ],
 "metadata": {
  "kernelspec": {
   "display_name": "Python 3",
   "language": "python",
   "name": "python3"
  },
  "language_info": {
   "codemirror_mode": {
    "name": "ipython",
    "version": 3
   },
   "file_extension": ".py",
   "mimetype": "text/x-python",
   "name": "python",
   "nbconvert_exporter": "python",
   "pygments_lexer": "ipython3",
   "version": "3.6.13"
  }
 },
 "nbformat": 4,
 "nbformat_minor": 5
}
