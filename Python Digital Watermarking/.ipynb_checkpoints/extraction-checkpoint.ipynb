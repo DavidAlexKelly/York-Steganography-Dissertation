{
 "cells": [
  {
   "cell_type": "code",
   "execution_count": null,
   "id": "9e97b497",
   "metadata": {},
   "outputs": [],
   "source": [
    "import numpy as np"
   ]
  },
  {
   "cell_type": "code",
   "execution_count": null,
   "id": "5ffefa33",
   "metadata": {},
   "outputs": [],
   "source": [
    "def read(S, T, U, strength):\n",
    "\n",
    "    # Compute the maximum frequency from which we should read data\n",
    "    ST = np.add(S**2,T**2)\n",
    "    V = np.add(ST,U**2)\n",
    "    \n",
    "    threshold = np.percentile(V, strength*100)\n",
    "\n",
    "    data = []\n",
    "    \n",
    "    for i in range(0, len(S)):\n",
    "\n",
    "        if V[i] >= threshold: #This frequency should not be considered, add 0.5 to the list of data so it doesn't have an impact on the retrieved data but the order remains correct\n",
    "            data.append(0.5)\n",
    "        else : #This frequency contains aa bit that should be read\n",
    "\n",
    "            C_min, C_inter, C_max = sorted([S[i], T[i], U[i]])\n",
    "            \n",
    "            Mean = (C_min + C_max)/2\n",
    "\n",
    "            # We use 4 intervals, so we want to know in which half C_inter is located\n",
    "            if C_inter < Mean :\n",
    "                Min = C_min\n",
    "                Max = Mean\n",
    "            else:\n",
    "                Min = Mean\n",
    "                Max = C_max\n",
    "\n",
    "            Mean = (Min + Max)/2\n",
    "\n",
    "            # Read the data bit\n",
    "            if C_inter >= Mean:\n",
    "                data.append(1)\n",
    "            else:\n",
    "                data.append(0)\n",
    "\n",
    "    return data"
   ]
  }
 ],
 "metadata": {
  "kernelspec": {
   "display_name": "Python 3 (ipykernel)",
   "language": "python",
   "name": "python3"
  },
  "language_info": {
   "codemirror_mode": {
    "name": "ipython",
    "version": 3
   },
   "file_extension": ".py",
   "mimetype": "text/x-python",
   "name": "python",
   "nbconvert_exporter": "python",
   "pygments_lexer": "ipython3",
   "version": "3.9.7"
  }
 },
 "nbformat": 4,
 "nbformat_minor": 5
}
