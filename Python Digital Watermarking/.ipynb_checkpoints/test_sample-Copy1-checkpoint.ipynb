{
 "cells": [
  {
   "cell_type": "code",
   "execution_count": 1,
   "id": "b87465fe",
   "metadata": {},
   "outputs": [
    {
     "name": "stdout",
     "output_type": "stream",
     "text": [
      "importing Jupyter notebook from partitioning.ipynb\n",
      "importing Jupyter notebook from spectral_decomposition.ipynb\n",
      "importing Jupyter notebook from embedding.ipynb\n",
      "importing Jupyter notebook from retrieval.ipynb\n",
      "importing Jupyter notebook from distortion.ipynb\n",
      "importing Jupyter notebook from attacks.ipynb\n"
     ]
    }
   ],
   "source": [
    "import random\n",
    "import os\n",
    "import sys\n",
    "import time\n",
    "import meshplot as mp\n",
    "import import_ipynb\n",
    "import igl\n",
    "import matplotlib.pyplot as plt\n",
    "\n",
    "\n",
    "import partitioning\n",
    "import spectral_decomposition\n",
    "import distortion\n",
    "import attacks"
   ]
  },
  {
   "cell_type": "code",
   "execution_count": 2,
   "id": "7c862ef1",
   "metadata": {},
   "outputs": [],
   "source": [
    "def embed_and_extract(patches = 60,strength = 100,data = [0, 1]*32):\n",
    "    embed(patches,strength)\n",
    "    errors = extract(patches,strength)\n",
    "    return errors\n",
    "  "
   ]
  },
  {
   "cell_type": "code",
   "execution_count": 3,
   "id": "575f9024",
   "metadata": {},
   "outputs": [],
   "source": [
    "def embed(patches = 60,strength = 100,data = [0, 1]*32):\n",
    "\n",
    "    original_filename = \"source_models/venus.obj\"\n",
    "    watermarked_filename = \"watermarked_models/venus_strength\"+str(strength)+ \"_patches\" + str(patches) + \".obj\"\n",
    "\n",
    "    # Insertion of the watermark\n",
    "    embed_start = time.time()\n",
    "    capacity = spectral_decomposition.insert(original_filename, watermarked_filename, data, 123456, strength, patches)\n",
    "    embed_end = time.time()\n",
    "    \n",
    "    print(capacity,\" bits inserted\")\n",
    "    print(\" \")\n",
    "    print(\"Time to embed watermark: \", embed_end - embed_start)\n",
    "    print(\" \")\n",
    "    print(\" \")\n",
    "    "
   ]
  },
  {
   "cell_type": "code",
   "execution_count": 4,
   "id": "e3437578",
   "metadata": {},
   "outputs": [],
   "source": [
    "def extract(patches = 60,strength = 100,data = [0, 1]*32):\n",
    "    \n",
    "    original_filename = \"source_models/venus.obj\"\n",
    "    watermarked_filename = \"watermarked_models/venus_strength\"+str(strength)+ \"_patches\" + str(patches) + \".obj\"\n",
    "    \n",
    "     # Extraction of the watermark\n",
    "    extract_start = time.time()\n",
    "    retrieved = spectral_decomposition.extract(watermarked_filename, 123456, 64, strength, patches,original_filename)\n",
    "    extract_end = time.time()\n",
    "    \n",
    "    print(\"Time taken to embed watermark: \", extract_end - extract_start)\n",
    "    print(\" \")\n",
    "    \n",
    "    # Compute the number of errors\n",
    "    errors = 0\n",
    "    for i in range(len(data)):\n",
    "        if data[i] != retrieved[i]:\n",
    "            errors +=1\n",
    "            \n",
    "    original_mesh = igl.read_triangle_mesh(original_filename)\n",
    "    watermarked_mesh = igl.read_triangle_mesh(watermarked_filename)\n",
    "\n",
    "    rms = distortion.rms_error(original_mesh, watermarked_mesh)\n",
    "    print(\"RMS Error Computed: \",rms)\n",
    "    print(\" \")\n",
    "    \n",
    "    hausdorff = distortion.hausdorff_distance(original_mesh, watermarked_mesh)\n",
    "    print(\"Hausdorff Distance Computed: \", hausdorff)\n",
    "    print(\" \")\n",
    "    \n",
    "    smoothness = distortion.local_smoothness(original_mesh, watermarked_mesh)\n",
    "    print(\"Local Smoothness Computed \", smoothness)\n",
    "    print(\" \")\n",
    "    \n",
    "    print(\"number of errors: \", errors)\n",
    "    print(\" \")\n",
    "    \n",
    "    print(\"Original Mesh\")\n",
    "    mp.plot(original_mesh[0],original_mesh[1])\n",
    "    print(\" \")\n",
    "    \n",
    "    print(\"Watermarked Mesh\")\n",
    "    mp.plot(watermarked_mesh[0],watermarked_mesh[1])\n",
    "    \n",
    "    return errors"
   ]
  },
  {
   "cell_type": "code",
   "execution_count": 5,
   "id": "5267d4e5",
   "metadata": {},
   "outputs": [],
   "source": [
    "def noise_attack():\n",
    "    \n",
    "    data = [0, 1]*32\n",
    "    \n",
    "    patches = 20\n",
    "    strength = 5\n",
    "    amplitude = 0.001\n",
    "    \n",
    "    in_name = \"source_models/bunny.ply\"\n",
    "    filename = \"watermarked_models/bunny_strength\"+str(strength)+ \"_patches\" + str(patches) + \".ply\"\n",
    "    original_mesh = igl.read_triangle_mesh(in_name)\n",
    "\n",
    "    watermarked_mesh = igl.read_triangle_mesh(filename)\n",
    "    watermarkedVertices = watermarked_mesh[0]\n",
    "    watermarkedFaces = watermarked_mesh[1]\n",
    "    \n",
    "    file_noisy = \"watermarked_models/bunny_strength\"+str(strength)+ \"_patches\" + str(patches) + \"_amplitude\" + str(amplitude) + \".ply\"\n",
    "    # Add random noise to the model then save it\n",
    "    noise_mesh = attacks.noise(watermarked_mesh, amplitude)\n",
    "    mp.plot(noise_mesh[0],noise_mesh[1])\n",
    "    igl.write_triangle_mesh(file_noisy,noise_mesh[0],noise_mesh[1])\n",
    "    # Extraction of the watermark\n",
    "    retrieved = spectral_decomposition.extract(file_noisy, 123456, 64, strength, patches,in_name)\n",
    "    # Compute the number of errors\n",
    "    n_errors = len([x for x, y in zip(data, retrieved) if x != y])\n",
    "    # Write the results to a file\n",
    "    print(\"Number of errors: \",n_errors)\n",
    "        "
   ]
  },
  {
   "cell_type": "code",
   "execution_count": 6,
   "id": "2657fa66",
   "metadata": {},
   "outputs": [],
   "source": [
    "def smooth_attack():\n",
    "    \n",
    "    data = [0, 1]*32\n",
    "    \n",
    "    patches = 60\n",
    "    strength = 100\n",
    "    iterations = 1\n",
    "\n",
    "    in_name = \"source_models/bunny.ply\"\n",
    "    filename = \"watermarked_models/bunny_strength\"+str(strength)+ \"_patches\" + str(patches) + \".ply\"\n",
    "    original_mesh = igl.read_triangle_mesh(in_name)\n",
    "\n",
    "    watermarked_mesh = igl.read_triangle_mesh(filename)\n",
    "    watermarkedVertices = watermarked_mesh[0]\n",
    "    watermarkedFaces = watermarked_mesh[1]\n",
    "       \n",
    "    file_smoothed = \"watermarked_models/bunny_strength\"+str(strength)+ \"_patches\" + str(patches) + \"_iterations\" + str(iterations) + \".ply\"\n",
    "    # Smooth the model then save it\n",
    "\n",
    "    new_mesh = attacks.smoothing(watermarked_mesh, iterations)\n",
    "    mp.plot(new_mesh[0],new_mesh[1])\n",
    "    igl.write_triangle_mesh(file_smoothed, new_mesh[0], new_mesh[1])\n",
    "    # Extraction of the watermark\n",
    "    retrieved = spectral_decomposition.extract(file_smoothed, 123456, 64, strength, patches,in_name)\n",
    "    # Compute the number of errors\n",
    "    n_errors = len([x for x, y in zip(data, retrieved) if x != y])\n",
    "    # Write the results to a file\n",
    "    print(\"Number of errors: \",n_errors)\n",
    "    "
   ]
  },
  {
   "cell_type": "code",
   "execution_count": 7,
   "id": "3219b0f8",
   "metadata": {
    "scrolled": false
   },
   "outputs": [
    {
     "name": "stdout",
     "output_type": "stream",
     "text": [
      "[0.0, 0.01, 0.02, 0.03, 0.04, 0.05, 0.06, 0.07, 0.08, 0.09, 0.1]\n",
      "Partitioning mesh...\n",
      "4721\n",
      "9395\n"
     ]
    },
    {
     "data": {
      "application/vnd.jupyter.widget-view+json": {
       "model_id": "318b258c612c4be38961467c91859ba7",
       "version_major": 2,
       "version_minor": 0
      },
      "text/plain": [
       "Renderer(camera=PerspectiveCamera(children=(DirectionalLight(color='white', intensity=0.6, position=(-12.95041…"
      ]
     },
     "metadata": {},
     "output_type": "display_data"
    },
    {
     "name": "stdout",
     "output_type": "stream",
     "text": [
      "Step 1: Mesh patched\n",
      "Inserting data in  9  submeshes\n",
      "Data inserted\n",
      "Only %s bits inserted, the bit error rate when retriving data might be significant 0\n",
      "########## Embedding finished ##########\n",
      "0  bits inserted\n",
      " \n",
      "Time to embed watermark:  4.306521415710449\n",
      " \n",
      " \n",
      "########## Retrieval started ##########\n",
      "4721\n",
      "9395\n"
     ]
    },
    {
     "data": {
      "application/vnd.jupyter.widget-view+json": {
       "model_id": "4e5fac38ffe84bc6bbda9b99a8bb2a4e",
       "version_major": 2,
       "version_minor": 0
      },
      "text/plain": [
       "Renderer(camera=PerspectiveCamera(children=(DirectionalLight(color='white', intensity=0.6, position=(-12.95041…"
      ]
     },
     "metadata": {},
     "output_type": "display_data"
    },
    {
     "name": "stdout",
     "output_type": "stream",
     "text": [
      "Step 1: Mesh patched\n",
      "Step 2: Data retrieved\n",
      "########## Retrieval finished ##########\n",
      "Time taken to embed watermark:  2.8824830055236816\n",
      " \n",
      "RMS Error Computed:  5.72196751742116e-12\n",
      " \n",
      "Hausdorff Distance Computed:  4.0837981102021394e-13\n",
      " \n",
      "Local Smoothness Computed  8.05743043091795e-14\n",
      " \n",
      "number of errors:  32\n",
      " \n",
      "Original Mesh\n"
     ]
    },
    {
     "data": {
      "application/vnd.jupyter.widget-view+json": {
       "model_id": "9340db408e0743eead30868f66a568b0",
       "version_major": 2,
       "version_minor": 0
      },
      "text/plain": [
       "Renderer(camera=PerspectiveCamera(children=(DirectionalLight(color='white', intensity=0.6, position=(-12.95041…"
      ]
     },
     "metadata": {},
     "output_type": "display_data"
    },
    {
     "name": "stdout",
     "output_type": "stream",
     "text": [
      " \n",
      "Watermarked Mesh\n"
     ]
    },
    {
     "data": {
      "application/vnd.jupyter.widget-view+json": {
       "model_id": "ce7cd17bf8a844de8a35a539ba495ce7",
       "version_major": 2,
       "version_minor": 0
      },
      "text/plain": [
       "Renderer(camera=PerspectiveCamera(children=(DirectionalLight(color='white', intensity=0.6, position=(-12.95041…"
      ]
     },
     "metadata": {},
     "output_type": "display_data"
    },
    {
     "name": "stdout",
     "output_type": "stream",
     "text": [
      "Partitioning mesh...\n",
      "4721\n",
      "9395\n"
     ]
    },
    {
     "data": {
      "application/vnd.jupyter.widget-view+json": {
       "model_id": "8929726db17c4ed9b84fcb023500d418",
       "version_major": 2,
       "version_minor": 0
      },
      "text/plain": [
       "Renderer(camera=PerspectiveCamera(children=(DirectionalLight(color='white', intensity=0.6, position=(-12.95041…"
      ]
     },
     "metadata": {},
     "output_type": "display_data"
    },
    {
     "name": "stdout",
     "output_type": "stream",
     "text": [
      "Step 1: Mesh patched\n",
      "Inserting data in  9  submeshes\n",
      "Data inserted\n",
      "Only %s bits inserted, the bit error rate when retriving data might be significant 57\n",
      "########## Embedding finished ##########\n",
      "57  bits inserted\n",
      " \n",
      "Time to embed watermark:  4.025380849838257\n",
      " \n",
      " \n",
      "########## Retrieval started ##########\n",
      "4721\n",
      "9395\n"
     ]
    },
    {
     "data": {
      "application/vnd.jupyter.widget-view+json": {
       "model_id": "f4d46769da954f1c955e4fd62c8cabed",
       "version_major": 2,
       "version_minor": 0
      },
      "text/plain": [
       "Renderer(camera=PerspectiveCamera(children=(DirectionalLight(color='white', intensity=0.6, position=(-12.95006…"
      ]
     },
     "metadata": {},
     "output_type": "display_data"
    },
    {
     "name": "stdout",
     "output_type": "stream",
     "text": [
      "Step 1: Mesh patched\n",
      "Step 2: Data retrieved\n",
      "########## Retrieval finished ##########\n",
      "Time taken to embed watermark:  3.02397084236145\n",
      " \n",
      "RMS Error Computed:  1.1635980722793429\n",
      " \n",
      "Hausdorff Distance Computed:  0.2714337009301402\n",
      " \n",
      "Local Smoothness Computed  0.011770265445420336\n",
      " \n",
      "number of errors:  10\n",
      " \n",
      "Original Mesh\n"
     ]
    },
    {
     "data": {
      "application/vnd.jupyter.widget-view+json": {
       "model_id": "dbc38aaa740d4bbaaf0a5ba18dce9b0d",
       "version_major": 2,
       "version_minor": 0
      },
      "text/plain": [
       "Renderer(camera=PerspectiveCamera(children=(DirectionalLight(color='white', intensity=0.6, position=(-12.95041…"
      ]
     },
     "metadata": {},
     "output_type": "display_data"
    },
    {
     "name": "stdout",
     "output_type": "stream",
     "text": [
      " \n",
      "Watermarked Mesh\n"
     ]
    },
    {
     "data": {
      "application/vnd.jupyter.widget-view+json": {
       "model_id": "1d1c802e887f423db5fc0e4a0d3e2954",
       "version_major": 2,
       "version_minor": 0
      },
      "text/plain": [
       "Renderer(camera=PerspectiveCamera(children=(DirectionalLight(color='white', intensity=0.6, position=(-12.95006…"
      ]
     },
     "metadata": {},
     "output_type": "display_data"
    },
    {
     "name": "stdout",
     "output_type": "stream",
     "text": [
      "Partitioning mesh...\n",
      "4721\n",
      "9395\n"
     ]
    },
    {
     "data": {
      "application/vnd.jupyter.widget-view+json": {
       "model_id": "34c4296649e0426fad8d8a5c4dbe7e19",
       "version_major": 2,
       "version_minor": 0
      },
      "text/plain": [
       "Renderer(camera=PerspectiveCamera(children=(DirectionalLight(color='white', intensity=0.6, position=(-12.95041…"
      ]
     },
     "metadata": {},
     "output_type": "display_data"
    },
    {
     "name": "stdout",
     "output_type": "stream",
     "text": [
      "Step 1: Mesh patched\n",
      "Inserting data in  9  submeshes\n",
      "Data inserted\n",
      "########## Embedding finished ##########\n",
      "107  bits inserted\n",
      " \n",
      "Time to embed watermark:  4.247979402542114\n",
      " \n",
      " \n",
      "########## Retrieval started ##########\n",
      "4721\n",
      "9395\n"
     ]
    },
    {
     "data": {
      "application/vnd.jupyter.widget-view+json": {
       "model_id": "92a00a34ba1a4514ae8343b7f07cc2e4",
       "version_major": 2,
       "version_minor": 0
      },
      "text/plain": [
       "Renderer(camera=PerspectiveCamera(children=(DirectionalLight(color='white', intensity=0.6, position=(-12.93820…"
      ]
     },
     "metadata": {},
     "output_type": "display_data"
    },
    {
     "name": "stdout",
     "output_type": "stream",
     "text": [
      "Step 1: Mesh patched\n",
      "Step 2: Data retrieved\n",
      "########## Retrieval finished ##########\n",
      "Time taken to embed watermark:  3.0527381896972656\n",
      " \n",
      "RMS Error Computed:  1.4508330082754994\n",
      " \n",
      "Hausdorff Distance Computed:  0.2714337009301402\n",
      " \n",
      "Local Smoothness Computed  0.016343133988040905\n",
      " \n",
      "number of errors:  6\n",
      " \n",
      "Original Mesh\n"
     ]
    },
    {
     "data": {
      "application/vnd.jupyter.widget-view+json": {
       "model_id": "657f2524d63748c2b2a3dfa8dc7a3732",
       "version_major": 2,
       "version_minor": 0
      },
      "text/plain": [
       "Renderer(camera=PerspectiveCamera(children=(DirectionalLight(color='white', intensity=0.6, position=(-12.95041…"
      ]
     },
     "metadata": {},
     "output_type": "display_data"
    },
    {
     "name": "stdout",
     "output_type": "stream",
     "text": [
      " \n",
      "Watermarked Mesh\n"
     ]
    },
    {
     "data": {
      "application/vnd.jupyter.widget-view+json": {
       "model_id": "5a9cbd267da146e89540ace19699b98d",
       "version_major": 2,
       "version_minor": 0
      },
      "text/plain": [
       "Renderer(camera=PerspectiveCamera(children=(DirectionalLight(color='white', intensity=0.6, position=(-12.93820…"
      ]
     },
     "metadata": {},
     "output_type": "display_data"
    },
    {
     "name": "stdout",
     "output_type": "stream",
     "text": [
      "Partitioning mesh...\n",
      "4721\n",
      "9395\n"
     ]
    },
    {
     "data": {
      "application/vnd.jupyter.widget-view+json": {
       "model_id": "c1af60b388d14f4fa7a58dd4db05fd3d",
       "version_major": 2,
       "version_minor": 0
      },
      "text/plain": [
       "Renderer(camera=PerspectiveCamera(children=(DirectionalLight(color='white', intensity=0.6, position=(-12.95041…"
      ]
     },
     "metadata": {},
     "output_type": "display_data"
    },
    {
     "name": "stdout",
     "output_type": "stream",
     "text": [
      "Step 1: Mesh patched\n",
      "Inserting data in  9  submeshes\n",
      "Data inserted\n",
      "########## Embedding finished ##########\n",
      "159  bits inserted\n",
      " \n",
      "Time to embed watermark:  4.200416803359985\n",
      " \n",
      " \n",
      "########## Retrieval started ##########\n",
      "4721\n",
      "9395\n"
     ]
    },
    {
     "data": {
      "application/vnd.jupyter.widget-view+json": {
       "model_id": "4a6fdfccb8cb4ebd99a5020fe44a26d3",
       "version_major": 2,
       "version_minor": 0
      },
      "text/plain": [
       "Renderer(camera=PerspectiveCamera(children=(DirectionalLight(color='white', intensity=0.6, position=(-12.93154…"
      ]
     },
     "metadata": {},
     "output_type": "display_data"
    },
    {
     "name": "stdout",
     "output_type": "stream",
     "text": [
      "Step 1: Mesh patched\n",
      "Step 2: Data retrieved\n",
      "########## Retrieval finished ##########\n",
      "Time taken to embed watermark:  3.0605807304382324\n",
      " \n",
      "RMS Error Computed:  2.190179433887735\n",
      " \n",
      "Hausdorff Distance Computed:  0.5486521863248099\n",
      " \n",
      "Local Smoothness Computed  0.023091771568137357\n",
      " \n",
      "number of errors:  3\n",
      " \n",
      "Original Mesh\n"
     ]
    },
    {
     "data": {
      "application/vnd.jupyter.widget-view+json": {
       "model_id": "de1fec587ea74cdb9c55c38064ecfcd1",
       "version_major": 2,
       "version_minor": 0
      },
      "text/plain": [
       "Renderer(camera=PerspectiveCamera(children=(DirectionalLight(color='white', intensity=0.6, position=(-12.95041…"
      ]
     },
     "metadata": {},
     "output_type": "display_data"
    },
    {
     "name": "stdout",
     "output_type": "stream",
     "text": [
      " \n",
      "Watermarked Mesh\n"
     ]
    },
    {
     "data": {
      "application/vnd.jupyter.widget-view+json": {
       "model_id": "78be7ad35ee2410da5ae68289798a212",
       "version_major": 2,
       "version_minor": 0
      },
      "text/plain": [
       "Renderer(camera=PerspectiveCamera(children=(DirectionalLight(color='white', intensity=0.6, position=(-12.93154…"
      ]
     },
     "metadata": {},
     "output_type": "display_data"
    },
    {
     "name": "stdout",
     "output_type": "stream",
     "text": [
      "Partitioning mesh...\n",
      "4721\n",
      "9395\n"
     ]
    },
    {
     "data": {
      "application/vnd.jupyter.widget-view+json": {
       "model_id": "de0c8fad4a564eb6ba31897b9953b4e3",
       "version_major": 2,
       "version_minor": 0
      },
      "text/plain": [
       "Renderer(camera=PerspectiveCamera(children=(DirectionalLight(color='white', intensity=0.6, position=(-12.95041…"
      ]
     },
     "metadata": {},
     "output_type": "display_data"
    },
    {
     "name": "stdout",
     "output_type": "stream",
     "text": [
      "Step 1: Mesh patched\n",
      "Inserting data in  9  submeshes\n",
      "Data inserted\n",
      "########## Embedding finished ##########\n",
      "210  bits inserted\n",
      " \n",
      "Time to embed watermark:  4.281252384185791\n",
      " \n",
      " \n",
      "########## Retrieval started ##########\n",
      "4721\n",
      "9395\n"
     ]
    },
    {
     "data": {
      "application/vnd.jupyter.widget-view+json": {
       "model_id": "80f3c0161dac4c9fbafb04aa986d4f26",
       "version_major": 2,
       "version_minor": 0
      },
      "text/plain": [
       "Renderer(camera=PerspectiveCamera(children=(DirectionalLight(color='white', intensity=0.6, position=(-12.90599…"
      ]
     },
     "metadata": {},
     "output_type": "display_data"
    },
    {
     "name": "stdout",
     "output_type": "stream",
     "text": [
      "Step 1: Mesh patched\n",
      "Step 2: Data retrieved\n",
      "########## Retrieval finished ##########\n",
      "Time taken to embed watermark:  2.9276726245880127\n",
      " \n",
      "RMS Error Computed:  2.65794051943858\n",
      " \n",
      "Hausdorff Distance Computed:  0.5486521863248099\n",
      " \n",
      "Local Smoothness Computed  0.029822432063942698\n",
      " \n",
      "number of errors:  4\n",
      " \n",
      "Original Mesh\n"
     ]
    },
    {
     "data": {
      "application/vnd.jupyter.widget-view+json": {
       "model_id": "d14033895b11401c9cc140c1fa5696e6",
       "version_major": 2,
       "version_minor": 0
      },
      "text/plain": [
       "Renderer(camera=PerspectiveCamera(children=(DirectionalLight(color='white', intensity=0.6, position=(-12.95041…"
      ]
     },
     "metadata": {},
     "output_type": "display_data"
    },
    {
     "name": "stdout",
     "output_type": "stream",
     "text": [
      " \n",
      "Watermarked Mesh\n"
     ]
    },
    {
     "data": {
      "application/vnd.jupyter.widget-view+json": {
       "model_id": "a9aeb15b72d54d3b830693d2147c4a8b",
       "version_major": 2,
       "version_minor": 0
      },
      "text/plain": [
       "Renderer(camera=PerspectiveCamera(children=(DirectionalLight(color='white', intensity=0.6, position=(-12.90599…"
      ]
     },
     "metadata": {},
     "output_type": "display_data"
    },
    {
     "name": "stdout",
     "output_type": "stream",
     "text": [
      "Partitioning mesh...\n",
      "4721\n",
      "9395\n"
     ]
    },
    {
     "data": {
      "application/vnd.jupyter.widget-view+json": {
       "model_id": "3fd87f9a91bd455a88a6729febef549e",
       "version_major": 2,
       "version_minor": 0
      },
      "text/plain": [
       "Renderer(camera=PerspectiveCamera(children=(DirectionalLight(color='white', intensity=0.6, position=(-12.95041…"
      ]
     },
     "metadata": {},
     "output_type": "display_data"
    },
    {
     "name": "stdout",
     "output_type": "stream",
     "text": [
      "Step 1: Mesh patched\n",
      "Inserting data in  9  submeshes\n",
      "Data inserted\n",
      "########## Embedding finished ##########\n",
      "263  bits inserted\n",
      " \n",
      "Time to embed watermark:  4.140391111373901\n",
      " \n",
      " \n",
      "########## Retrieval started ##########\n",
      "4721\n",
      "9395\n"
     ]
    },
    {
     "data": {
      "application/vnd.jupyter.widget-view+json": {
       "model_id": "a63e72ab92624578abd83775191d2ac5",
       "version_major": 2,
       "version_minor": 0
      },
      "text/plain": [
       "Renderer(camera=PerspectiveCamera(children=(DirectionalLight(color='white', intensity=0.6, position=(-12.91075…"
      ]
     },
     "metadata": {},
     "output_type": "display_data"
    },
    {
     "name": "stdout",
     "output_type": "stream",
     "text": [
      "Step 1: Mesh patched\n",
      "Step 2: Data retrieved\n",
      "########## Retrieval finished ##########\n",
      "Time taken to embed watermark:  3.022428274154663\n",
      " \n",
      "RMS Error Computed:  3.2295193096070514\n",
      " \n",
      "Hausdorff Distance Computed:  0.5486521863248099\n",
      " \n",
      "Local Smoothness Computed  0.03810766147453476\n",
      " \n",
      "number of errors:  1\n",
      " \n",
      "Original Mesh\n"
     ]
    },
    {
     "data": {
      "application/vnd.jupyter.widget-view+json": {
       "model_id": "d2783e921e034af4879b8f24c87cbcd5",
       "version_major": 2,
       "version_minor": 0
      },
      "text/plain": [
       "Renderer(camera=PerspectiveCamera(children=(DirectionalLight(color='white', intensity=0.6, position=(-12.95041…"
      ]
     },
     "metadata": {},
     "output_type": "display_data"
    },
    {
     "name": "stdout",
     "output_type": "stream",
     "text": [
      " \n",
      "Watermarked Mesh\n"
     ]
    },
    {
     "data": {
      "application/vnd.jupyter.widget-view+json": {
       "model_id": "cbde146f190b4201b9da8ef9759045b7",
       "version_major": 2,
       "version_minor": 0
      },
      "text/plain": [
       "Renderer(camera=PerspectiveCamera(children=(DirectionalLight(color='white', intensity=0.6, position=(-12.91075…"
      ]
     },
     "metadata": {},
     "output_type": "display_data"
    },
    {
     "name": "stdout",
     "output_type": "stream",
     "text": [
      "Partitioning mesh...\n",
      "4721\n",
      "9395\n"
     ]
    },
    {
     "data": {
      "application/vnd.jupyter.widget-view+json": {
       "model_id": "f5e26f01c4084d118c224f15a703a571",
       "version_major": 2,
       "version_minor": 0
      },
      "text/plain": [
       "Renderer(camera=PerspectiveCamera(children=(DirectionalLight(color='white', intensity=0.6, position=(-12.95041…"
      ]
     },
     "metadata": {},
     "output_type": "display_data"
    },
    {
     "name": "stdout",
     "output_type": "stream",
     "text": [
      "Step 1: Mesh patched\n",
      "Inserting data in  9  submeshes\n",
      "Data inserted\n",
      "########## Embedding finished ##########\n",
      "313  bits inserted\n",
      " \n",
      "Time to embed watermark:  4.114916086196899\n",
      " \n",
      " \n",
      "########## Retrieval started ##########\n",
      "4721\n",
      "9395\n"
     ]
    },
    {
     "data": {
      "application/vnd.jupyter.widget-view+json": {
       "model_id": "b301b6df8ab344e4a78282ad84dee432",
       "version_major": 2,
       "version_minor": 0
      },
      "text/plain": [
       "Renderer(camera=PerspectiveCamera(children=(DirectionalLight(color='white', intensity=0.6, position=(-12.91060…"
      ]
     },
     "metadata": {},
     "output_type": "display_data"
    },
    {
     "name": "stdout",
     "output_type": "stream",
     "text": [
      "Step 1: Mesh patched\n",
      "Step 2: Data retrieved\n",
      "########## Retrieval finished ##########\n",
      "Time taken to embed watermark:  2.9911279678344727\n",
      " \n",
      "RMS Error Computed:  3.560401698952906\n",
      " \n",
      "Hausdorff Distance Computed:  0.5486521863248099\n",
      " \n",
      "Local Smoothness Computed  0.04514282414460282\n",
      " \n",
      "number of errors:  2\n",
      " \n",
      "Original Mesh\n"
     ]
    },
    {
     "data": {
      "application/vnd.jupyter.widget-view+json": {
       "model_id": "5679a01013b84ad1a06c01b635cac83b",
       "version_major": 2,
       "version_minor": 0
      },
      "text/plain": [
       "Renderer(camera=PerspectiveCamera(children=(DirectionalLight(color='white', intensity=0.6, position=(-12.95041…"
      ]
     },
     "metadata": {},
     "output_type": "display_data"
    },
    {
     "name": "stdout",
     "output_type": "stream",
     "text": [
      " \n",
      "Watermarked Mesh\n"
     ]
    },
    {
     "data": {
      "application/vnd.jupyter.widget-view+json": {
       "model_id": "5d9c29281cc4470197431b39083f3328",
       "version_major": 2,
       "version_minor": 0
      },
      "text/plain": [
       "Renderer(camera=PerspectiveCamera(children=(DirectionalLight(color='white', intensity=0.6, position=(-12.91060…"
      ]
     },
     "metadata": {},
     "output_type": "display_data"
    },
    {
     "name": "stdout",
     "output_type": "stream",
     "text": [
      "Partitioning mesh...\n",
      "4721\n",
      "9395\n"
     ]
    },
    {
     "data": {
      "application/vnd.jupyter.widget-view+json": {
       "model_id": "6294377b1f0c4996a76daafead73c43a",
       "version_major": 2,
       "version_minor": 0
      },
      "text/plain": [
       "Renderer(camera=PerspectiveCamera(children=(DirectionalLight(color='white', intensity=0.6, position=(-12.95041…"
      ]
     },
     "metadata": {},
     "output_type": "display_data"
    },
    {
     "name": "stdout",
     "output_type": "stream",
     "text": [
      "Step 1: Mesh patched\n",
      "Inserting data in  9  submeshes\n",
      "Data inserted\n",
      "########## Embedding finished ##########\n",
      "368  bits inserted\n",
      " \n",
      "Time to embed watermark:  4.148220777511597\n",
      " \n",
      " \n",
      "########## Retrieval started ##########\n",
      "4721\n",
      "9395\n"
     ]
    },
    {
     "data": {
      "application/vnd.jupyter.widget-view+json": {
       "model_id": "64fb4958b74b4aeb806b8a83f904afa3",
       "version_major": 2,
       "version_minor": 0
      },
      "text/plain": [
       "Renderer(camera=PerspectiveCamera(children=(DirectionalLight(color='white', intensity=0.6, position=(-12.91333…"
      ]
     },
     "metadata": {},
     "output_type": "display_data"
    },
    {
     "name": "stdout",
     "output_type": "stream",
     "text": [
      "Step 1: Mesh patched\n",
      "Step 2: Data retrieved\n",
      "########## Retrieval finished ##########\n",
      "Time taken to embed watermark:  3.0421359539031982\n",
      " \n",
      "RMS Error Computed:  4.038864449699315\n",
      " \n",
      "Hausdorff Distance Computed:  0.5503484963480815\n",
      " \n",
      "Local Smoothness Computed  0.05251400255663569\n",
      " \n",
      "number of errors:  0\n",
      " \n",
      "Original Mesh\n"
     ]
    },
    {
     "data": {
      "application/vnd.jupyter.widget-view+json": {
       "model_id": "c833b9ed09f44f5db5cb452df42d907c",
       "version_major": 2,
       "version_minor": 0
      },
      "text/plain": [
       "Renderer(camera=PerspectiveCamera(children=(DirectionalLight(color='white', intensity=0.6, position=(-12.95041…"
      ]
     },
     "metadata": {},
     "output_type": "display_data"
    },
    {
     "name": "stdout",
     "output_type": "stream",
     "text": [
      " \n",
      "Watermarked Mesh\n"
     ]
    },
    {
     "data": {
      "application/vnd.jupyter.widget-view+json": {
       "model_id": "ce59880f84f343878d0f73703a63f854",
       "version_major": 2,
       "version_minor": 0
      },
      "text/plain": [
       "Renderer(camera=PerspectiveCamera(children=(DirectionalLight(color='white', intensity=0.6, position=(-12.91333…"
      ]
     },
     "metadata": {},
     "output_type": "display_data"
    },
    {
     "name": "stdout",
     "output_type": "stream",
     "text": [
      "Partitioning mesh...\n",
      "4721\n",
      "9395\n"
     ]
    },
    {
     "data": {
      "application/vnd.jupyter.widget-view+json": {
       "model_id": "4e57d0ec851743b98c51b23396a487cf",
       "version_major": 2,
       "version_minor": 0
      },
      "text/plain": [
       "Renderer(camera=PerspectiveCamera(children=(DirectionalLight(color='white', intensity=0.6, position=(-12.95041…"
      ]
     },
     "metadata": {},
     "output_type": "display_data"
    },
    {
     "name": "stdout",
     "output_type": "stream",
     "text": [
      "Step 1: Mesh patched\n",
      "Inserting data in  9  submeshes\n",
      "Data inserted\n",
      "########## Embedding finished ##########\n",
      "417  bits inserted\n",
      " \n",
      "Time to embed watermark:  4.14763617515564\n",
      " \n",
      " \n",
      "########## Retrieval started ##########\n",
      "4721\n",
      "9395\n"
     ]
    },
    {
     "data": {
      "application/vnd.jupyter.widget-view+json": {
       "model_id": "c429d8b8cf764d42aff3a67ea8f0e4e5",
       "version_major": 2,
       "version_minor": 0
      },
      "text/plain": [
       "Renderer(camera=PerspectiveCamera(children=(DirectionalLight(color='white', intensity=0.6, position=(-12.91818…"
      ]
     },
     "metadata": {},
     "output_type": "display_data"
    },
    {
     "name": "stdout",
     "output_type": "stream",
     "text": [
      "Step 1: Mesh patched\n",
      "Step 2: Data retrieved\n",
      "########## Retrieval finished ##########\n",
      "Time taken to embed watermark:  2.9243648052215576\n",
      " \n",
      "RMS Error Computed:  4.481519438877906\n",
      " \n",
      "Hausdorff Distance Computed:  0.5503484963480815\n",
      " \n",
      "Local Smoothness Computed  0.06237637822711557\n",
      " \n",
      "number of errors:  0\n",
      " \n",
      "Original Mesh\n"
     ]
    },
    {
     "data": {
      "application/vnd.jupyter.widget-view+json": {
       "model_id": "58033afbc8754b3eb9165a8bcc755de3",
       "version_major": 2,
       "version_minor": 0
      },
      "text/plain": [
       "Renderer(camera=PerspectiveCamera(children=(DirectionalLight(color='white', intensity=0.6, position=(-12.95041…"
      ]
     },
     "metadata": {},
     "output_type": "display_data"
    },
    {
     "name": "stdout",
     "output_type": "stream",
     "text": [
      " \n",
      "Watermarked Mesh\n"
     ]
    },
    {
     "data": {
      "application/vnd.jupyter.widget-view+json": {
       "model_id": "177c5f7f864b46189cf86604ccb5df00",
       "version_major": 2,
       "version_minor": 0
      },
      "text/plain": [
       "Renderer(camera=PerspectiveCamera(children=(DirectionalLight(color='white', intensity=0.6, position=(-12.91818…"
      ]
     },
     "metadata": {},
     "output_type": "display_data"
    },
    {
     "name": "stdout",
     "output_type": "stream",
     "text": [
      "Partitioning mesh...\n",
      "4721\n",
      "9395\n"
     ]
    },
    {
     "data": {
      "application/vnd.jupyter.widget-view+json": {
       "model_id": "402ea7c86e3e474098a4a0658b721270",
       "version_major": 2,
       "version_minor": 0
      },
      "text/plain": [
       "Renderer(camera=PerspectiveCamera(children=(DirectionalLight(color='white', intensity=0.6, position=(-12.95041…"
      ]
     },
     "metadata": {},
     "output_type": "display_data"
    },
    {
     "name": "stdout",
     "output_type": "stream",
     "text": [
      "Step 1: Mesh patched\n",
      "Inserting data in  9  submeshes\n",
      "Data inserted\n",
      "########## Embedding finished ##########\n",
      "469  bits inserted\n",
      " \n",
      "Time to embed watermark:  4.178951263427734\n",
      " \n",
      " \n",
      "########## Retrieval started ##########\n",
      "4721\n",
      "9395\n"
     ]
    },
    {
     "data": {
      "application/vnd.jupyter.widget-view+json": {
       "model_id": "11083f558a8c4eb1bb135fc2d0c34c79",
       "version_major": 2,
       "version_minor": 0
      },
      "text/plain": [
       "Renderer(camera=PerspectiveCamera(children=(DirectionalLight(color='white', intensity=0.6, position=(-12.91300…"
      ]
     },
     "metadata": {},
     "output_type": "display_data"
    },
    {
     "name": "stdout",
     "output_type": "stream",
     "text": [
      "Step 1: Mesh patched\n",
      "Step 2: Data retrieved\n",
      "########## Retrieval finished ##########\n",
      "Time taken to embed watermark:  2.9593398571014404\n",
      " \n",
      "RMS Error Computed:  5.44740781730464\n",
      " \n",
      "Hausdorff Distance Computed:  0.5503484963480815\n",
      " \n",
      "Local Smoothness Computed  0.07225061452535732\n",
      " \n",
      "number of errors:  0\n",
      " \n",
      "Original Mesh\n"
     ]
    },
    {
     "data": {
      "application/vnd.jupyter.widget-view+json": {
       "model_id": "290d98352de74c6f8541c6300856082c",
       "version_major": 2,
       "version_minor": 0
      },
      "text/plain": [
       "Renderer(camera=PerspectiveCamera(children=(DirectionalLight(color='white', intensity=0.6, position=(-12.95041…"
      ]
     },
     "metadata": {},
     "output_type": "display_data"
    },
    {
     "name": "stdout",
     "output_type": "stream",
     "text": [
      " \n",
      "Watermarked Mesh\n"
     ]
    },
    {
     "data": {
      "application/vnd.jupyter.widget-view+json": {
       "model_id": "08c834d88e4f47c3b6c4eb40025386ee",
       "version_major": 2,
       "version_minor": 0
      },
      "text/plain": [
       "Renderer(camera=PerspectiveCamera(children=(DirectionalLight(color='white', intensity=0.6, position=(-12.91300…"
      ]
     },
     "metadata": {},
     "output_type": "display_data"
    },
    {
     "name": "stdout",
     "output_type": "stream",
     "text": [
      "Partitioning mesh...\n",
      "4721\n",
      "9395\n"
     ]
    },
    {
     "data": {
      "application/vnd.jupyter.widget-view+json": {
       "model_id": "8cee50f54dc14d5f89f9d6653b9f2c7c",
       "version_major": 2,
       "version_minor": 0
      },
      "text/plain": [
       "Renderer(camera=PerspectiveCamera(children=(DirectionalLight(color='white', intensity=0.6, position=(-12.95041…"
      ]
     },
     "metadata": {},
     "output_type": "display_data"
    },
    {
     "name": "stdout",
     "output_type": "stream",
     "text": [
      "Step 1: Mesh patched\n",
      "Inserting data in  9  submeshes\n",
      "Data inserted\n",
      "########## Embedding finished ##########\n",
      "521  bits inserted\n",
      " \n",
      "Time to embed watermark:  4.141628980636597\n",
      " \n",
      " \n",
      "########## Retrieval started ##########\n",
      "4721\n",
      "9395\n"
     ]
    },
    {
     "data": {
      "application/vnd.jupyter.widget-view+json": {
       "model_id": "acb1b0094f8746af8e40a5c753794c3f",
       "version_major": 2,
       "version_minor": 0
      },
      "text/plain": [
       "Renderer(camera=PerspectiveCamera(children=(DirectionalLight(color='white', intensity=0.6, position=(-12.95662…"
      ]
     },
     "metadata": {},
     "output_type": "display_data"
    },
    {
     "name": "stdout",
     "output_type": "stream",
     "text": [
      "Step 1: Mesh patched\n",
      "Step 2: Data retrieved\n",
      "########## Retrieval finished ##########\n",
      "Time taken to embed watermark:  2.9858970642089844\n",
      " \n",
      "RMS Error Computed:  6.333553680646785\n",
      " \n",
      "Hausdorff Distance Computed:  0.5503484963480815\n",
      " \n",
      "Local Smoothness Computed  0.08921059819705751\n",
      " \n",
      "number of errors:  0\n",
      " \n",
      "Original Mesh\n"
     ]
    },
    {
     "data": {
      "application/vnd.jupyter.widget-view+json": {
       "model_id": "8bb0c8948afd491a94eac312b6987736",
       "version_major": 2,
       "version_minor": 0
      },
      "text/plain": [
       "Renderer(camera=PerspectiveCamera(children=(DirectionalLight(color='white', intensity=0.6, position=(-12.95041…"
      ]
     },
     "metadata": {},
     "output_type": "display_data"
    },
    {
     "name": "stdout",
     "output_type": "stream",
     "text": [
      " \n",
      "Watermarked Mesh\n"
     ]
    },
    {
     "data": {
      "application/vnd.jupyter.widget-view+json": {
       "model_id": "2e347114c6a34d548c12acc52cffd997",
       "version_major": 2,
       "version_minor": 0
      },
      "text/plain": [
       "Renderer(camera=PerspectiveCamera(children=(DirectionalLight(color='white', intensity=0.6, position=(-12.95662…"
      ]
     },
     "metadata": {},
     "output_type": "display_data"
    },
    {
     "name": "stdout",
     "output_type": "stream",
     "text": [
      "[32, 10, 6, 3, 4, 1, 2, 0, 0, 0, 0]\n"
     ]
    },
    {
     "data": {
      "image/png": "[encoded data removed]",
      "text/plain": [
       "<Figure size 432x288 with 1 Axes>"
      ]
     },
     "metadata": {
      "needs_background": "light"
     },
     "output_type": "display_data"
    }
   ],
   "source": [
    "if __name__ == '__main__':\n",
    "    errors = []\n",
    "    mesh = igl.read_triangle_mesh(\"source_models/venus.obj\")\n",
    "    num_submeshes = round(len(mesh[0])/500)\n",
    "    strengths = [x * 0.01 for x in range(0, 11)]\n",
    "    print(strengths)\n",
    "\n",
    "    for i in strengths:\n",
    "        errors.append(embed_and_extract(num_submeshes,i))\n",
    "\n",
    "    print(errors)\n",
    "    x = strengths        \n",
    "    y = errors\n",
    "    plt.title(\"Number of errors by strength\") \n",
    "    plt.xlabel(\"Strength\") \n",
    "    plt.ylabel(\"Errors\") \n",
    "    plt.plot(x,y)\n",
    "    plt.show()\n"
   ]
  },
  {
   "cell_type": "code",
   "execution_count": null,
   "id": "f3ffdc3c",
   "metadata": {},
   "outputs": [],
   "source": []
  },
  {
   "cell_type": "code",
   "execution_count": null,
   "id": "63b23130",
   "metadata": {},
   "outputs": [],
   "source": []
  }
 ],
 "metadata": {
  "kernelspec": {
   "display_name": "Python 3 (ipykernel)",
   "language": "python",
   "name": "python3"
  },
  "language_info": {
   "codemirror_mode": {
    "name": "ipython",
    "version": 3
   },
   "file_extension": ".py",
   "mimetype": "text/x-python",
   "name": "python",
   "nbconvert_exporter": "python",
   "pygments_lexer": "ipython3",
   "version": "3.9.7"
  }
 },
 "nbformat": 4,
 "nbformat_minor": 5
}
