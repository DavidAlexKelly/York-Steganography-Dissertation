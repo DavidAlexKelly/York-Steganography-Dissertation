{
 "cells": [
  {
   "cell_type": "code",
   "execution_count": 1,
   "id": "b87465fe",
   "metadata": {},
   "outputs": [
    {
     "name": "stdout",
     "output_type": "stream",
     "text": [
      "importing Jupyter notebook from partitioning.ipynb\n",
      "importing Jupyter notebook from spectral_decomposition.ipynb\n",
      "importing Jupyter notebook from embedding.ipynb\n",
      "importing Jupyter notebook from retrieval.ipynb\n",
      "importing Jupyter notebook from distortion.ipynb\n",
      "importing Jupyter notebook from attacks.ipynb\n"
     ]
    }
   ],
   "source": [
    "import random\n",
    "import os\n",
    "import sys\n",
    "import time\n",
    "import meshplot as mp\n",
    "import import_ipynb\n",
    "import igl\n",
    "import matplotlib.pyplot as plt\n",
    "\n",
    "\n",
    "import partitioning\n",
    "import spectral_decomposition\n",
    "import distortion\n",
    "import attacks"
   ]
  },
  {
   "cell_type": "code",
   "execution_count": 2,
   "id": "7c862ef1",
   "metadata": {},
   "outputs": [],
   "source": [
    "def embed_and_extract(patches = 60,strength = 100,data = [0, 1]*32):\n",
    "    capacity = embed(patches,strength)\n",
    "    errors,rms,hausdorff,smoothness = extract(patches,strength)\n",
    "    return errors,rms,hausdorff,smoothness,capacity\n",
    "  "
   ]
  },
  {
   "cell_type": "code",
   "execution_count": 3,
   "id": "575f9024",
   "metadata": {},
   "outputs": [],
   "source": [
    "def embed(patches = 60,strength = 100,data = [0, 1]*32):\n",
    "\n",
    "    original_filename = \"source_models/hand.ply\"\n",
    "    watermarked_filename = \"watermarked_models/hand_strength\"+str(strength)+ \"_patches\" + str(patches) + \".ply\"\n",
    "\n",
    "    # Insertion of the watermark\n",
    "    embed_start = time.time()\n",
    "    capacity = spectral_decomposition.insert(original_filename, watermarked_filename, data, 123456, strength, patches)\n",
    "    embed_end = time.time()\n",
    "    \n",
    "    print(capacity,\" bits inserted\")\n",
    "    print(\" \")\n",
    "    print(\"Time to embed watermark: \", embed_end - embed_start)\n",
    "    print(\" \")\n",
    "    print(\" \")\n",
    "    \n",
    "    return capacity"
   ]
  },
  {
   "cell_type": "code",
   "execution_count": 4,
   "id": "e3437578",
   "metadata": {},
   "outputs": [],
   "source": [
    "def extract(patches = 60,strength = 100,data = [0, 1]*32):\n",
    "    \n",
    "    original_filename = \"source_models/hand.ply\"\n",
    "    watermarked_filename = \"watermarked_models/hand_strength\"+str(strength)+ \"_patches\" + str(patches) + \".ply\"\n",
    "    \n",
    "     # Extraction of the watermark\n",
    "    extract_start = time.time()\n",
    "    retrieved = spectral_decomposition.extract(watermarked_filename, 123456, 64, strength, patches,original_filename)\n",
    "    extract_end = time.time()\n",
    "    \n",
    "    print(\"Time taken to embed watermark: \", extract_end - extract_start)\n",
    "    print(\" \")\n",
    "    \n",
    "    # Compute the number of errors\n",
    "    errors = 0\n",
    "    for i in range(len(data)):\n",
    "        if data[i] != retrieved[i]:\n",
    "            errors +=1\n",
    "            \n",
    "    original_mesh = igl.read_triangle_mesh(original_filename)\n",
    "    watermarked_mesh = igl.read_triangle_mesh(watermarked_filename)\n",
    "\n",
    "    rms = distortion.rms_error(original_mesh, watermarked_mesh)\n",
    "    print(\"RMS Error Computed: \",rms)\n",
    "    print(\" \")\n",
    "    \n",
    "    hausdorff = distortion.hausdorff_distance(original_mesh, watermarked_mesh)\n",
    "    print(\"Hausdorff Distance Computed: \", hausdorff)\n",
    "    print(\" \")\n",
    "    \n",
    "    smoothness = distortion.local_smoothness(original_mesh, watermarked_mesh)\n",
    "    print(\"Local Smoothness Computed \", smoothness)\n",
    "    print(\" \")\n",
    "    \n",
    "    print(\"number of errors: \", errors)\n",
    "    print(\" \")\n",
    "    \n",
    "    print(\"Original Mesh\")\n",
    "    mp.plot(original_mesh[0],original_mesh[1])\n",
    "    print(\" \")\n",
    "    \n",
    "    print(\"Watermarked Mesh\")\n",
    "    mp.plot(watermarked_mesh[0],watermarked_mesh[1])\n",
    "    \n",
    "    return errors,rms,hausdorff,smoothness"
   ]
  },
  {
   "cell_type": "code",
   "execution_count": 5,
   "id": "5267d4e5",
   "metadata": {},
   "outputs": [],
   "source": [
    "def noise_attack():\n",
    "    \n",
    "    data = [0, 1]*32\n",
    "    \n",
    "    patches = 20\n",
    "    strength = 5\n",
    "    amplitude = 0.001\n",
    "    \n",
    "    in_name = \"source_models/athena.obj\"\n",
    "    filename = \"watermarked_models/hand_strength\"+str(strength)+ \"_patches\" + str(patches) + \".ply\"\n",
    "    original_mesh = igl.read_triangle_mesh(in_name)\n",
    "\n",
    "    watermarked_mesh = igl.read_triangle_mesh(filename)\n",
    "    watermarkedVertices = watermarked_mesh[0]\n",
    "    watermarkedFaces = watermarked_mesh[1]\n",
    "    \n",
    "    file_noisy = \"watermarked_models/bunny_strength\"+str(strength)+ \"_patches\" + str(patches) + \"_amplitude\" + str(amplitude) + \".ply\"\n",
    "    # Add random noise to the model then save it\n",
    "    noise_mesh = attacks.noise(watermarked_mesh, amplitude)\n",
    "    mp.plot(noise_mesh[0],noise_mesh[1])\n",
    "    igl.write_triangle_mesh(file_noisy,noise_mesh[0],noise_mesh[1])\n",
    "    # Extraction of the watermark\n",
    "    retrieved = spectral_decomposition.extract(file_noisy, 123456, 64, strength, patches,in_name)\n",
    "    # Compute the number of errors\n",
    "    n_errors = len([x for x, y in zip(data, retrieved) if x != y])\n",
    "    # Write the results to a file\n",
    "    print(\"Number of errors: \",n_errors)\n",
    "        "
   ]
  },
  {
   "cell_type": "code",
   "execution_count": 6,
   "id": "2657fa66",
   "metadata": {},
   "outputs": [],
   "source": [
    "def smooth_attack():\n",
    "    \n",
    "    data = [0, 1]*32\n",
    "    \n",
    "    patches = 60\n",
    "    strength = 100\n",
    "    iterations = 1\n",
    "\n",
    "    in_name = \"source_models/hand.ply\"\n",
    "    filename = \"watermarked_models/hand_strength\"+str(strength)+ \"_patches\" + str(patches) + \".ply\"\n",
    "    original_mesh = igl.read_triangle_mesh(in_name)\n",
    "\n",
    "    watermarked_mesh = igl.read_triangle_mesh(filename)\n",
    "    watermarkedVertices = watermarked_mesh[0]\n",
    "    watermarkedFaces = watermarked_mesh[1]\n",
    "       \n",
    "    file_smoothed = \"watermarked_models/bunny_strength\"+str(strength)+ \"_patches\" + str(patches) + \"_iterations\" + str(iterations) + \".ply\"\n",
    "    # Smooth the model then save it\n",
    "\n",
    "    new_mesh = attacks.smoothing(watermarked_mesh, iterations)\n",
    "    mp.plot(new_mesh[0],new_mesh[1])\n",
    "    igl.write_triangle_mesh(file_smoothed, new_mesh[0], new_mesh[1])\n",
    "    # Extraction of the watermark\n",
    "    retrieved = spectral_decomposition.extract(file_smoothed, 123456, 64, strength, patches,in_name)\n",
    "    # Compute the number of errors\n",
    "    n_errors = len([x for x, y in zip(data, retrieved) if x != y])\n",
    "    # Write the results to a file\n",
    "    print(\"Number of errors: \",n_errors)\n",
    "    "
   ]
  },
  {
   "cell_type": "code",
   "execution_count": 7,
   "id": "3219b0f8",
   "metadata": {
    "scrolled": false
   },
   "outputs": [
    {
     "name": "stdout",
     "output_type": "stream",
     "text": [
      "[0.0, 0.0001, 0.0002, 0.00030000000000000003, 0.0004, 0.0005, 0.0006000000000000001, 0.0007, 0.0008, 0.0009000000000000001, 0.001]\n",
      "[[1.89945996 0.19169401 2.05405998]\n",
      " [1.91260004 0.18775    2.04092002]\n",
      " [1.90101004 0.19169401 2.04092002]\n",
      " ...\n",
      " [1.96518004 4.82233    2.35639   ]\n",
      " [1.96518004 4.81884003 2.36953998]\n",
      " [1.97833002 4.82066011 2.34325004]]\n",
      "[[     1      2      3]\n",
      " [     1      4      0]\n",
      " [     1      0      2]\n",
      " ...\n",
      " [327321 327240 327249]\n",
      " [327322 327256 327245]\n",
      " [327322 327247 327256]]\n",
      "Partitioning mesh...\n"
     ]
    },
    {
     "data": {
      "application/vnd.jupyter.widget-view+json": {
       "model_id": "05f0098d606e49e2addfec7437dc1120",
       "version_major": 2,
       "version_minor": 0
      },
      "text/plain": [
       "Renderer(camera=PerspectiveCamera(children=(DirectionalLight(color='white', intensity=0.6, position=(3.4075412…"
      ]
     },
     "metadata": {},
     "output_type": "display_data"
    },
    {
     "name": "stdout",
     "output_type": "stream",
     "text": [
      "327\n",
      "Step 1: Mesh patched\n",
      "Inserting data in  327  submeshes\n",
      "Data inserted\n",
      "Only %s bits inserted, the bit error rate when retriving data might be significant 0\n",
      "654666\n",
      "########## Embedding finished ##########\n",
      "0  bits inserted\n",
      " \n",
      "Time to embed watermark:  546.43297290802\n",
      " \n",
      " \n",
      "########## Retrieval started ##########\n",
      "327323\n",
      "654666\n"
     ]
    },
    {
     "data": {
      "application/vnd.jupyter.widget-view+json": {
       "model_id": "0241e31448fd497abd411693b6400afb",
       "version_major": 2,
       "version_minor": 0
      },
      "text/plain": [
       "Renderer(camera=PerspectiveCamera(children=(DirectionalLight(color='white', intensity=0.6, position=(3.4075412…"
      ]
     },
     "metadata": {},
     "output_type": "display_data"
    },
    {
     "name": "stdout",
     "output_type": "stream",
     "text": [
      "327\n",
      "Step 1: Mesh patched\n",
      "Step 2: Data retrieved\n",
      "########## Retrieval finished ##########\n",
      "Time taken to embed watermark:  204.36654949188232\n",
      " \n",
      "RMS Error Computed:  1.0578714286432842e-11\n",
      " \n",
      "Hausdorff Distance Computed:  1.37628657422983e-13\n",
      " \n",
      "Local Smoothness Computed  9.035859151431621e-14\n",
      " \n",
      "number of errors:  32\n",
      " \n",
      "Original Mesh\n"
     ]
    },
    {
     "data": {
      "application/vnd.jupyter.widget-view+json": {
       "model_id": "68a3d5e7c3fe4159b3040a72b8c91e7d",
       "version_major": 2,
       "version_minor": 0
      },
      "text/plain": [
       "Renderer(camera=PerspectiveCamera(children=(DirectionalLight(color='white', intensity=0.6, position=(3.4075412…"
      ]
     },
     "metadata": {},
     "output_type": "display_data"
    },
    {
     "name": "stdout",
     "output_type": "stream",
     "text": [
      " \n",
      "Watermarked Mesh\n"
     ]
    },
    {
     "data": {
      "application/vnd.jupyter.widget-view+json": {
       "model_id": "02e59cc21b61418fbdeeb2c01ad4c1ae",
       "version_major": 2,
       "version_minor": 0
      },
      "text/plain": [
       "Renderer(camera=PerspectiveCamera(children=(DirectionalLight(color='white', intensity=0.6, position=(3.4075412…"
      ]
     },
     "metadata": {},
     "output_type": "display_data"
    },
    {
     "name": "stdout",
     "output_type": "stream",
     "text": [
      "Partitioning mesh...\n"
     ]
    },
    {
     "data": {
      "application/vnd.jupyter.widget-view+json": {
       "model_id": "a500ff0e44fc43f0af8e996c9b21d200",
       "version_major": 2,
       "version_minor": 0
      },
      "text/plain": [
       "Renderer(camera=PerspectiveCamera(children=(DirectionalLight(color='white', intensity=0.6, position=(3.4075412…"
      ]
     },
     "metadata": {},
     "output_type": "display_data"
    },
    {
     "name": "stdout",
     "output_type": "stream",
     "text": [
      "327\n",
      "Step 1: Mesh patched\n",
      "Inserting data in  327  submeshes\n",
      "Data inserted\n",
      "654666\n",
      "########## Embedding finished ##########\n",
      "327  bits inserted\n",
      " \n",
      "Time to embed watermark:  523.9713988304138\n",
      " \n",
      " \n",
      "########## Retrieval started ##########\n",
      "327323\n",
      "654666\n"
     ]
    },
    {
     "data": {
      "application/vnd.jupyter.widget-view+json": {
       "model_id": "6c56dc56a49448b4ab6b98dfd6143aca",
       "version_major": 2,
       "version_minor": 0
      },
      "text/plain": [
       "Renderer(camera=PerspectiveCamera(children=(DirectionalLight(color='white', intensity=0.6, position=(3.4075412…"
      ]
     },
     "metadata": {},
     "output_type": "display_data"
    },
    {
     "name": "stdout",
     "output_type": "stream",
     "text": [
      "327\n",
      "Step 1: Mesh patched\n",
      "Step 2: Data retrieved\n",
      "########## Retrieval finished ##########\n",
      "Time taken to embed watermark:  342.78708720207214\n",
      " \n",
      "RMS Error Computed:  0.03236755348336925\n",
      " \n",
      "Hausdorff Distance Computed:  0.0016305388203039506\n",
      " \n",
      "Local Smoothness Computed  0.00022656323750978942\n",
      " \n",
      "number of errors:  0\n",
      " \n",
      "Original Mesh\n"
     ]
    },
    {
     "data": {
      "application/vnd.jupyter.widget-view+json": {
       "model_id": "ba90cbf19809452bb7c5cf9587599a15",
       "version_major": 2,
       "version_minor": 0
      },
      "text/plain": [
       "Renderer(camera=PerspectiveCamera(children=(DirectionalLight(color='white', intensity=0.6, position=(3.4075412…"
      ]
     },
     "metadata": {},
     "output_type": "display_data"
    },
    {
     "name": "stdout",
     "output_type": "stream",
     "text": [
      " \n",
      "Watermarked Mesh\n"
     ]
    },
    {
     "data": {
      "application/vnd.jupyter.widget-view+json": {
       "model_id": "9b7c0632eaf94437938b4f0979052107",
       "version_major": 2,
       "version_minor": 0
      },
      "text/plain": [
       "Renderer(camera=PerspectiveCamera(children=(DirectionalLight(color='white', intensity=0.6, position=(3.4075412…"
      ]
     },
     "metadata": {},
     "output_type": "display_data"
    },
    {
     "name": "stdout",
     "output_type": "stream",
     "text": [
      "Partitioning mesh...\n"
     ]
    },
    {
     "data": {
      "application/vnd.jupyter.widget-view+json": {
       "model_id": "239cb31720e444cc89605ef85556e981",
       "version_major": 2,
       "version_minor": 0
      },
      "text/plain": [
       "Renderer(camera=PerspectiveCamera(children=(DirectionalLight(color='white', intensity=0.6, position=(3.4075412…"
      ]
     },
     "metadata": {},
     "output_type": "display_data"
    },
    {
     "name": "stdout",
     "output_type": "stream",
     "text": [
      "327\n",
      "Step 1: Mesh patched\n",
      "Inserting data in  327  submeshes\n",
      "Data inserted\n",
      "654666\n",
      "########## Embedding finished ##########\n",
      "327  bits inserted\n",
      " \n",
      "Time to embed watermark:  487.5032389163971\n",
      " \n",
      " \n",
      "########## Retrieval started ##########\n",
      "327323\n",
      "654666\n"
     ]
    },
    {
     "data": {
      "application/vnd.jupyter.widget-view+json": {
       "model_id": "21397b83f7a44299b65e91246c067ca4",
       "version_major": 2,
       "version_minor": 0
      },
      "text/plain": [
       "Renderer(camera=PerspectiveCamera(children=(DirectionalLight(color='white', intensity=0.6, position=(3.4075412…"
      ]
     },
     "metadata": {},
     "output_type": "display_data"
    },
    {
     "name": "stdout",
     "output_type": "stream",
     "text": [
      "327\n",
      "Step 1: Mesh patched\n",
      "Step 2: Data retrieved\n",
      "########## Retrieval finished ##########\n",
      "Time taken to embed watermark:  193.44226717948914\n",
      " \n",
      "RMS Error Computed:  0.03236755348336925\n",
      " \n",
      "Hausdorff Distance Computed:  0.0016305388203039506\n",
      " \n",
      "Local Smoothness Computed  0.00022656323750978942\n",
      " \n",
      "number of errors:  0\n",
      " \n",
      "Original Mesh\n"
     ]
    },
    {
     "data": {
      "application/vnd.jupyter.widget-view+json": {
       "model_id": "bcbf47d655804ead9ec189634d883661",
       "version_major": 2,
       "version_minor": 0
      },
      "text/plain": [
       "Renderer(camera=PerspectiveCamera(children=(DirectionalLight(color='white', intensity=0.6, position=(3.4075412…"
      ]
     },
     "metadata": {},
     "output_type": "display_data"
    },
    {
     "name": "stdout",
     "output_type": "stream",
     "text": [
      " \n",
      "Watermarked Mesh\n"
     ]
    },
    {
     "data": {
      "application/vnd.jupyter.widget-view+json": {
       "model_id": "5e5b224caa3f4195b9678caa3095127f",
       "version_major": 2,
       "version_minor": 0
      },
      "text/plain": [
       "Renderer(camera=PerspectiveCamera(children=(DirectionalLight(color='white', intensity=0.6, position=(3.4075412…"
      ]
     },
     "metadata": {},
     "output_type": "display_data"
    },
    {
     "name": "stdout",
     "output_type": "stream",
     "text": [
      "Partitioning mesh...\n"
     ]
    },
    {
     "data": {
      "application/vnd.jupyter.widget-view+json": {
       "model_id": "8e747f3ad4ec4d028165cbfe62745107",
       "version_major": 2,
       "version_minor": 0
      },
      "text/plain": [
       "Renderer(camera=PerspectiveCamera(children=(DirectionalLight(color='white', intensity=0.6, position=(3.4075412…"
      ]
     },
     "metadata": {},
     "output_type": "display_data"
    },
    {
     "name": "stdout",
     "output_type": "stream",
     "text": [
      "327\n",
      "Step 1: Mesh patched\n",
      "Inserting data in  327  submeshes\n",
      "Data inserted\n",
      "654666\n",
      "########## Embedding finished ##########\n",
      "327  bits inserted\n",
      " \n",
      "Time to embed watermark:  484.7305862903595\n",
      " \n",
      " \n",
      "########## Retrieval started ##########\n",
      "327323\n",
      "654666\n"
     ]
    },
    {
     "data": {
      "application/vnd.jupyter.widget-view+json": {
       "model_id": "a9f7c114fb37425d9677fbe232b78ad8",
       "version_major": 2,
       "version_minor": 0
      },
      "text/plain": [
       "Renderer(camera=PerspectiveCamera(children=(DirectionalLight(color='white', intensity=0.6, position=(3.4075412…"
      ]
     },
     "metadata": {},
     "output_type": "display_data"
    },
    {
     "name": "stdout",
     "output_type": "stream",
     "text": [
      "327\n",
      "Step 1: Mesh patched\n",
      "Step 2: Data retrieved\n",
      "########## Retrieval finished ##########\n",
      "Time taken to embed watermark:  194.39624500274658\n",
      " \n",
      "RMS Error Computed:  0.03236755348336925\n",
      " \n",
      "Hausdorff Distance Computed:  0.0016305388203039506\n",
      " \n",
      "Local Smoothness Computed  0.00022656323750978942\n",
      " \n",
      "number of errors:  0\n",
      " \n",
      "Original Mesh\n"
     ]
    },
    {
     "data": {
      "application/vnd.jupyter.widget-view+json": {
       "model_id": "0ad7dab489ae4d8c91b8724bd2860002",
       "version_major": 2,
       "version_minor": 0
      },
      "text/plain": [
       "Renderer(camera=PerspectiveCamera(children=(DirectionalLight(color='white', intensity=0.6, position=(3.4075412…"
      ]
     },
     "metadata": {},
     "output_type": "display_data"
    },
    {
     "name": "stdout",
     "output_type": "stream",
     "text": [
      " \n",
      "Watermarked Mesh\n"
     ]
    },
    {
     "data": {
      "application/vnd.jupyter.widget-view+json": {
       "model_id": "811a9006b2ad42389d6a6532aef82150",
       "version_major": 2,
       "version_minor": 0
      },
      "text/plain": [
       "Renderer(camera=PerspectiveCamera(children=(DirectionalLight(color='white', intensity=0.6, position=(3.4075412…"
      ]
     },
     "metadata": {},
     "output_type": "display_data"
    },
    {
     "name": "stdout",
     "output_type": "stream",
     "text": [
      "Partitioning mesh...\n"
     ]
    },
    {
     "data": {
      "application/vnd.jupyter.widget-view+json": {
       "model_id": "11f5fd52df604568a1da38c76803da1c",
       "version_major": 2,
       "version_minor": 0
      },
      "text/plain": [
       "Renderer(camera=PerspectiveCamera(children=(DirectionalLight(color='white', intensity=0.6, position=(3.4075412…"
      ]
     },
     "metadata": {},
     "output_type": "display_data"
    },
    {
     "name": "stdout",
     "output_type": "stream",
     "text": [
      "327\n",
      "Step 1: Mesh patched\n",
      "Inserting data in  327  submeshes\n",
      "Data inserted\n",
      "654666\n",
      "########## Embedding finished ##########\n",
      "327  bits inserted\n",
      " \n",
      "Time to embed watermark:  486.1939058303833\n",
      " \n",
      " \n",
      "########## Retrieval started ##########\n",
      "327323\n",
      "654666\n"
     ]
    },
    {
     "data": {
      "application/vnd.jupyter.widget-view+json": {
       "model_id": "835c64c0fdcc44e8af742e0ccefc694c",
       "version_major": 2,
       "version_minor": 0
      },
      "text/plain": [
       "Renderer(camera=PerspectiveCamera(children=(DirectionalLight(color='white', intensity=0.6, position=(3.4075412…"
      ]
     },
     "metadata": {},
     "output_type": "display_data"
    },
    {
     "name": "stdout",
     "output_type": "stream",
     "text": [
      "327\n",
      "Step 1: Mesh patched\n",
      "Step 2: Data retrieved\n",
      "########## Retrieval finished ##########\n",
      "Time taken to embed watermark:  192.69885659217834\n",
      " \n",
      "RMS Error Computed:  0.03236755348336925\n",
      " \n",
      "Hausdorff Distance Computed:  0.0016305388203039506\n",
      " \n",
      "Local Smoothness Computed  0.00022656323750978942\n",
      " \n",
      "number of errors:  0\n",
      " \n",
      "Original Mesh\n"
     ]
    },
    {
     "data": {
      "application/vnd.jupyter.widget-view+json": {
       "model_id": "8aba3d1f56204cc6b0ffeceebe07c5c7",
       "version_major": 2,
       "version_minor": 0
      },
      "text/plain": [
       "Renderer(camera=PerspectiveCamera(children=(DirectionalLight(color='white', intensity=0.6, position=(3.4075412…"
      ]
     },
     "metadata": {},
     "output_type": "display_data"
    },
    {
     "name": "stdout",
     "output_type": "stream",
     "text": [
      " \n",
      "Watermarked Mesh\n"
     ]
    },
    {
     "data": {
      "application/vnd.jupyter.widget-view+json": {
       "model_id": "f1a3c9675d64483692f6b3ee450a23cd",
       "version_major": 2,
       "version_minor": 0
      },
      "text/plain": [
       "Renderer(camera=PerspectiveCamera(children=(DirectionalLight(color='white', intensity=0.6, position=(3.4075412…"
      ]
     },
     "metadata": {},
     "output_type": "display_data"
    },
    {
     "name": "stdout",
     "output_type": "stream",
     "text": [
      "Partitioning mesh...\n"
     ]
    },
    {
     "data": {
      "application/vnd.jupyter.widget-view+json": {
       "model_id": "0127a3c5f59541a9a1efcb51cd645ea6",
       "version_major": 2,
       "version_minor": 0
      },
      "text/plain": [
       "Renderer(camera=PerspectiveCamera(children=(DirectionalLight(color='white', intensity=0.6, position=(3.4075412…"
      ]
     },
     "metadata": {},
     "output_type": "display_data"
    },
    {
     "name": "stdout",
     "output_type": "stream",
     "text": [
      "327\n",
      "Step 1: Mesh patched\n",
      "Inserting data in  327  submeshes\n",
      "Data inserted\n",
      "654666\n",
      "########## Embedding finished ##########\n",
      "327  bits inserted\n",
      " \n",
      "Time to embed watermark:  485.9378707408905\n",
      " \n",
      " \n",
      "########## Retrieval started ##########\n",
      "327323\n",
      "654666\n"
     ]
    },
    {
     "data": {
      "application/vnd.jupyter.widget-view+json": {
       "model_id": "14de2007635a486098e7531eccdc6cc3",
       "version_major": 2,
       "version_minor": 0
      },
      "text/plain": [
       "Renderer(camera=PerspectiveCamera(children=(DirectionalLight(color='white', intensity=0.6, position=(3.4075412…"
      ]
     },
     "metadata": {},
     "output_type": "display_data"
    },
    {
     "name": "stdout",
     "output_type": "stream",
     "text": [
      "327\n",
      "Step 1: Mesh patched\n",
      "Step 2: Data retrieved\n",
      "########## Retrieval finished ##########\n",
      "Time taken to embed watermark:  194.28724646568298\n",
      " \n",
      "RMS Error Computed:  0.03236755348336925\n",
      " \n",
      "Hausdorff Distance Computed:  0.0016305388203039506\n",
      " \n",
      "Local Smoothness Computed  0.00022656323750978942\n",
      " \n",
      "number of errors:  0\n",
      " \n",
      "Original Mesh\n"
     ]
    },
    {
     "data": {
      "application/vnd.jupyter.widget-view+json": {
       "model_id": "c3602c15f9ad4dd9a90fd7c726376f34",
       "version_major": 2,
       "version_minor": 0
      },
      "text/plain": [
       "Renderer(camera=PerspectiveCamera(children=(DirectionalLight(color='white', intensity=0.6, position=(3.4075412…"
      ]
     },
     "metadata": {},
     "output_type": "display_data"
    },
    {
     "name": "stdout",
     "output_type": "stream",
     "text": [
      " \n",
      "Watermarked Mesh\n"
     ]
    },
    {
     "data": {
      "application/vnd.jupyter.widget-view+json": {
       "model_id": "4b812cd67b1b464d87c3832aea7d9dba",
       "version_major": 2,
       "version_minor": 0
      },
      "text/plain": [
       "Renderer(camera=PerspectiveCamera(children=(DirectionalLight(color='white', intensity=0.6, position=(3.4075412…"
      ]
     },
     "metadata": {},
     "output_type": "display_data"
    },
    {
     "name": "stdout",
     "output_type": "stream",
     "text": [
      "Partitioning mesh...\n"
     ]
    },
    {
     "data": {
      "application/vnd.jupyter.widget-view+json": {
       "model_id": "02f122b02feb464785569a51c5714e2e",
       "version_major": 2,
       "version_minor": 0
      },
      "text/plain": [
       "Renderer(camera=PerspectiveCamera(children=(DirectionalLight(color='white', intensity=0.6, position=(3.4075412…"
      ]
     },
     "metadata": {},
     "output_type": "display_data"
    },
    {
     "name": "stdout",
     "output_type": "stream",
     "text": [
      "327\n",
      "Step 1: Mesh patched\n",
      "Inserting data in  327  submeshes\n",
      "Data inserted\n",
      "654666\n",
      "########## Embedding finished ##########\n",
      "327  bits inserted\n",
      " \n",
      "Time to embed watermark:  486.5542211532593\n",
      " \n",
      " \n",
      "########## Retrieval started ##########\n",
      "327323\n",
      "654666\n"
     ]
    },
    {
     "data": {
      "application/vnd.jupyter.widget-view+json": {
       "model_id": "0fc1aa0dd3c74957b9b4780222429872",
       "version_major": 2,
       "version_minor": 0
      },
      "text/plain": [
       "Renderer(camera=PerspectiveCamera(children=(DirectionalLight(color='white', intensity=0.6, position=(3.4075412…"
      ]
     },
     "metadata": {},
     "output_type": "display_data"
    },
    {
     "name": "stdout",
     "output_type": "stream",
     "text": [
      "327\n",
      "Step 1: Mesh patched\n",
      "Step 2: Data retrieved\n",
      "########## Retrieval finished ##########\n",
      "Time taken to embed watermark:  193.64150643348694\n",
      " \n",
      "RMS Error Computed:  0.03236755348336925\n",
      " \n",
      "Hausdorff Distance Computed:  0.0016305388203039506\n",
      " \n",
      "Local Smoothness Computed  0.00022656323750978942\n",
      " \n",
      "number of errors:  0\n",
      " \n",
      "Original Mesh\n"
     ]
    },
    {
     "data": {
      "application/vnd.jupyter.widget-view+json": {
       "model_id": "8ff23a26d24f43aaab059c244a5598ac",
       "version_major": 2,
       "version_minor": 0
      },
      "text/plain": [
       "Renderer(camera=PerspectiveCamera(children=(DirectionalLight(color='white', intensity=0.6, position=(3.4075412…"
      ]
     },
     "metadata": {},
     "output_type": "display_data"
    },
    {
     "name": "stdout",
     "output_type": "stream",
     "text": [
      " \n",
      "Watermarked Mesh\n"
     ]
    },
    {
     "data": {
      "application/vnd.jupyter.widget-view+json": {
       "model_id": "3242d5328b04452f9cc6525fa349913f",
       "version_major": 2,
       "version_minor": 0
      },
      "text/plain": [
       "Renderer(camera=PerspectiveCamera(children=(DirectionalLight(color='white', intensity=0.6, position=(3.4075412…"
      ]
     },
     "metadata": {},
     "output_type": "display_data"
    },
    {
     "name": "stdout",
     "output_type": "stream",
     "text": [
      "Partitioning mesh...\n"
     ]
    },
    {
     "data": {
      "application/vnd.jupyter.widget-view+json": {
       "model_id": "ecf0ef978de049959a8835ea283b060a",
       "version_major": 2,
       "version_minor": 0
      },
      "text/plain": [
       "Renderer(camera=PerspectiveCamera(children=(DirectionalLight(color='white', intensity=0.6, position=(3.4075412…"
      ]
     },
     "metadata": {},
     "output_type": "display_data"
    },
    {
     "name": "stdout",
     "output_type": "stream",
     "text": [
      "327\n",
      "Step 1: Mesh patched\n",
      "Inserting data in  327  submeshes\n",
      "Data inserted\n",
      "654666\n",
      "########## Embedding finished ##########\n",
      "327  bits inserted\n",
      " \n",
      "Time to embed watermark:  488.5258390903473\n",
      " \n",
      " \n",
      "########## Retrieval started ##########\n",
      "327323\n",
      "654666\n"
     ]
    },
    {
     "data": {
      "application/vnd.jupyter.widget-view+json": {
       "model_id": "03668cb7ff36410e81b8a6ce056f5c7d",
       "version_major": 2,
       "version_minor": 0
      },
      "text/plain": [
       "Renderer(camera=PerspectiveCamera(children=(DirectionalLight(color='white', intensity=0.6, position=(3.4075412…"
      ]
     },
     "metadata": {},
     "output_type": "display_data"
    },
    {
     "name": "stdout",
     "output_type": "stream",
     "text": [
      "327\n",
      "Step 1: Mesh patched\n",
      "Step 2: Data retrieved\n",
      "########## Retrieval finished ##########\n",
      "Time taken to embed watermark:  193.49925351142883\n",
      " \n",
      "RMS Error Computed:  0.03236755348336925\n",
      " \n",
      "Hausdorff Distance Computed:  0.0016305388203039506\n",
      " \n",
      "Local Smoothness Computed  0.00022656323750978942\n",
      " \n",
      "number of errors:  0\n",
      " \n",
      "Original Mesh\n"
     ]
    },
    {
     "data": {
      "application/vnd.jupyter.widget-view+json": {
       "model_id": "867c9d7cc4d84e75b8e8348038e50de7",
       "version_major": 2,
       "version_minor": 0
      },
      "text/plain": [
       "Renderer(camera=PerspectiveCamera(children=(DirectionalLight(color='white', intensity=0.6, position=(3.4075412…"
      ]
     },
     "metadata": {},
     "output_type": "display_data"
    },
    {
     "name": "stdout",
     "output_type": "stream",
     "text": [
      " \n",
      "Watermarked Mesh\n"
     ]
    },
    {
     "data": {
      "application/vnd.jupyter.widget-view+json": {
       "model_id": "65edf62e7ae745c6a0bd4b2e48e2cb72",
       "version_major": 2,
       "version_minor": 0
      },
      "text/plain": [
       "Renderer(camera=PerspectiveCamera(children=(DirectionalLight(color='white', intensity=0.6, position=(3.4075412…"
      ]
     },
     "metadata": {},
     "output_type": "display_data"
    },
    {
     "name": "stdout",
     "output_type": "stream",
     "text": [
      "Partitioning mesh...\n"
     ]
    },
    {
     "data": {
      "application/vnd.jupyter.widget-view+json": {
       "model_id": "b554e8b00cf64962b309468cbc71173b",
       "version_major": 2,
       "version_minor": 0
      },
      "text/plain": [
       "Renderer(camera=PerspectiveCamera(children=(DirectionalLight(color='white', intensity=0.6, position=(3.4075412…"
      ]
     },
     "metadata": {},
     "output_type": "display_data"
    },
    {
     "name": "stdout",
     "output_type": "stream",
     "text": [
      "327\n",
      "Step 1: Mesh patched\n",
      "Inserting data in  327  submeshes\n",
      "Data inserted\n",
      "654666\n",
      "########## Embedding finished ##########\n",
      "327  bits inserted\n",
      " \n",
      "Time to embed watermark:  490.56225848197937\n",
      " \n",
      " \n",
      "########## Retrieval started ##########\n",
      "327323\n",
      "654666\n"
     ]
    },
    {
     "data": {
      "application/vnd.jupyter.widget-view+json": {
       "model_id": "2c7f7b5b6fa3487592da005dc73c8b03",
       "version_major": 2,
       "version_minor": 0
      },
      "text/plain": [
       "Renderer(camera=PerspectiveCamera(children=(DirectionalLight(color='white', intensity=0.6, position=(3.4075412…"
      ]
     },
     "metadata": {},
     "output_type": "display_data"
    },
    {
     "name": "stdout",
     "output_type": "stream",
     "text": [
      "327\n",
      "Step 1: Mesh patched\n",
      "Step 2: Data retrieved\n",
      "########## Retrieval finished ##########\n",
      "Time taken to embed watermark:  193.12335181236267\n",
      " \n",
      "RMS Error Computed:  0.03236755348336925\n",
      " \n",
      "Hausdorff Distance Computed:  0.0016305388203039506\n",
      " \n",
      "Local Smoothness Computed  0.00022656323750978942\n",
      " \n",
      "number of errors:  0\n",
      " \n",
      "Original Mesh\n"
     ]
    },
    {
     "data": {
      "application/vnd.jupyter.widget-view+json": {
       "model_id": "e04cf02ebe924268890893081bc008c7",
       "version_major": 2,
       "version_minor": 0
      },
      "text/plain": [
       "Renderer(camera=PerspectiveCamera(children=(DirectionalLight(color='white', intensity=0.6, position=(3.4075412…"
      ]
     },
     "metadata": {},
     "output_type": "display_data"
    },
    {
     "name": "stdout",
     "output_type": "stream",
     "text": [
      " \n",
      "Watermarked Mesh\n"
     ]
    },
    {
     "data": {
      "application/vnd.jupyter.widget-view+json": {
       "model_id": "22fc98f2f5544dba918267cc5ae1b22d",
       "version_major": 2,
       "version_minor": 0
      },
      "text/plain": [
       "Renderer(camera=PerspectiveCamera(children=(DirectionalLight(color='white', intensity=0.6, position=(3.4075412…"
      ]
     },
     "metadata": {},
     "output_type": "display_data"
    },
    {
     "name": "stdout",
     "output_type": "stream",
     "text": [
      "Partitioning mesh...\n"
     ]
    },
    {
     "data": {
      "application/vnd.jupyter.widget-view+json": {
       "model_id": "35494726f3934e8681eeb197e0daf351",
       "version_major": 2,
       "version_minor": 0
      },
      "text/plain": [
       "Renderer(camera=PerspectiveCamera(children=(DirectionalLight(color='white', intensity=0.6, position=(3.4075412…"
      ]
     },
     "metadata": {},
     "output_type": "display_data"
    },
    {
     "name": "stdout",
     "output_type": "stream",
     "text": [
      "327\n",
      "Step 1: Mesh patched\n",
      "Inserting data in  327  submeshes\n",
      "Data inserted\n",
      "654666\n",
      "########## Embedding finished ##########\n",
      "327  bits inserted\n",
      " \n",
      "Time to embed watermark:  486.1217622756958\n",
      " \n",
      " \n",
      "########## Retrieval started ##########\n",
      "327323\n",
      "654666\n"
     ]
    },
    {
     "data": {
      "application/vnd.jupyter.widget-view+json": {
       "model_id": "1f242e139a364bfca876fb7c2e9627bb",
       "version_major": 2,
       "version_minor": 0
      },
      "text/plain": [
       "Renderer(camera=PerspectiveCamera(children=(DirectionalLight(color='white', intensity=0.6, position=(3.4075412…"
      ]
     },
     "metadata": {},
     "output_type": "display_data"
    },
    {
     "name": "stdout",
     "output_type": "stream",
     "text": [
      "327\n",
      "Step 1: Mesh patched\n",
      "Step 2: Data retrieved\n",
      "########## Retrieval finished ##########\n",
      "Time taken to embed watermark:  193.02142310142517\n",
      " \n",
      "RMS Error Computed:  0.03236755348336925\n",
      " \n",
      "Hausdorff Distance Computed:  0.0016305388203039506\n",
      " \n",
      "Local Smoothness Computed  0.00022656323750978942\n",
      " \n",
      "number of errors:  0\n",
      " \n",
      "Original Mesh\n"
     ]
    },
    {
     "data": {
      "application/vnd.jupyter.widget-view+json": {
       "model_id": "8cac14cfb1984d8b9e86adf9908e190f",
       "version_major": 2,
       "version_minor": 0
      },
      "text/plain": [
       "Renderer(camera=PerspectiveCamera(children=(DirectionalLight(color='white', intensity=0.6, position=(3.4075412…"
      ]
     },
     "metadata": {},
     "output_type": "display_data"
    },
    {
     "name": "stdout",
     "output_type": "stream",
     "text": [
      " \n",
      "Watermarked Mesh\n"
     ]
    },
    {
     "data": {
      "application/vnd.jupyter.widget-view+json": {
       "model_id": "9aff31e400ff4f5ba75624072c66d777",
       "version_major": 2,
       "version_minor": 0
      },
      "text/plain": [
       "Renderer(camera=PerspectiveCamera(children=(DirectionalLight(color='white', intensity=0.6, position=(3.4075412…"
      ]
     },
     "metadata": {},
     "output_type": "display_data"
    },
    {
     "name": "stdout",
     "output_type": "stream",
     "text": [
      "Partitioning mesh...\n"
     ]
    },
    {
     "data": {
      "application/vnd.jupyter.widget-view+json": {
       "model_id": "d64933f94cab458da01c6efb86de2a7c",
       "version_major": 2,
       "version_minor": 0
      },
      "text/plain": [
       "Renderer(camera=PerspectiveCamera(children=(DirectionalLight(color='white', intensity=0.6, position=(3.4075412…"
      ]
     },
     "metadata": {},
     "output_type": "display_data"
    },
    {
     "name": "stdout",
     "output_type": "stream",
     "text": [
      "327\n",
      "Step 1: Mesh patched\n",
      "Inserting data in  327  submeshes\n",
      "Data inserted\n",
      "654666\n",
      "########## Embedding finished ##########\n",
      "477  bits inserted\n",
      " \n",
      "Time to embed watermark:  486.07247376441956\n",
      " \n",
      " \n",
      "########## Retrieval started ##########\n",
      "327323\n",
      "654666\n"
     ]
    },
    {
     "data": {
      "application/vnd.jupyter.widget-view+json": {
       "model_id": "4cfc9cbdbb1b43af9d78f555b86dba36",
       "version_major": 2,
       "version_minor": 0
      },
      "text/plain": [
       "Renderer(camera=PerspectiveCamera(children=(DirectionalLight(color='white', intensity=0.6, position=(3.4075013…"
      ]
     },
     "metadata": {},
     "output_type": "display_data"
    },
    {
     "name": "stdout",
     "output_type": "stream",
     "text": [
      "327\n",
      "Step 1: Mesh patched\n",
      "Step 2: Data retrieved\n",
      "########## Retrieval finished ##########\n",
      "Time taken to embed watermark:  192.72102451324463\n",
      " \n",
      "RMS Error Computed:  0.04449038173191596\n",
      " \n",
      "Hausdorff Distance Computed:  0.0016305388203039506\n",
      " \n",
      "Local Smoothness Computed  0.0003747785330553077\n",
      " \n",
      "number of errors:  0\n",
      " \n",
      "Original Mesh\n"
     ]
    },
    {
     "data": {
      "application/vnd.jupyter.widget-view+json": {
       "model_id": "5211d418586c42c5af0bc753262f7bde",
       "version_major": 2,
       "version_minor": 0
      },
      "text/plain": [
       "Renderer(camera=PerspectiveCamera(children=(DirectionalLight(color='white', intensity=0.6, position=(3.4075412…"
      ]
     },
     "metadata": {},
     "output_type": "display_data"
    },
    {
     "name": "stdout",
     "output_type": "stream",
     "text": [
      " \n",
      "Watermarked Mesh\n"
     ]
    },
    {
     "data": {
      "application/vnd.jupyter.widget-view+json": {
       "model_id": "5a84f268c8304c959403830c6e11c828",
       "version_major": 2,
       "version_minor": 0
      },
      "text/plain": [
       "Renderer(camera=PerspectiveCamera(children=(DirectionalLight(color='white', intensity=0.6, position=(3.4075013…"
      ]
     },
     "metadata": {},
     "output_type": "display_data"
    },
    {
     "data": {
      "image/png": "[encoded data removed]",
      "text/plain": [
       "<Figure size 432x288 with 1 Axes>"
      ]
     },
     "metadata": {
      "needs_background": "light"
     },
     "output_type": "display_data"
    },
    {
     "data": {
      "image/png": "[encoded data removed]",
      "text/plain": [
       "<Figure size 432x288 with 1 Axes>"
      ]
     },
     "metadata": {
      "needs_background": "light"
     },
     "output_type": "display_data"
    },
    {
     "data": {
      "image/png": "[encoded data removed]",
      "text/plain": [
       "<Figure size 432x288 with 1 Axes>"
      ]
     },
     "metadata": {
      "needs_background": "light"
     },
     "output_type": "display_data"
    },
    {
     "data": {
      "image/png": "[encoded data removed]",
      "text/plain": [
       "<Figure size 432x288 with 1 Axes>"
      ]
     },
     "metadata": {
      "needs_background": "light"
     },
     "output_type": "display_data"
    },
    {
     "data": {
      "image/png": "[encoded data removed]",
      "text/plain": [
       "<Figure size 432x288 with 1 Axes>"
      ]
     },
     "metadata": {
      "needs_background": "light"
     },
     "output_type": "display_data"
    }
   ],
   "source": [
    "if __name__ == '__main__':\n",
    "    \n",
    "    errorlist = []\n",
    "    rmslist = []\n",
    "    hauslist = []\n",
    "    smoothlist = []\n",
    "    capacitylist = []\n",
    "    \n",
    "    mesh = igl.read_triangle_mesh(\"source_models/hand.ply\")\n",
    "    num_submeshes = round(len(mesh[0])/1000\n",
    "                         )\n",
    "    strengths = [x * 0.00001 for x in range(0, 11)]\n",
    "    print(strengths)\n",
    "    print(mesh[0])\n",
    "    print(mesh[1])\n",
    "    for i in strengths:\n",
    "        errors,rms,hausdorff,smoothness, capacity= embed_and_extract(num_submeshes,i)\n",
    "        errorlist.append(errors)\n",
    "        rmslist.append(rms)\n",
    "        hauslist.append(hausdorff)\n",
    "        smoothlist.append(smoothness)\n",
    "        capacitylist.append(capacity)\n",
    "    \n",
    "    x = strengths        \n",
    "    y = errorlist\n",
    "    plt.title(\"Number of errors by strength\") \n",
    "    plt.xlabel(\"Strength\") \n",
    "    plt.ylabel(\"Errors\") \n",
    "    plt.plot(x,y)\n",
    "    plt.show()\n",
    "    \n",
    "    x = strengths        \n",
    "    y = rmslist\n",
    "    plt.title(\"RMS Error by strength\") \n",
    "    plt.xlabel(\"Strength\") \n",
    "    plt.ylabel(\"RMS Error\") \n",
    "    plt.plot(x,y)\n",
    "    plt.show()\n",
    "    \n",
    "    x = strengths        \n",
    "    y = hauslist\n",
    "    plt.title(\"Hausdorff Distance by strength\") \n",
    "    plt.xlabel(\"Strength\") \n",
    "    plt.ylabel(\"Hausdorff Distance\") \n",
    "    plt.plot(x,y)\n",
    "    plt.show()\n",
    "    \n",
    "    x = strengths        \n",
    "    y = smoothlist\n",
    "    plt.title(\"Local Smoothness by strength\") \n",
    "    plt.xlabel(\"Strength\") \n",
    "    plt.ylabel(\"Local Smoothness\") \n",
    "    plt.plot(x,y)\n",
    "    plt.show()\n",
    "    \n",
    "    x = strengths        \n",
    "    y = capacitylist\n",
    "    plt.title(\"Capacity by strength\") \n",
    "    plt.xlabel(\"Strength\") \n",
    "    plt.ylabel(\"Capacity (bits)\") \n",
    "    plt.plot(x,y)\n",
    "    plt.show()\n"
   ]
  },
  {
   "cell_type": "code",
   "execution_count": null,
   "id": "f3ffdc3c",
   "metadata": {},
   "outputs": [],
   "source": []
  },
  {
   "cell_type": "code",
   "execution_count": null,
   "id": "63b23130",
   "metadata": {},
   "outputs": [],
   "source": []
  }
 ],
 "metadata": {
  "kernelspec": {
   "display_name": "Python 3",
   "language": "python",
   "name": "python3"
  },
  "language_info": {
   "codemirror_mode": {
    "name": "ipython",
    "version": 3
   },
   "file_extension": ".py",
   "mimetype": "text/x-python",
   "name": "python",
   "nbconvert_exporter": "python",
   "pygments_lexer": "ipython3",
   "version": "3.6.13"
  }
 },
 "nbformat": 4,
 "nbformat_minor": 5
}
