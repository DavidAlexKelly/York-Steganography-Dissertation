{
 "cells": [
  {
   "cell_type": "code",
   "execution_count": 1,
   "id": "b87465fe",
   "metadata": {},
   "outputs": [
    {
     "name": "stdout",
     "output_type": "stream",
     "text": [
      "importing Jupyter notebook from partitioning.ipynb\n",
      "importing Jupyter notebook from spectral_decomposition.ipynb\n",
      "importing Jupyter notebook from embedding.ipynb\n",
      "importing Jupyter notebook from retrieval.ipynb\n",
      "importing Jupyter notebook from distortion.ipynb\n",
      "importing Jupyter notebook from attacks.ipynb\n"
     ]
    }
   ],
   "source": [
    "import random\n",
    "import os\n",
    "import sys\n",
    "import time\n",
    "import meshplot as mp\n",
    "import import_ipynb\n",
    "import igl\n",
    "import matplotlib.pyplot as plt\n",
    "\n",
    "\n",
    "import partitioning\n",
    "import spectral_decomposition\n",
    "import distortion\n",
    "import attacks"
   ]
  },
  {
   "cell_type": "code",
   "execution_count": 2,
   "id": "7c862ef1",
   "metadata": {},
   "outputs": [],
   "source": [
    "def embed_and_extract(patches = 60,strength = 100,data = [0, 1]*32):\n",
    "    embed(patches,strength)\n",
    "    errors = extract(patches,strength)\n",
    "    return errors\n",
    "  "
   ]
  },
  {
   "cell_type": "code",
   "execution_count": 3,
   "id": "575f9024",
   "metadata": {},
   "outputs": [],
   "source": [
    "def embed(patches = 60,strength = 100,data = [0, 1]*32):\n",
    "\n",
    "    original_filename = \"source_models/bunny.ply\"\n",
    "    watermarked_filename = \"watermarked_models/bunny_strength\"+str(strength)+ \"_patches\" + str(patches) + \".ply\"\n",
    "\n",
    "    # Insertion of the watermark\n",
    "    embed_start = time.time()\n",
    "    capacity = spectral_decomposition.insert(original_filename, watermarked_filename, data, 123456, strength, patches)\n",
    "    embed_end = time.time()\n",
    "    \n",
    "    print(capacity,\" bits inserted\")\n",
    "    print(\" \")\n",
    "    print(\"Time to embed watermark: \", embed_end - embed_start)\n",
    "    print(\" \")\n",
    "    print(\" \")\n",
    "    "
   ]
  },
  {
   "cell_type": "code",
   "execution_count": 4,
   "id": "e3437578",
   "metadata": {},
   "outputs": [],
   "source": [
    "def extract(patches = 60,strength = 100,data = [0, 1]*32):\n",
    "    \n",
    "    original_filename = \"source_models/bunny.ply\"\n",
    "    watermarked_filename = \"watermarked_models/bunny_strength\"+str(strength)+ \"_patches\" + str(patches) + \".ply\"\n",
    "    \n",
    "     # Extraction of the watermark\n",
    "    extract_start = time.time()\n",
    "    retrieved = spectral_decomposition.extract(watermarked_filename, 123456, 64, strength, patches,original_filename)\n",
    "    extract_end = time.time()\n",
    "    \n",
    "    print(\"Time taken to embed watermark: \", extract_end - extract_start)\n",
    "    print(\" \")\n",
    "    \n",
    "    # Compute the number of errors\n",
    "    errors = 0\n",
    "    for i in range(len(data)):\n",
    "        if data[i] != retrieved[i]:\n",
    "            errors +=1\n",
    "            \n",
    "    original_mesh = igl.read_triangle_mesh(original_filename)\n",
    "    watermarked_mesh = igl.read_triangle_mesh(watermarked_filename)\n",
    "\n",
    "    rms = distortion.rms_error(original_mesh, watermarked_mesh)\n",
    "    print(\"RMS Error Computed: \",rms)\n",
    "    print(\" \")\n",
    "    \n",
    "    hausdorff = distortion.hausdorff_distance(original_mesh, watermarked_mesh)\n",
    "    print(\"Hausdorff Distance Computed: \", hausdorff)\n",
    "    print(\" \")\n",
    "    \n",
    "    smoothness = distortion.local_smoothness(original_mesh, watermarked_mesh)\n",
    "    print(\"Local Smoothness Computed \", smoothness)\n",
    "    print(\" \")\n",
    "    \n",
    "    print(\"number of errors: \", errors)\n",
    "    print(\" \")\n",
    "    \n",
    "    print(\"Original Mesh\")\n",
    "    mp.plot(original_mesh[0],original_mesh[1])\n",
    "    print(\" \")\n",
    "    \n",
    "    print(\"Watermarked Mesh\")\n",
    "    mp.plot(watermarked_mesh[0],watermarked_mesh[1])\n",
    "    \n",
    "    return errors"
   ]
  },
  {
   "cell_type": "code",
   "execution_count": 5,
   "id": "5267d4e5",
   "metadata": {},
   "outputs": [],
   "source": [
    "def noise_attack():\n",
    "    \n",
    "    data = [0, 1]*32\n",
    "    \n",
    "    patches = 20\n",
    "    strength = 5\n",
    "    amplitude = 0.001\n",
    "    \n",
    "    in_name = \"source_models/bunny.ply\"\n",
    "    filename = \"watermarked_models/bunny_strength\"+str(strength)+ \"_patches\" + str(patches) + \".ply\"\n",
    "    original_mesh = igl.read_triangle_mesh(in_name)\n",
    "\n",
    "    watermarked_mesh = igl.read_triangle_mesh(filename)\n",
    "    watermarkedVertices = watermarked_mesh[0]\n",
    "    watermarkedFaces = watermarked_mesh[1]\n",
    "    \n",
    "    file_noisy = \"watermarked_models/bunny_strength\"+str(strength)+ \"_patches\" + str(patches) + \"_amplitude\" + str(amplitude) + \".ply\"\n",
    "    # Add random noise to the model then save it\n",
    "    noise_mesh = attacks.noise(watermarked_mesh, amplitude)\n",
    "    mp.plot(noise_mesh[0],noise_mesh[1])\n",
    "    igl.write_triangle_mesh(file_noisy,noise_mesh[0],noise_mesh[1])\n",
    "    # Extraction of the watermark\n",
    "    retrieved = spectral_decomposition.extract(file_noisy, 123456, 64, strength, patches,in_name)\n",
    "    # Compute the number of errors\n",
    "    n_errors = len([x for x, y in zip(data, retrieved) if x != y])\n",
    "    # Write the results to a file\n",
    "    print(\"Number of errors: \",n_errors)\n",
    "        "
   ]
  },
  {
   "cell_type": "code",
   "execution_count": 6,
   "id": "2657fa66",
   "metadata": {},
   "outputs": [],
   "source": [
    "def smooth_attack():\n",
    "    \n",
    "    data = [0, 1]*32\n",
    "    \n",
    "    patches = 60\n",
    "    strength = 100\n",
    "    iterations = 1\n",
    "\n",
    "    in_name = \"source_models/hand.ply\"\n",
    "    filename = \"watermarked_models/hand_strength\"+str(strength)+ \"_patches\" + str(patches) + \".ply\"\n",
    "    original_mesh = igl.read_triangle_mesh(in_name)\n",
    "\n",
    "    watermarked_mesh = igl.read_triangle_mesh(filename)\n",
    "    watermarkedVertices = watermarked_mesh[0]\n",
    "    watermarkedFaces = watermarked_mesh[1]\n",
    "       \n",
    "    file_smoothed = \"watermarked_models/bunny_strength\"+str(strength)+ \"_patches\" + str(patches) + \"_iterations\" + str(iterations) + \".ply\"\n",
    "    # Smooth the model then save it\n",
    "\n",
    "    new_mesh = attacks.smoothing(watermarked_mesh, iterations)\n",
    "    mp.plot(new_mesh[0],new_mesh[1])\n",
    "    igl.write_triangle_mesh(file_smoothed, new_mesh[0], new_mesh[1])\n",
    "    # Extraction of the watermark\n",
    "    retrieved = spectral_decomposition.extract(file_smoothed, 123456, 64, strength, patches,in_name)\n",
    "    # Compute the number of errors\n",
    "    n_errors = len([x for x, y in zip(data, retrieved) if x != y])\n",
    "    # Write the results to a file\n",
    "    print(\"Number of errors: \",n_errors)\n",
    "    "
   ]
  },
  {
   "cell_type": "code",
   "execution_count": 7,
   "id": "3219b0f8",
   "metadata": {
    "scrolled": false
   },
   "outputs": [
    {
     "name": "stdout",
     "output_type": "stream",
     "text": [
      "[1, 2, 3, 4, 5, 6, 7, 8, 9, 10]\n",
      "[[1.89945996 0.19169401 2.05405998]\n",
      " [1.91260004 0.18775    2.04092002]\n",
      " [1.90101004 0.19169401 2.04092002]\n",
      " ...\n",
      " [1.96518004 4.82233    2.35639   ]\n",
      " [1.96518004 4.81884003 2.36953998]\n",
      " [1.97833002 4.82066011 2.34325004]]\n",
      "[[     1      2      3]\n",
      " [     1      4      0]\n",
      " [     1      0      2]\n",
      " ...\n",
      " [327321 327240 327249]\n",
      " [327322 327256 327245]\n",
      " [327322 327247 327256]]\n",
      "Partitioning mesh...\n",
      "327323\n",
      "654666\n"
     ]
    },
    {
     "data": {
      "application/vnd.jupyter.widget-view+json": {
       "model_id": "d2d09ccf5d4a41bfadda6f7552c519db",
       "version_major": 2,
       "version_minor": 0
      },
      "text/plain": [
       "Renderer(camera=PerspectiveCamera(children=(DirectionalLight(color='white', intensity=0.6, position=(3.4075412…"
      ]
     },
     "metadata": {},
     "output_type": "display_data"
    },
    {
     "name": "stdout",
     "output_type": "stream",
     "text": [
      "Step 1: Mesh patched\n",
      "Inserting data in  6546  submeshes\n"
     ]
    },
    {
     "name": "stderr",
     "output_type": "stream",
     "text": [
      "<string>:51: ComplexWarning: Casting complex values to real discards the imaginary part\n",
      "<string>:52: ComplexWarning: Casting complex values to real discards the imaginary part\n",
      "<string>:53: ComplexWarning: Casting complex values to real discards the imaginary part\n",
      "<string>:42: ComplexWarning: Casting complex values to real discards the imaginary part\n",
      "<string>:43: ComplexWarning: Casting complex values to real discards the imaginary part\n",
      "<string>:44: ComplexWarning: Casting complex values to real discards the imaginary part\n"
     ]
    },
    {
     "name": "stdout",
     "output_type": "stream",
     "text": [
      "Data inserted\n",
      "########## Embedding finished ##########\n",
      "6623  bits inserted\n",
      " \n",
      "Time to embed watermark:  1622.845402956009\n",
      " \n",
      " \n",
      "########## Retrieval started ##########\n",
      "327323\n",
      "654666\n"
     ]
    },
    {
     "data": {
      "application/vnd.jupyter.widget-view+json": {
       "model_id": "6c29ffff0f16455f84dea11d86df0345",
       "version_major": 2,
       "version_minor": 0
      },
      "text/plain": [
       "Renderer(camera=PerspectiveCamera(children=(DirectionalLight(color='white', intensity=0.6, position=(3.4076835…"
      ]
     },
     "metadata": {},
     "output_type": "display_data"
    },
    {
     "ename": "KeyboardInterrupt",
     "evalue": "",
     "output_type": "error",
     "traceback": [
      "\u001b[1;31m---------------------------------------------------------------------------\u001b[0m",
      "\u001b[1;31mKeyboardInterrupt\u001b[0m                         Traceback (most recent call last)",
      "\u001b[1;32m~\\AppData\\Local\\Temp/ipykernel_9668/528907622.py\u001b[0m in \u001b[0;36m<module>\u001b[1;34m\u001b[0m\n\u001b[0;32m      8\u001b[0m     \u001b[0mprint\u001b[0m\u001b[1;33m(\u001b[0m\u001b[0mmesh\u001b[0m\u001b[1;33m[\u001b[0m\u001b[1;36m1\u001b[0m\u001b[1;33m]\u001b[0m\u001b[1;33m)\u001b[0m\u001b[1;33m\u001b[0m\u001b[1;33m\u001b[0m\u001b[0m\n\u001b[0;32m      9\u001b[0m     \u001b[1;32mfor\u001b[0m \u001b[0mi\u001b[0m \u001b[1;32min\u001b[0m \u001b[0mstrengths\u001b[0m\u001b[1;33m:\u001b[0m\u001b[1;33m\u001b[0m\u001b[1;33m\u001b[0m\u001b[0m\n\u001b[1;32m---> 10\u001b[1;33m         \u001b[0merrors\u001b[0m\u001b[1;33m.\u001b[0m\u001b[0mappend\u001b[0m\u001b[1;33m(\u001b[0m\u001b[0membed_and_extract\u001b[0m\u001b[1;33m(\u001b[0m\u001b[0mnum_submeshes\u001b[0m\u001b[1;33m,\u001b[0m\u001b[0mi\u001b[0m\u001b[1;33m)\u001b[0m\u001b[1;33m)\u001b[0m\u001b[1;33m\u001b[0m\u001b[1;33m\u001b[0m\u001b[0m\n\u001b[0m\u001b[0;32m     11\u001b[0m \u001b[1;33m\u001b[0m\u001b[0m\n\u001b[0;32m     12\u001b[0m \u001b[1;33m\u001b[0m\u001b[0m\n",
      "\u001b[1;32m~\\AppData\\Local\\Temp/ipykernel_9668/806009380.py\u001b[0m in \u001b[0;36membed_and_extract\u001b[1;34m(patches, strength, data)\u001b[0m\n\u001b[0;32m      1\u001b[0m \u001b[1;32mdef\u001b[0m \u001b[0membed_and_extract\u001b[0m\u001b[1;33m(\u001b[0m\u001b[0mpatches\u001b[0m \u001b[1;33m=\u001b[0m \u001b[1;36m60\u001b[0m\u001b[1;33m,\u001b[0m\u001b[0mstrength\u001b[0m \u001b[1;33m=\u001b[0m \u001b[1;36m100\u001b[0m\u001b[1;33m,\u001b[0m\u001b[0mdata\u001b[0m \u001b[1;33m=\u001b[0m \u001b[1;33m[\u001b[0m\u001b[1;36m0\u001b[0m\u001b[1;33m,\u001b[0m \u001b[1;36m1\u001b[0m\u001b[1;33m]\u001b[0m\u001b[1;33m*\u001b[0m\u001b[1;36m32\u001b[0m\u001b[1;33m)\u001b[0m\u001b[1;33m:\u001b[0m\u001b[1;33m\u001b[0m\u001b[1;33m\u001b[0m\u001b[0m\n\u001b[0;32m      2\u001b[0m     \u001b[0membed\u001b[0m\u001b[1;33m(\u001b[0m\u001b[0mpatches\u001b[0m\u001b[1;33m,\u001b[0m\u001b[0mstrength\u001b[0m\u001b[1;33m)\u001b[0m\u001b[1;33m\u001b[0m\u001b[1;33m\u001b[0m\u001b[0m\n\u001b[1;32m----> 3\u001b[1;33m     \u001b[0merrors\u001b[0m \u001b[1;33m=\u001b[0m \u001b[0mextract\u001b[0m\u001b[1;33m(\u001b[0m\u001b[0mpatches\u001b[0m\u001b[1;33m,\u001b[0m\u001b[0mstrength\u001b[0m\u001b[1;33m)\u001b[0m\u001b[1;33m\u001b[0m\u001b[1;33m\u001b[0m\u001b[0m\n\u001b[0m\u001b[0;32m      4\u001b[0m     \u001b[1;32mreturn\u001b[0m \u001b[0merrors\u001b[0m\u001b[1;33m\u001b[0m\u001b[1;33m\u001b[0m\u001b[0m\n\u001b[0;32m      5\u001b[0m \u001b[1;33m\u001b[0m\u001b[0m\n",
      "\u001b[1;32m~\\AppData\\Local\\Temp/ipykernel_9668/3539632210.py\u001b[0m in \u001b[0;36mextract\u001b[1;34m(patches, strength, data)\u001b[0m\n\u001b[0;32m      6\u001b[0m      \u001b[1;31m# Extraction of the watermark\u001b[0m\u001b[1;33m\u001b[0m\u001b[1;33m\u001b[0m\u001b[0m\n\u001b[0;32m      7\u001b[0m     \u001b[0mextract_start\u001b[0m \u001b[1;33m=\u001b[0m \u001b[0mtime\u001b[0m\u001b[1;33m.\u001b[0m\u001b[0mtime\u001b[0m\u001b[1;33m(\u001b[0m\u001b[1;33m)\u001b[0m\u001b[1;33m\u001b[0m\u001b[1;33m\u001b[0m\u001b[0m\n\u001b[1;32m----> 8\u001b[1;33m     \u001b[0mretrieved\u001b[0m \u001b[1;33m=\u001b[0m \u001b[0mspectral_decomposition\u001b[0m\u001b[1;33m.\u001b[0m\u001b[0mextract\u001b[0m\u001b[1;33m(\u001b[0m\u001b[0mwatermarked_filename\u001b[0m\u001b[1;33m,\u001b[0m \u001b[1;36m123456\u001b[0m\u001b[1;33m,\u001b[0m \u001b[1;36m64\u001b[0m\u001b[1;33m,\u001b[0m \u001b[0mstrength\u001b[0m\u001b[1;33m,\u001b[0m \u001b[0mpatches\u001b[0m\u001b[1;33m,\u001b[0m\u001b[0moriginal_filename\u001b[0m\u001b[1;33m)\u001b[0m\u001b[1;33m\u001b[0m\u001b[1;33m\u001b[0m\u001b[0m\n\u001b[0m\u001b[0;32m      9\u001b[0m     \u001b[0mextract_end\u001b[0m \u001b[1;33m=\u001b[0m \u001b[0mtime\u001b[0m\u001b[1;33m.\u001b[0m\u001b[0mtime\u001b[0m\u001b[1;33m(\u001b[0m\u001b[1;33m)\u001b[0m\u001b[1;33m\u001b[0m\u001b[1;33m\u001b[0m\u001b[0m\n\u001b[0;32m     10\u001b[0m \u001b[1;33m\u001b[0m\u001b[0m\n",
      "\u001b[1;32m~\\Documents\\Python Digital Watermarking\\spectral_decomposition.ipynb\u001b[0m in \u001b[0;36mextract\u001b[1;34m(filename, secret, length, strength, partitions, original_filename)\u001b[0m\n",
      "\u001b[1;32m~\\Documents\\Python Digital Watermarking\\partitioning.ipynb\u001b[0m in \u001b[0;36mmesh_partitioning\u001b[1;34m(mesh, partitions, partitions_list)\u001b[0m\n",
      "\u001b[1;31mKeyboardInterrupt\u001b[0m: "
     ]
    }
   ],
   "source": [
    "if __name__ == '__main__':\n",
    "    errors = []\n",
    "    mesh = igl.read_triangle_mesh(\"source_models/bunny.ply\")\n",
    "    num_submeshes = round(len(mesh[0])/50)\n",
    "    strengths = [x * 1 for x in range(1, 11)]\n",
    "    print(strengths)\n",
    "    print(mesh[0])\n",
    "    print(mesh[1])\n",
    "    for i in strengths:\n",
    "        errors.append(embed_and_extract(num_submeshes,i))\n",
    "\n",
    "    \n",
    "    x = strengths        \n",
    "    y = errors\n",
    "    plt.title(\"Number of errors by strength\") \n",
    "    plt.xlabel(\"Strength\") \n",
    "    plt.ylabel(\"Errors\") \n",
    "    plt.plot(x,y)\n",
    "    plt.show()\n"
   ]
  },
  {
   "cell_type": "code",
   "execution_count": null,
   "id": "f3ffdc3c",
   "metadata": {},
   "outputs": [],
   "source": []
  },
  {
   "cell_type": "code",
   "execution_count": null,
   "id": "63b23130",
   "metadata": {},
   "outputs": [],
   "source": []
  }
 ],
 "metadata": {
  "kernelspec": {
   "display_name": "Python 3 (ipykernel)",
   "language": "python",
   "name": "python3"
  },
  "language_info": {
   "codemirror_mode": {
    "name": "ipython",
    "version": 3
   },
   "file_extension": ".py",
   "mimetype": "text/x-python",
   "name": "python",
   "nbconvert_exporter": "python",
   "pygments_lexer": "ipython3",
   "version": "3.9.7"
  }
 },
 "nbformat": 4,
 "nbformat_minor": 5
}
