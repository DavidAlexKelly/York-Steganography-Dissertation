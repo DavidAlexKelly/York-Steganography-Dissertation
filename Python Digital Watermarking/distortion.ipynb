{
 "cells": [
  {
   "cell_type": "code",
   "execution_count": null,
   "id": "77fe153f",
   "metadata": {},
   "outputs": [],
   "source": [
    "import numpy as np\n",
    "from scipy import spatial\n",
    "import import_ipynb\n",
    "import igl"
   ]
  },
  {
   "cell_type": "code",
   "execution_count": null,
   "id": "2d7ddf58",
   "metadata": {},
   "outputs": [],
   "source": [
    "def rms_error(original_mesh, watermarked_mesh):\n",
    "\n",
    "    squared_distance = 0\n",
    "    for i in range(len(original_mesh[0])) :\n",
    "        squared_distance += spatial.distance.euclidean(original_mesh[0][i], watermarked_mesh[0][i])**2\n",
    "    mean_squared_distance = squared_distance/len(original_mesh)\n",
    "    distance = np.sqrt(squared_distance)\n",
    "\n",
    "    return distance"
   ]
  },
  {
   "cell_type": "code",
   "execution_count": null,
   "id": "48ce1dea",
   "metadata": {},
   "outputs": [],
   "source": [
    "def hausdorff_distance(original_mesh, watermarked_mesh):\n",
    "\n",
    "    d1 = 0\n",
    "    d2 = 0\n",
    "\n",
    "    original_tree = spatial.KDTree(original_mesh[0])\n",
    "    watermarked_tree = spatial.KDTree(watermarked_mesh[0])\n",
    "\n",
    "    for vertice in original_mesh[0]:\n",
    "        closest_point = watermarked_mesh[0][watermarked_tree.query(vertice)[1]]\n",
    "        dist = spatial.distance.euclidean(vertice, closest_point)\n",
    "        d1 = max(d1, dist)\n",
    "\n",
    "    for vertice in watermarked_mesh[0]:\n",
    "        closest_point = original_mesh[0][original_tree.query(vertice)[1]]\n",
    "        dist = spatial.distance.euclidean(vertice, closest_point)\n",
    "        d2 = max(d2, dist)\n",
    "\n",
    "    return max(d1, d2)"
   ]
  },
  {
   "cell_type": "code",
   "execution_count": null,
   "id": "b016a988",
   "metadata": {},
   "outputs": [],
   "source": []
  },
  {
   "cell_type": "code",
   "execution_count": null,
   "id": "052f3d15",
   "metadata": {},
   "outputs": [],
   "source": []
  },
  {
   "cell_type": "code",
   "execution_count": null,
   "id": "274364ca",
   "metadata": {},
   "outputs": [],
   "source": []
  },
  {
   "cell_type": "code",
   "execution_count": null,
   "id": "d3937a54",
   "metadata": {},
   "outputs": [],
   "source": []
  }
 ],
 "metadata": {
  "kernelspec": {
   "display_name": "Python 3",
   "language": "python",
   "name": "python3"
  },
  "language_info": {
   "codemirror_mode": {
    "name": "ipython",
    "version": 3
   },
   "file_extension": ".py",
   "mimetype": "text/x-python",
   "name": "python",
   "nbconvert_exporter": "python",
   "pygments_lexer": "ipython3",
   "version": "3.6.13"
  }
 },
 "nbformat": 4,
 "nbformat_minor": 5
}
