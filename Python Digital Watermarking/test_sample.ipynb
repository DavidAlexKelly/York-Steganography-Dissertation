{
 "cells": [
  {
   "cell_type": "code",
   "execution_count": 1,
   "id": "b87465fe",
   "metadata": {},
   "outputs": [
    {
     "name": "stdout",
     "output_type": "stream",
     "text": [
      "importing Jupyter notebook from partitioning.ipynb\n",
      "importing Jupyter notebook from spectral_decomposition.ipynb\n",
      "importing Jupyter notebook from embedding.ipynb\n",
      "importing Jupyter notebook from retrieval.ipynb\n",
      "importing Jupyter notebook from distortion.ipynb\n",
      "importing Jupyter notebook from attacks.ipynb\n"
     ]
    }
   ],
   "source": [
    "import random\n",
    "import os\n",
    "import sys\n",
    "import time\n",
    "import meshplot as mp\n",
    "import import_ipynb\n",
    "import igl\n",
    "import matplotlib.pyplot as plt\n",
    "\n",
    "\n",
    "import partitioning\n",
    "import spectral_decomposition\n",
    "import distortion\n",
    "import attacks\n"
   ]
  },
  {
   "cell_type": "code",
   "execution_count": 2,
   "id": "7c862ef1",
   "metadata": {},
   "outputs": [],
   "source": [
    "def embed_and_extract(patches = 60,strength = 100,data = [0, 1]*32):\n",
    "    embed(patches,strength)\n",
    "    errors = extract(patches,strength)\n",
    "    return errors\n",
    "  "
   ]
  },
  {
   "cell_type": "code",
   "execution_count": 3,
   "id": "575f9024",
   "metadata": {},
   "outputs": [],
   "source": [
    "def embed(patches = 60,strength = 100,data = [0, 1]*32):\n",
    "\n",
    "    original_filename = \"source_models/bunny.ply\"\n",
    "    watermarked_filename = \"watermarked_models/bunny_strength\"+str(strength)+ \"_patches\" + str(patches) + \".ply\"\n",
    "\n",
    "    # Insertion of the watermark\n",
    "    embed_start = time.time()\n",
    "    capacity = spectral_decomposition.insert(original_filename, watermarked_filename, data, 123456, strength, patches)\n",
    "    embed_end = time.time()\n",
    "    \n",
    "    print(capacity,\" bits inserted\")\n",
    "    print(\" \")\n",
    "    print(\"Time to embed watermark: \", embed_end - embed_start)\n",
    "    print(\" \")\n",
    "    print(\" \")\n",
    "    "
   ]
  },
  {
   "cell_type": "code",
   "execution_count": 4,
   "id": "e3437578",
   "metadata": {},
   "outputs": [],
   "source": [
    "def extract(patches = 60,strength = 100,data = [0, 1]*32):\n",
    "    \n",
    "    original_filename = \"source_models/bunny.ply\"\n",
    "    watermarked_filename = \"watermarked_models/bunny_strength\"+str(strength)+ \"_patches\" + str(patches) + \".ply\"\n",
    "    \n",
    "     # Extraction of the watermark\n",
    "    extract_start = time.time()\n",
    "    retrieved = spectral_decomposition.extract(watermarked_filename, 123456, 64, strength, patches,original_filename)\n",
    "    extract_end = time.time()\n",
    "    \n",
    "    print(\"Time taken to embed watermark: \", extract_end - extract_start)\n",
    "    print(\" \")\n",
    "    \n",
    "    # Compute the number of errors\n",
    "    errors = 0\n",
    "    for i in range(len(data)):\n",
    "        if data[i] != retrieved[i]:\n",
    "            errors +=1\n",
    "            \n",
    "    original_mesh = igl.read_triangle_mesh(original_filename)\n",
    "    watermarked_mesh = igl.read_triangle_mesh(watermarked_filename)\n",
    "\n",
    "    rms = distortion.rms_error(original_mesh, watermarked_mesh)\n",
    "    print(\"RMS Error Computed: \",rms)\n",
    "    print(\" \")\n",
    "    \n",
    "    hausdorff = distortion.hausdorff_distance(original_mesh, watermarked_mesh)\n",
    "    print(\"Hausdorff Distance Computed: \", hausdorff)\n",
    "    print(\" \")\n",
    "    \n",
    "    smoothness = distortion.local_smoothness(original_mesh, watermarked_mesh)\n",
    "    print(\"Local Smoothness Computed \", smoothness)\n",
    "    print(\" \")\n",
    "    \n",
    "    print(\"number of errors: \", errors)\n",
    "    print(\" \")\n",
    "    \n",
    "    print(\"Original Mesh\")\n",
    "    mp.plot(original_mesh[0],original_mesh[1])\n",
    "    print(\" \")\n",
    "    \n",
    "    print(\"Watermarked Mesh\")\n",
    "    mp.plot(watermarked_mesh[0],watermarked_mesh[1])\n",
    "    \n",
    "    return errors"
   ]
  },
  {
   "cell_type": "code",
   "execution_count": 5,
   "id": "5267d4e5",
   "metadata": {},
   "outputs": [],
   "source": [
    "def noise_attack():\n",
    "    \n",
    "    data = [0, 1]*32\n",
    "    \n",
    "    patches = 20\n",
    "    strength = 5\n",
    "    amplitude = 0.001\n",
    "    \n",
    "    in_name = \"source_models/bunny.ply\"\n",
    "    filename = \"watermarked_models/bunny_strength\"+str(strength)+ \"_patches\" + str(patches) + \".ply\"\n",
    "    original_mesh = igl.read_triangle_mesh(in_name)\n",
    "\n",
    "    watermarked_mesh = igl.read_triangle_mesh(filename)\n",
    "    watermarkedVertices = watermarked_mesh[0]\n",
    "    watermarkedFaces = watermarked_mesh[1]\n",
    "    \n",
    "    file_noisy = \"watermarked_models/bunny_strength\"+str(strength)+ \"_patches\" + str(patches) + \"_amplitude\" + str(amplitude) + \".ply\"\n",
    "    # Add random noise to the model then save it\n",
    "    noise_mesh = attacks.noise(watermarked_mesh, amplitude)\n",
    "    mp.plot(noise_mesh[0],noise_mesh[1])\n",
    "    igl.write_triangle_mesh(file_noisy,noise_mesh[0],noise_mesh[1])\n",
    "    # Extraction of the watermark\n",
    "    retrieved = spectral_decomposition.extract(file_noisy, 123456, 64, strength, patches,in_name)\n",
    "    # Compute the number of errors\n",
    "    n_errors = len([x for x, y in zip(data, retrieved) if x != y])\n",
    "    # Write the results to a file\n",
    "    print(\"Number of errors: \",n_errors)\n",
    "        "
   ]
  },
  {
   "cell_type": "code",
   "execution_count": 6,
   "id": "2657fa66",
   "metadata": {},
   "outputs": [],
   "source": [
    "def smooth_attack():\n",
    "    \n",
    "    data = [0, 1]*32\n",
    "    \n",
    "    patches = 60\n",
    "    strength = 100\n",
    "    iterations = 1\n",
    "\n",
    "    in_name = \"source_models/hand.ply\"\n",
    "    filename = \"watermarked_models/hand_strength\"+str(strength)+ \"_patches\" + str(patches) + \".ply\"\n",
    "    original_mesh = igl.read_triangle_mesh(in_name)\n",
    "\n",
    "    watermarked_mesh = igl.read_triangle_mesh(filename)\n",
    "    watermarkedVertices = watermarked_mesh[0]\n",
    "    watermarkedFaces = watermarked_mesh[1]\n",
    "       \n",
    "    file_smoothed = \"watermarked_models/bunny_strength\"+str(strength)+ \"_patches\" + str(patches) + \"_iterations\" + str(iterations) + \".ply\"\n",
    "    # Smooth the model then save it\n",
    "\n",
    "    new_mesh = attacks.smoothing(watermarked_mesh, iterations)\n",
    "    mp.plot(new_mesh[0],new_mesh[1])\n",
    "    igl.write_triangle_mesh(file_smoothed, new_mesh[0], new_mesh[1])\n",
    "    # Extraction of the watermark\n",
    "    retrieved = spectral_decomposition.extract(file_smoothed, 123456, 64, strength, patches,in_name)\n",
    "    # Compute the number of errors\n",
    "    n_errors = len([x for x, y in zip(data, retrieved) if x != y])\n",
    "    # Write the results to a file\n",
    "    print(\"Number of errors: \",n_errors)\n",
    "    "
   ]
  },
  {
   "cell_type": "code",
   "execution_count": 7,
   "id": "3219b0f8",
   "metadata": {
    "scrolled": false
   },
   "outputs": [
    {
     "name": "stdout",
     "output_type": "stream",
     "text": [
      "[0.0, 0.001, 0.002, 0.003, 0.004, 0.005, 0.006, 0.007, 0.008, 0.009000000000000001, 0.01]\n",
      "[[-0.0378297   0.12794     0.00447467]\n",
      " [-0.0447794   0.128887    0.00190497]\n",
      " [-0.0680095   0.151244    0.0371953 ]\n",
      " ...\n",
      " [-0.0704544   0.150585   -0.0434585 ]\n",
      " [-0.0310262   0.15372799 -0.00354608]\n",
      " [-0.0400442   0.15362    -0.00816685]]\n",
      "[[20399 21215 21216]\n",
      " [14838  9280  9186]\n",
      " [ 5187 13433 16020]\n",
      " ...\n",
      " [17279 34909 17346]\n",
      " [17277 17346 34909]\n",
      " [17345 17346 17277]]\n",
      "Partitioning mesh...\n",
      "35947\n",
      "69451\n"
     ]
    },
    {
     "data": {
      "application/vnd.jupyter.widget-view+json": {
       "model_id": "b2366fc2ef7e4e6bb39e3eb2b3bed16d",
       "version_major": 2,
       "version_minor": 0
      },
      "text/plain": [
       "Renderer(camera=PerspectiveCamera(children=(DirectionalLight(color='white', intensity=0.6, position=(-0.016840…"
      ]
     },
     "metadata": {},
     "output_type": "display_data"
    },
    {
     "name": "stdout",
     "output_type": "stream",
     "text": [
      "Step 1: Mesh patched\n",
      "Inserting data in  72  submeshes\n",
      "Data inserted\n",
      "Only %s bits inserted, the bit error rate when retriving data might be significant 0\n",
      "########## Embedding finished ##########\n",
      "0  bits inserted\n",
      " \n",
      "Time to embed watermark:  23.78158140182495\n",
      " \n",
      " \n",
      "########## Retrieval started ##########\n",
      "35947\n",
      "69451\n"
     ]
    },
    {
     "data": {
      "application/vnd.jupyter.widget-view+json": {
       "model_id": "2195fc45196548eeb4a66d0f0658603f",
       "version_major": 2,
       "version_minor": 0
      },
      "text/plain": [
       "Renderer(camera=PerspectiveCamera(children=(DirectionalLight(color='white', intensity=0.6, position=(-0.016840…"
      ]
     },
     "metadata": {},
     "output_type": "display_data"
    },
    {
     "name": "stdout",
     "output_type": "stream",
     "text": [
      "Step 1: Mesh patched\n",
      "Step 2: Data retrieved\n",
      "########## Retrieval finished ##########\n",
      "Time taken to embed watermark:  24.802305936813354\n",
      " \n",
      "RMS Error Computed:  4.315823627187902\n",
      " \n",
      "Hausdorff Distance Computed:  0.03454435636401416\n",
      " \n",
      "Local Smoothness Computed  0.0037839507792421186\n",
      " \n",
      "number of errors:  32\n",
      " \n",
      "Original Mesh\n"
     ]
    },
    {
     "data": {
      "application/vnd.jupyter.widget-view+json": {
       "model_id": "97f5be0f2b7242828b4f57346236edd6",
       "version_major": 2,
       "version_minor": 0
      },
      "text/plain": [
       "Renderer(camera=PerspectiveCamera(children=(DirectionalLight(color='white', intensity=0.6, position=(-0.016840…"
      ]
     },
     "metadata": {},
     "output_type": "display_data"
    },
    {
     "name": "stdout",
     "output_type": "stream",
     "text": [
      " \n",
      "Watermarked Mesh\n"
     ]
    },
    {
     "data": {
      "application/vnd.jupyter.widget-view+json": {
       "model_id": "5d7ac2afc8f84bf6958bf8556a7ea33d",
       "version_major": 2,
       "version_minor": 0
      },
      "text/plain": [
       "Renderer(camera=PerspectiveCamera(children=(DirectionalLight(color='white', intensity=0.6, position=(-0.016840…"
      ]
     },
     "metadata": {},
     "output_type": "display_data"
    },
    {
     "name": "stdout",
     "output_type": "stream",
     "text": [
      "Partitioning mesh...\n",
      "35947\n",
      "69451\n"
     ]
    },
    {
     "data": {
      "application/vnd.jupyter.widget-view+json": {
       "model_id": "ed86132cdb4b456cb97e0bcd26646da0",
       "version_major": 2,
       "version_minor": 0
      },
      "text/plain": [
       "Renderer(camera=PerspectiveCamera(children=(DirectionalLight(color='white', intensity=0.6, position=(-0.016840…"
      ]
     },
     "metadata": {},
     "output_type": "display_data"
    },
    {
     "name": "stdout",
     "output_type": "stream",
     "text": [
      "Step 1: Mesh patched\n",
      "Inserting data in  72  submeshes\n",
      "Data inserted\n",
      "########## Embedding finished ##########\n",
      "72  bits inserted\n",
      " \n",
      "Time to embed watermark:  42.92881631851196\n",
      " \n",
      " \n",
      "########## Retrieval started ##########\n",
      "35947\n",
      "69451\n"
     ]
    },
    {
     "data": {
      "application/vnd.jupyter.widget-view+json": {
       "model_id": "09fdb67bb4b74c5dba8070aeae01e52d",
       "version_major": 2,
       "version_minor": 0
      },
      "text/plain": [
       "Renderer(camera=PerspectiveCamera(children=(DirectionalLight(color='white', intensity=0.6, position=(-0.016840…"
      ]
     },
     "metadata": {},
     "output_type": "display_data"
    },
    {
     "name": "stdout",
     "output_type": "stream",
     "text": [
      "Step 1: Mesh patched\n",
      "Step 2: Data retrieved\n",
      "########## Retrieval finished ##########\n",
      "Time taken to embed watermark:  25.12161946296692\n",
      " \n",
      "RMS Error Computed:  4.315823883282038\n",
      " \n",
      "Hausdorff Distance Computed:  0.03454435636401416\n",
      " \n",
      "Local Smoothness Computed  0.0037870998657202116\n",
      " \n",
      "number of errors:  14\n",
      " \n",
      "Original Mesh\n"
     ]
    },
    {
     "data": {
      "application/vnd.jupyter.widget-view+json": {
       "model_id": "a57d60f653014b009d358e37cd192dc9",
       "version_major": 2,
       "version_minor": 0
      },
      "text/plain": [
       "Renderer(camera=PerspectiveCamera(children=(DirectionalLight(color='white', intensity=0.6, position=(-0.016840…"
      ]
     },
     "metadata": {},
     "output_type": "display_data"
    },
    {
     "name": "stdout",
     "output_type": "stream",
     "text": [
      " \n",
      "Watermarked Mesh\n"
     ]
    },
    {
     "data": {
      "application/vnd.jupyter.widget-view+json": {
       "model_id": "493058fc2d2d494488599c1498dc1cf7",
       "version_major": 2,
       "version_minor": 0
      },
      "text/plain": [
       "Renderer(camera=PerspectiveCamera(children=(DirectionalLight(color='white', intensity=0.6, position=(-0.016840…"
      ]
     },
     "metadata": {},
     "output_type": "display_data"
    },
    {
     "name": "stdout",
     "output_type": "stream",
     "text": [
      "Partitioning mesh...\n",
      "35947\n",
      "69451\n"
     ]
    },
    {
     "data": {
      "application/vnd.jupyter.widget-view+json": {
       "model_id": "f9e4db2090594a63ad312536a515af42",
       "version_major": 2,
       "version_minor": 0
      },
      "text/plain": [
       "Renderer(camera=PerspectiveCamera(children=(DirectionalLight(color='white', intensity=0.6, position=(-0.016840…"
      ]
     },
     "metadata": {},
     "output_type": "display_data"
    },
    {
     "name": "stdout",
     "output_type": "stream",
     "text": [
      "Step 1: Mesh patched\n",
      "Inserting data in  72  submeshes\n",
      "Data inserted\n",
      "########## Embedding finished ##########\n",
      "113  bits inserted\n",
      " \n",
      "Time to embed watermark:  36.157095193862915\n",
      " \n",
      " \n",
      "########## Retrieval started ##########\n",
      "35947\n",
      "69451\n"
     ]
    },
    {
     "data": {
      "application/vnd.jupyter.widget-view+json": {
       "model_id": "a9b915d3be2249d3948770fcb47ec81b",
       "version_major": 2,
       "version_minor": 0
      },
      "text/plain": [
       "Renderer(camera=PerspectiveCamera(children=(DirectionalLight(color='white', intensity=0.6, position=(-0.016840…"
      ]
     },
     "metadata": {},
     "output_type": "display_data"
    },
    {
     "name": "stdout",
     "output_type": "stream",
     "text": [
      "Step 1: Mesh patched\n",
      "Step 2: Data retrieved\n",
      "########## Retrieval finished ##########\n",
      "Time taken to embed watermark:  27.540111541748047\n",
      " \n",
      "RMS Error Computed:  4.315824323098201\n",
      " \n",
      "Hausdorff Distance Computed:  0.03454435636401416\n",
      " \n",
      "Local Smoothness Computed  0.0037900786046315377\n",
      " \n",
      "number of errors:  6\n",
      " \n",
      "Original Mesh\n"
     ]
    },
    {
     "data": {
      "application/vnd.jupyter.widget-view+json": {
       "model_id": "7fc7527cf1e24f339cc79cffba5508ce",
       "version_major": 2,
       "version_minor": 0
      },
      "text/plain": [
       "Renderer(camera=PerspectiveCamera(children=(DirectionalLight(color='white', intensity=0.6, position=(-0.016840…"
      ]
     },
     "metadata": {},
     "output_type": "display_data"
    },
    {
     "name": "stdout",
     "output_type": "stream",
     "text": [
      " \n",
      "Watermarked Mesh\n"
     ]
    },
    {
     "data": {
      "application/vnd.jupyter.widget-view+json": {
       "model_id": "2ab65349d29f42c88ca77cc323407240",
       "version_major": 2,
       "version_minor": 0
      },
      "text/plain": [
       "Renderer(camera=PerspectiveCamera(children=(DirectionalLight(color='white', intensity=0.6, position=(-0.016840…"
      ]
     },
     "metadata": {},
     "output_type": "display_data"
    },
    {
     "name": "stdout",
     "output_type": "stream",
     "text": [
      "Partitioning mesh...\n",
      "35947\n",
      "69451\n"
     ]
    },
    {
     "data": {
      "application/vnd.jupyter.widget-view+json": {
       "model_id": "9f0c3dbfce2a49d892e9016a76edbdcb",
       "version_major": 2,
       "version_minor": 0
      },
      "text/plain": [
       "Renderer(camera=PerspectiveCamera(children=(DirectionalLight(color='white', intensity=0.6, position=(-0.016840…"
      ]
     },
     "metadata": {},
     "output_type": "display_data"
    },
    {
     "name": "stdout",
     "output_type": "stream",
     "text": [
      "Step 1: Mesh patched\n",
      "Inserting data in  72  submeshes\n",
      "Data inserted\n",
      "########## Embedding finished ##########\n",
      "153  bits inserted\n",
      " \n",
      "Time to embed watermark:  30.053536415100098\n",
      " \n",
      " \n",
      "########## Retrieval started ##########\n",
      "35947\n",
      "69451\n"
     ]
    },
    {
     "data": {
      "application/vnd.jupyter.widget-view+json": {
       "model_id": "ad69f33f3a884356893b4097804b6d78",
       "version_major": 2,
       "version_minor": 0
      },
      "text/plain": [
       "Renderer(camera=PerspectiveCamera(children=(DirectionalLight(color='white', intensity=0.6, position=(-0.016840…"
      ]
     },
     "metadata": {},
     "output_type": "display_data"
    },
    {
     "name": "stdout",
     "output_type": "stream",
     "text": [
      "Step 1: Mesh patched\n",
      "Step 2: Data retrieved\n",
      "########## Retrieval finished ##########\n",
      "Time taken to embed watermark:  18.413551568984985\n",
      " \n",
      "RMS Error Computed:  4.315824481349162\n",
      " \n",
      "Hausdorff Distance Computed:  0.03454435636401416\n",
      " \n",
      "Local Smoothness Computed  0.0037919460728044227\n",
      " \n",
      "number of errors:  5\n",
      " \n",
      "Original Mesh\n"
     ]
    },
    {
     "data": {
      "application/vnd.jupyter.widget-view+json": {
       "model_id": "7c25893094b0453b98c9fea6c7184559",
       "version_major": 2,
       "version_minor": 0
      },
      "text/plain": [
       "Renderer(camera=PerspectiveCamera(children=(DirectionalLight(color='white', intensity=0.6, position=(-0.016840…"
      ]
     },
     "metadata": {},
     "output_type": "display_data"
    },
    {
     "name": "stdout",
     "output_type": "stream",
     "text": [
      " \n",
      "Watermarked Mesh\n"
     ]
    },
    {
     "data": {
      "application/vnd.jupyter.widget-view+json": {
       "model_id": "1717e8e87a1a473a9164650d8b409419",
       "version_major": 2,
       "version_minor": 0
      },
      "text/plain": [
       "Renderer(camera=PerspectiveCamera(children=(DirectionalLight(color='white', intensity=0.6, position=(-0.016840…"
      ]
     },
     "metadata": {},
     "output_type": "display_data"
    },
    {
     "name": "stdout",
     "output_type": "stream",
     "text": [
      "Partitioning mesh...\n",
      "35947\n",
      "69451\n"
     ]
    },
    {
     "data": {
      "application/vnd.jupyter.widget-view+json": {
       "model_id": "43f797ae2165404fbd7fa5ba9c45ce34",
       "version_major": 2,
       "version_minor": 0
      },
      "text/plain": [
       "Renderer(camera=PerspectiveCamera(children=(DirectionalLight(color='white', intensity=0.6, position=(-0.016840…"
      ]
     },
     "metadata": {},
     "output_type": "display_data"
    },
    {
     "name": "stdout",
     "output_type": "stream",
     "text": [
      "Step 1: Mesh patched\n",
      "Inserting data in  72  submeshes\n",
      "Data inserted\n",
      "########## Embedding finished ##########\n",
      "187  bits inserted\n",
      " \n",
      "Time to embed watermark:  29.42056179046631\n",
      " \n",
      " \n",
      "########## Retrieval started ##########\n",
      "35947\n",
      "69451\n"
     ]
    },
    {
     "data": {
      "application/vnd.jupyter.widget-view+json": {
       "model_id": "d3de152e3fcf4dd0b59f91b02bde6d1a",
       "version_major": 2,
       "version_minor": 0
      },
      "text/plain": [
       "Renderer(camera=PerspectiveCamera(children=(DirectionalLight(color='white', intensity=0.6, position=(-0.016840…"
      ]
     },
     "metadata": {},
     "output_type": "display_data"
    },
    {
     "name": "stdout",
     "output_type": "stream",
     "text": [
      "Step 1: Mesh patched\n",
      "Step 2: Data retrieved\n",
      "########## Retrieval finished ##########\n",
      "Time taken to embed watermark:  30.394510746002197\n",
      " \n",
      "RMS Error Computed:  4.315824918567341\n",
      " \n",
      "Hausdorff Distance Computed:  0.03454435636401416\n",
      " \n",
      "Local Smoothness Computed  0.003794334080636386\n",
      " \n",
      "number of errors:  6\n",
      " \n",
      "Original Mesh\n"
     ]
    },
    {
     "data": {
      "application/vnd.jupyter.widget-view+json": {
       "model_id": "c360f24154b04213a5ff6b59de94a4d2",
       "version_major": 2,
       "version_minor": 0
      },
      "text/plain": [
       "Renderer(camera=PerspectiveCamera(children=(DirectionalLight(color='white', intensity=0.6, position=(-0.016840…"
      ]
     },
     "metadata": {},
     "output_type": "display_data"
    },
    {
     "name": "stdout",
     "output_type": "stream",
     "text": [
      " \n",
      "Watermarked Mesh\n"
     ]
    },
    {
     "data": {
      "application/vnd.jupyter.widget-view+json": {
       "model_id": "83dd55bdb6f347f4bd440cd83745b3b1",
       "version_major": 2,
       "version_minor": 0
      },
      "text/plain": [
       "Renderer(camera=PerspectiveCamera(children=(DirectionalLight(color='white', intensity=0.6, position=(-0.016840…"
      ]
     },
     "metadata": {},
     "output_type": "display_data"
    },
    {
     "name": "stdout",
     "output_type": "stream",
     "text": [
      "Partitioning mesh...\n",
      "35947\n",
      "69451\n"
     ]
    },
    {
     "data": {
      "application/vnd.jupyter.widget-view+json": {
       "model_id": "13523c63621c4a66a7253d8ffe9f3b1a",
       "version_major": 2,
       "version_minor": 0
      },
      "text/plain": [
       "Renderer(camera=PerspectiveCamera(children=(DirectionalLight(color='white', intensity=0.6, position=(-0.016840…"
      ]
     },
     "metadata": {},
     "output_type": "display_data"
    },
    {
     "name": "stdout",
     "output_type": "stream",
     "text": [
      "Step 1: Mesh patched\n",
      "Inserting data in  72  submeshes\n",
      "Data inserted\n",
      "########## Embedding finished ##########\n",
      "228  bits inserted\n",
      " \n",
      "Time to embed watermark:  25.208174467086792\n",
      " \n",
      " \n",
      "########## Retrieval started ##########\n",
      "35947\n",
      "69451\n"
     ]
    },
    {
     "data": {
      "application/vnd.jupyter.widget-view+json": {
       "model_id": "bf7c701d5ee748a7a06230abb08b7011",
       "version_major": 2,
       "version_minor": 0
      },
      "text/plain": [
       "Renderer(camera=PerspectiveCamera(children=(DirectionalLight(color='white', intensity=0.6, position=(-0.016858…"
      ]
     },
     "metadata": {},
     "output_type": "display_data"
    },
    {
     "name": "stdout",
     "output_type": "stream",
     "text": [
      "Step 1: Mesh patched\n",
      "Step 2: Data retrieved\n",
      "########## Retrieval finished ##########\n",
      "Time taken to embed watermark:  29.903437614440918\n",
      " \n",
      "RMS Error Computed:  4.315825514012628\n",
      " \n",
      "Hausdorff Distance Computed:  0.03454435636401416\n",
      " \n",
      "Local Smoothness Computed  0.003797355014726252\n",
      " \n",
      "number of errors:  5\n",
      " \n",
      "Original Mesh\n"
     ]
    },
    {
     "data": {
      "application/vnd.jupyter.widget-view+json": {
       "model_id": "e6bde20de471419ea17ab022bba34041",
       "version_major": 2,
       "version_minor": 0
      },
      "text/plain": [
       "Renderer(camera=PerspectiveCamera(children=(DirectionalLight(color='white', intensity=0.6, position=(-0.016840…"
      ]
     },
     "metadata": {},
     "output_type": "display_data"
    },
    {
     "name": "stdout",
     "output_type": "stream",
     "text": [
      " \n",
      "Watermarked Mesh\n"
     ]
    },
    {
     "data": {
      "application/vnd.jupyter.widget-view+json": {
       "model_id": "85840e944e764d9184cc48d10b480bce",
       "version_major": 2,
       "version_minor": 0
      },
      "text/plain": [
       "Renderer(camera=PerspectiveCamera(children=(DirectionalLight(color='white', intensity=0.6, position=(-0.016858…"
      ]
     },
     "metadata": {},
     "output_type": "display_data"
    },
    {
     "name": "stdout",
     "output_type": "stream",
     "text": [
      "Partitioning mesh...\n",
      "35947\n",
      "69451\n"
     ]
    },
    {
     "data": {
      "application/vnd.jupyter.widget-view+json": {
       "model_id": "d1574c22b78946859221c9d13dd27af9",
       "version_major": 2,
       "version_minor": 0
      },
      "text/plain": [
       "Renderer(camera=PerspectiveCamera(children=(DirectionalLight(color='white', intensity=0.6, position=(-0.016840…"
      ]
     },
     "metadata": {},
     "output_type": "display_data"
    },
    {
     "name": "stdout",
     "output_type": "stream",
     "text": [
      "Step 1: Mesh patched\n",
      "Inserting data in  72  submeshes\n",
      "Data inserted\n",
      "########## Embedding finished ##########\n",
      "266  bits inserted\n",
      " \n",
      "Time to embed watermark:  36.72211456298828\n",
      " \n",
      " \n",
      "########## Retrieval started ##########\n",
      "35947\n",
      "69451\n"
     ]
    },
    {
     "data": {
      "application/vnd.jupyter.widget-view+json": {
       "model_id": "d45658fee1844a5eafc6ef73dffd4712",
       "version_major": 2,
       "version_minor": 0
      },
      "text/plain": [
       "Renderer(camera=PerspectiveCamera(children=(DirectionalLight(color='white', intensity=0.6, position=(-0.016858…"
      ]
     },
     "metadata": {},
     "output_type": "display_data"
    },
    {
     "name": "stdout",
     "output_type": "stream",
     "text": [
      "Step 1: Mesh patched\n",
      "Step 2: Data retrieved\n",
      "########## Retrieval finished ##########\n",
      "Time taken to embed watermark:  23.561305284500122\n",
      " \n",
      "RMS Error Computed:  4.3158259208076295\n",
      " \n",
      "Hausdorff Distance Computed:  0.03454435636401416\n",
      " \n",
      "Local Smoothness Computed  0.003799398940220688\n",
      " \n",
      "number of errors:  4\n",
      " \n",
      "Original Mesh\n"
     ]
    },
    {
     "data": {
      "application/vnd.jupyter.widget-view+json": {
       "model_id": "c46e12a844e94c37a7da98d4dd03b9aa",
       "version_major": 2,
       "version_minor": 0
      },
      "text/plain": [
       "Renderer(camera=PerspectiveCamera(children=(DirectionalLight(color='white', intensity=0.6, position=(-0.016840…"
      ]
     },
     "metadata": {},
     "output_type": "display_data"
    },
    {
     "name": "stdout",
     "output_type": "stream",
     "text": [
      " \n",
      "Watermarked Mesh\n"
     ]
    },
    {
     "data": {
      "application/vnd.jupyter.widget-view+json": {
       "model_id": "5d276abbb2b74395bd4950d5719dad11",
       "version_major": 2,
       "version_minor": 0
      },
      "text/plain": [
       "Renderer(camera=PerspectiveCamera(children=(DirectionalLight(color='white', intensity=0.6, position=(-0.016858…"
      ]
     },
     "metadata": {},
     "output_type": "display_data"
    },
    {
     "name": "stdout",
     "output_type": "stream",
     "text": [
      "Partitioning mesh...\n",
      "35947\n",
      "69451\n"
     ]
    },
    {
     "data": {
      "application/vnd.jupyter.widget-view+json": {
       "model_id": "c4af6c8109984e80ab40399338e22f5b",
       "version_major": 2,
       "version_minor": 0
      },
      "text/plain": [
       "Renderer(camera=PerspectiveCamera(children=(DirectionalLight(color='white', intensity=0.6, position=(-0.016840…"
      ]
     },
     "metadata": {},
     "output_type": "display_data"
    },
    {
     "name": "stdout",
     "output_type": "stream",
     "text": [
      "Step 1: Mesh patched\n",
      "Inserting data in  72  submeshes\n",
      "Data inserted\n",
      "########## Embedding finished ##########\n",
      "305  bits inserted\n",
      " \n",
      "Time to embed watermark:  22.154556035995483\n",
      " \n",
      " \n",
      "########## Retrieval started ##########\n",
      "35947\n",
      "69451\n"
     ]
    },
    {
     "data": {
      "application/vnd.jupyter.widget-view+json": {
       "model_id": "999fee0cfdf645678db3d468bc1dc3cf",
       "version_major": 2,
       "version_minor": 0
      },
      "text/plain": [
       "Renderer(camera=PerspectiveCamera(children=(DirectionalLight(color='white', intensity=0.6, position=(-0.016858…"
      ]
     },
     "metadata": {},
     "output_type": "display_data"
    },
    {
     "name": "stdout",
     "output_type": "stream",
     "text": [
      "Step 1: Mesh patched\n",
      "Step 2: Data retrieved\n",
      "########## Retrieval finished ##########\n",
      "Time taken to embed watermark:  29.59736394882202\n",
      " \n",
      "RMS Error Computed:  4.315826326818362\n",
      " \n",
      "Hausdorff Distance Computed:  0.03454435636401416\n",
      " \n",
      "Local Smoothness Computed  0.003801378512319827\n",
      " \n",
      "number of errors:  1\n",
      " \n",
      "Original Mesh\n"
     ]
    },
    {
     "data": {
      "application/vnd.jupyter.widget-view+json": {
       "model_id": "95ed276452234352887c93740258f2bb",
       "version_major": 2,
       "version_minor": 0
      },
      "text/plain": [
       "Renderer(camera=PerspectiveCamera(children=(DirectionalLight(color='white', intensity=0.6, position=(-0.016840…"
      ]
     },
     "metadata": {},
     "output_type": "display_data"
    },
    {
     "name": "stdout",
     "output_type": "stream",
     "text": [
      " \n",
      "Watermarked Mesh\n"
     ]
    },
    {
     "data": {
      "application/vnd.jupyter.widget-view+json": {
       "model_id": "a0a279b4dea4415ea5965384db6013f2",
       "version_major": 2,
       "version_minor": 0
      },
      "text/plain": [
       "Renderer(camera=PerspectiveCamera(children=(DirectionalLight(color='white', intensity=0.6, position=(-0.016858…"
      ]
     },
     "metadata": {},
     "output_type": "display_data"
    },
    {
     "name": "stdout",
     "output_type": "stream",
     "text": [
      "Partitioning mesh...\n",
      "35947\n",
      "69451\n"
     ]
    },
    {
     "data": {
      "application/vnd.jupyter.widget-view+json": {
       "model_id": "c6326395d00a41ba9c72eb79eba17980",
       "version_major": 2,
       "version_minor": 0
      },
      "text/plain": [
       "Renderer(camera=PerspectiveCamera(children=(DirectionalLight(color='white', intensity=0.6, position=(-0.016840…"
      ]
     },
     "metadata": {},
     "output_type": "display_data"
    },
    {
     "name": "stdout",
     "output_type": "stream",
     "text": [
      "Step 1: Mesh patched\n",
      "Inserting data in  72  submeshes\n",
      "Data inserted\n",
      "########## Embedding finished ##########\n",
      "346  bits inserted\n",
      " \n",
      "Time to embed watermark:  50.303386926651\n",
      " \n",
      " \n",
      "########## Retrieval started ##########\n",
      "35947\n",
      "69451\n"
     ]
    },
    {
     "data": {
      "application/vnd.jupyter.widget-view+json": {
       "model_id": "7a84df8a8c9e45998ea81fed0d257708",
       "version_major": 2,
       "version_minor": 0
      },
      "text/plain": [
       "Renderer(camera=PerspectiveCamera(children=(DirectionalLight(color='white', intensity=0.6, position=(-0.016858…"
      ]
     },
     "metadata": {},
     "output_type": "display_data"
    },
    {
     "name": "stdout",
     "output_type": "stream",
     "text": [
      "Step 1: Mesh patched\n",
      "Step 2: Data retrieved\n",
      "########## Retrieval finished ##########\n",
      "Time taken to embed watermark:  22.437129259109497\n",
      " \n",
      "RMS Error Computed:  4.315826763878349\n",
      " \n",
      "Hausdorff Distance Computed:  0.03454435636401416\n",
      " \n",
      "Local Smoothness Computed  0.003803351976333594\n",
      " \n",
      "number of errors:  1\n",
      " \n",
      "Original Mesh\n"
     ]
    },
    {
     "data": {
      "application/vnd.jupyter.widget-view+json": {
       "model_id": "9d0df2c6411a4a7ab46268a2cad1cf70",
       "version_major": 2,
       "version_minor": 0
      },
      "text/plain": [
       "Renderer(camera=PerspectiveCamera(children=(DirectionalLight(color='white', intensity=0.6, position=(-0.016840…"
      ]
     },
     "metadata": {},
     "output_type": "display_data"
    },
    {
     "name": "stdout",
     "output_type": "stream",
     "text": [
      " \n",
      "Watermarked Mesh\n"
     ]
    },
    {
     "data": {
      "application/vnd.jupyter.widget-view+json": {
       "model_id": "5a4e7445f2bb41f9998e6665328d245d",
       "version_major": 2,
       "version_minor": 0
      },
      "text/plain": [
       "Renderer(camera=PerspectiveCamera(children=(DirectionalLight(color='white', intensity=0.6, position=(-0.016858…"
      ]
     },
     "metadata": {},
     "output_type": "display_data"
    },
    {
     "name": "stdout",
     "output_type": "stream",
     "text": [
      "Partitioning mesh...\n",
      "35947\n",
      "69451\n"
     ]
    },
    {
     "data": {
      "application/vnd.jupyter.widget-view+json": {
       "model_id": "377e2e8d0f2e44aaa8b229257ca9f49a",
       "version_major": 2,
       "version_minor": 0
      },
      "text/plain": [
       "Renderer(camera=PerspectiveCamera(children=(DirectionalLight(color='white', intensity=0.6, position=(-0.016840…"
      ]
     },
     "metadata": {},
     "output_type": "display_data"
    },
    {
     "name": "stdout",
     "output_type": "stream",
     "text": [
      "Step 1: Mesh patched\n",
      "Inserting data in  72  submeshes\n",
      "Data inserted\n",
      "########## Embedding finished ##########\n",
      "385  bits inserted\n",
      " \n",
      "Time to embed watermark:  35.493810176849365\n",
      " \n",
      " \n",
      "########## Retrieval started ##########\n",
      "35947\n",
      "69451\n"
     ]
    },
    {
     "data": {
      "application/vnd.jupyter.widget-view+json": {
       "model_id": "6df10b6038d346239a61d74b51771d8d",
       "version_major": 2,
       "version_minor": 0
      },
      "text/plain": [
       "Renderer(camera=PerspectiveCamera(children=(DirectionalLight(color='white', intensity=0.6, position=(-0.016858…"
      ]
     },
     "metadata": {},
     "output_type": "display_data"
    },
    {
     "name": "stdout",
     "output_type": "stream",
     "text": [
      "Step 1: Mesh patched\n",
      "Step 2: Data retrieved\n",
      "########## Retrieval finished ##########\n",
      "Time taken to embed watermark:  19.16481637954712\n",
      " \n",
      "RMS Error Computed:  4.3158270924291475\n",
      " \n",
      "Hausdorff Distance Computed:  0.03454435636401416\n",
      " \n",
      "Local Smoothness Computed  0.0038046476815383292\n",
      " \n",
      "number of errors:  2\n",
      " \n",
      "Original Mesh\n"
     ]
    },
    {
     "data": {
      "application/vnd.jupyter.widget-view+json": {
       "model_id": "bb314d5f4fcf42fea600fdf7481b7375",
       "version_major": 2,
       "version_minor": 0
      },
      "text/plain": [
       "Renderer(camera=PerspectiveCamera(children=(DirectionalLight(color='white', intensity=0.6, position=(-0.016840…"
      ]
     },
     "metadata": {},
     "output_type": "display_data"
    },
    {
     "name": "stdout",
     "output_type": "stream",
     "text": [
      " \n",
      "Watermarked Mesh\n"
     ]
    },
    {
     "data": {
      "application/vnd.jupyter.widget-view+json": {
       "model_id": "90e3fdfc38c04e76a4071e2c23225c20",
       "version_major": 2,
       "version_minor": 0
      },
      "text/plain": [
       "Renderer(camera=PerspectiveCamera(children=(DirectionalLight(color='white', intensity=0.6, position=(-0.016858…"
      ]
     },
     "metadata": {},
     "output_type": "display_data"
    },
    {
     "name": "stdout",
     "output_type": "stream",
     "text": [
      "Partitioning mesh...\n",
      "35947\n",
      "69451\n"
     ]
    },
    {
     "data": {
      "application/vnd.jupyter.widget-view+json": {
       "model_id": "66bb325e666248529fcabe8db9233e53",
       "version_major": 2,
       "version_minor": 0
      },
      "text/plain": [
       "Renderer(camera=PerspectiveCamera(children=(DirectionalLight(color='white', intensity=0.6, position=(-0.016840…"
      ]
     },
     "metadata": {},
     "output_type": "display_data"
    },
    {
     "name": "stdout",
     "output_type": "stream",
     "text": [
      "Step 1: Mesh patched\n",
      "Inserting data in  72  submeshes\n",
      "Data inserted\n",
      "########## Embedding finished ##########\n",
      "420  bits inserted\n",
      " \n",
      "Time to embed watermark:  29.352813243865967\n",
      " \n",
      " \n",
      "########## Retrieval started ##########\n",
      "35947\n",
      "69451\n"
     ]
    },
    {
     "data": {
      "application/vnd.jupyter.widget-view+json": {
       "model_id": "e7e4b1d98d2140f7ba8638b81a026159",
       "version_major": 2,
       "version_minor": 0
      },
      "text/plain": [
       "Renderer(camera=PerspectiveCamera(children=(DirectionalLight(color='white', intensity=0.6, position=(-0.016870…"
      ]
     },
     "metadata": {},
     "output_type": "display_data"
    },
    {
     "name": "stdout",
     "output_type": "stream",
     "text": [
      "Step 1: Mesh patched\n",
      "Step 2: Data retrieved\n",
      "########## Retrieval finished ##########\n",
      "Time taken to embed watermark:  17.281604766845703\n",
      " \n",
      "RMS Error Computed:  4.315827440053198\n",
      " \n",
      "Hausdorff Distance Computed:  0.03454435636401416\n",
      " \n",
      "Local Smoothness Computed  0.0038061225263676893\n",
      " \n",
      "number of errors:  0\n",
      " \n",
      "Original Mesh\n"
     ]
    },
    {
     "data": {
      "application/vnd.jupyter.widget-view+json": {
       "model_id": "2a0d8e148f9a42ad878fb06b96939375",
       "version_major": 2,
       "version_minor": 0
      },
      "text/plain": [
       "Renderer(camera=PerspectiveCamera(children=(DirectionalLight(color='white', intensity=0.6, position=(-0.016840…"
      ]
     },
     "metadata": {},
     "output_type": "display_data"
    },
    {
     "name": "stdout",
     "output_type": "stream",
     "text": [
      " \n",
      "Watermarked Mesh\n"
     ]
    },
    {
     "data": {
      "application/vnd.jupyter.widget-view+json": {
       "model_id": "7a3092f3d97844afb3cb51bdc56bd980",
       "version_major": 2,
       "version_minor": 0
      },
      "text/plain": [
       "Renderer(camera=PerspectiveCamera(children=(DirectionalLight(color='white', intensity=0.6, position=(-0.016870…"
      ]
     },
     "metadata": {},
     "output_type": "display_data"
    },
    {
     "data": {
      "image/png": "[encoded data removed]",
      "text/plain": [
       "<Figure size 432x288 with 1 Axes>"
      ]
     },
     "metadata": {
      "needs_background": "light"
     },
     "output_type": "display_data"
    }
   ],
   "source": [
    "if __name__ == '__main__':\n",
    "    errors = []\n",
    "    mesh = igl.read_triangle_mesh(\"source_models/bunny.ply\")\n",
    "    num_submeshes = round(len(mesh[0])/500)\n",
    "    strengths = [x * 0.001 for x in range(0, 11)]\n",
    "    print(strengths)\n",
    "    print(mesh[0])\n",
    "    print(mesh[1])\n",
    "    for i in strengths:\n",
    "        errors.append(embed_and_extract(num_submeshes,i))\n",
    "\n",
    "    \n",
    "    x = strengths        \n",
    "    y = errors\n",
    "    plt.title(\"Number of errors by strength\") \n",
    "    plt.xlabel(\"Strength\") \n",
    "    plt.ylabel(\"Errors\") \n",
    "    plt.plot(x,y)\n",
    "    plt.show()\n"
   ]
  },
  {
   "cell_type": "code",
   "execution_count": null,
   "id": "f3ffdc3c",
   "metadata": {},
   "outputs": [],
   "source": []
  },
  {
   "cell_type": "code",
   "execution_count": null,
   "id": "63b23130",
   "metadata": {},
   "outputs": [],
   "source": []
  }
 ],
 "metadata": {
  "kernelspec": {
   "display_name": "Python 3",
   "language": "python",
   "name": "python3"
  },
  "language_info": {
   "codemirror_mode": {
    "name": "ipython",
    "version": 3
   },
   "file_extension": ".py",
   "mimetype": "text/x-python",
   "name": "python",
   "nbconvert_exporter": "python",
   "pygments_lexer": "ipython3",
   "version": "3.6.13"
  }
 },
 "nbformat": 4,
 "nbformat_minor": 5
}
