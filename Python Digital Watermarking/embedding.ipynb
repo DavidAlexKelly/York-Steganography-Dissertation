{
 "cells": [
  {
   "cell_type": "code",
   "execution_count": null,
   "id": "d4bf1dcc",
   "metadata": {},
   "outputs": [],
   "source": [
    "import numpy as np"
   ]
  },
  {
   "cell_type": "code",
   "execution_count": 1,
   "id": "e5b04058",
   "metadata": {},
   "outputs": [],
   "source": [
    "def embed(S, T, U, data, strength):\n",
    "\n",
    "    ST = np.add(S**2,T**2)\n",
    "    V = np.add(ST,U**2)\n",
    "    threshold = np.percentile(V, strength*100)\n",
    "\n",
    "\n",
    "    count = 0\n",
    "    inserted = 0\n",
    "\n",
    "    for i in range(0, len(S)):\n",
    "\n",
    "        if V[i] >= threshold: \n",
    "            count += 1\n",
    "        \n",
    "        else :            \n",
    "            minimum, intermediate, maximum = sorted([[S[i], 0], [T[i], 1], [U[i], 2]])\n",
    "         \n",
    "            C_min = minimum[0]\n",
    "            C_inter = intermediate[0]\n",
    "            C_max = maximum[0]\n",
    "\n",
    "            Mean = (maximum[0] + minimum[0])/2\n",
    "            \n",
    "            if C_inter < Mean:\n",
    "                Mean = (minimum[0] + Mean)/2\n",
    "            else:\n",
    "                Mean = (maximum[0] + Mean)/2\n",
    "\n",
    "            if data[count%len(data)] == 1:\n",
    "                if C_inter < Mean :\n",
    "                    C_inter = Mean + (Mean - C_inter) \n",
    "            else:\n",
    "                if C_inter > Mean :\n",
    "                    C_inter = Mean - (C_inter - Mean) \n",
    "\n",
    "            values = np.zeros(3)\n",
    "            values[minimum[1]] = C_min\n",
    "            values[intermediate[1]] = C_inter\n",
    "            values[maximum[1]] = C_max                    \n",
    "\n",
    "            [S[i], T[i], U[i]] = values\n",
    "\n",
    "            count += 1\n",
    "            inserted += 1\n",
    "\n",
    "    return S, T, U, inserted"
   ]
  }
 ],
 "metadata": {
  "kernelspec": {
   "display_name": "Python 3",
   "language": "python",
   "name": "python3"
  },
  "language_info": {
   "codemirror_mode": {
    "name": "ipython",
    "version": 3
   },
   "file_extension": ".py",
   "mimetype": "text/x-python",
   "name": "python",
   "nbconvert_exporter": "python",
   "pygments_lexer": "ipython3",
   "version": "3.6.13"
  }
 },
 "nbformat": 4,
 "nbformat_minor": 5
}
